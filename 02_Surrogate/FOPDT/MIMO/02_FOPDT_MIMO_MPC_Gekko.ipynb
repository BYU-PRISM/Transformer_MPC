{
 "cells": [
  {
   "cell_type": "code",
   "execution_count": 1,
   "metadata": {
    "colab": {
     "base_uri": "https://localhost:8080/"
    },
    "executionInfo": {
     "elapsed": 6815,
     "status": "ok",
     "timestamp": 1636743116875,
     "user": {
      "displayName": "Junho Park",
      "photoUrl": "https://lh3.googleusercontent.com/a-/AOh14GhWH0H954i4D0PPc6sNLVFrvhJj0CKnJSQoAJisShY=s64",
      "userId": "07513182812079543524"
     },
     "user_tz": 420
    },
    "id": "TEXRuwVLai9u",
    "outputId": "70a6a21f-c7b9-4050-bde0-d25d6008118e"
   },
   "outputs": [
    {
     "name": "stdout",
     "output_type": "stream",
     "text": [
      "Collecting gekko\n",
      "  Downloading gekko-1.0.1-py3-none-any.whl (12.4 MB)\n",
      "\u001b[K     |████████████████████████████████| 12.4 MB 2.1 MB/s \n",
      "\u001b[?25hRequirement already satisfied: numpy>=1.8 in /usr/local/lib/python3.7/dist-packages (from gekko) (1.19.5)\n",
      "Installing collected packages: gekko\n",
      "Successfully installed gekko-1.0.1\n"
     ]
    }
   ],
   "source": [
    "try:\n",
    "    from gekko import GEKKO\n",
    "except:\n",
    "    !pip install gekko\n",
    "    # restart kernel if this doesn't import\n",
    "    from gekko import GEKKO"
   ]
  },
  {
   "cell_type": "code",
   "execution_count": 2,
   "metadata": {
    "executionInfo": {
     "elapsed": 1006,
     "status": "ok",
     "timestamp": 1636743117876,
     "user": {
      "displayName": "Junho Park",
      "photoUrl": "https://lh3.googleusercontent.com/a-/AOh14GhWH0H954i4D0PPc6sNLVFrvhJj0CKnJSQoAJisShY=s64",
      "userId": "07513182812079543524"
     },
     "user_tz": 420
    },
    "id": "m50fzPxIbQn7"
   },
   "outputs": [],
   "source": [
    "# from gekko import GEKKO\n",
    "import numpy as np\n",
    "import matplotlib.pyplot as plt\n",
    "import pandas as pd\n",
    " \n",
    "from plotly.subplots import make_subplots\n",
    "import plotly.graph_objects as go\n",
    "\n",
    "from pickle import dump, load"
   ]
  },
  {
   "cell_type": "code",
   "execution_count": 3,
   "metadata": {
    "colab": {
     "base_uri": "https://localhost:8080/"
    },
    "executionInfo": {
     "elapsed": 26780,
     "status": "ok",
     "timestamp": 1636743144649,
     "user": {
      "displayName": "Junho Park",
      "photoUrl": "https://lh3.googleusercontent.com/a-/AOh14GhWH0H954i4D0PPc6sNLVFrvhJj0CKnJSQoAJisShY=s64",
      "userId": "07513182812079543524"
     },
     "user_tz": 420
    },
    "id": "xz8JRThMbRZ6",
    "outputId": "33368906-5117-4433-b3ae-65d34c9c6dfd"
   },
   "outputs": [
    {
     "name": "stdout",
     "output_type": "stream",
     "text": [
      "Running on Colab\n",
      "Mounted at /content/drive\n"
     ]
    }
   ],
   "source": [
    "#%% Mount Google drive if you use colab for save and load LSTM models\n",
    "if 'google.colab' in str(get_ipython()):\n",
    "  print('Running on Colab')\n",
    "  from google.colab import drive\n",
    "  drive.mount('/content/drive')\n",
    "    \n",
    "else:\n",
    "  print('Not running on Colab')"
   ]
  },
  {
   "cell_type": "markdown",
   "metadata": {
    "id": "oPIg223Oxcyq"
   },
   "source": [
    "## 1. Create *MIMO* FOPDT Gekko model"
   ]
  },
  {
   "cell_type": "code",
   "execution_count": 4,
   "metadata": {
    "colab": {
     "base_uri": "https://localhost:8080/",
     "height": 265
    },
    "executionInfo": {
     "elapsed": 54553,
     "status": "ok",
     "timestamp": 1636743199188,
     "user": {
      "displayName": "Junho Park",
      "photoUrl": "https://lh3.googleusercontent.com/a-/AOh14GhWH0H954i4D0PPc6sNLVFrvhJj0CKnJSQoAJisShY=s64",
      "userId": "07513182812079543524"
     },
     "user_tz": 420
    },
    "id": "xJli4-3fbdsD",
    "outputId": "96dd420e-7119-4742-ecc0-ed932119f913"
   },
   "outputs": [
    {
     "data": {
      "image/png": "[encoded data removed]",
      "text/plain": [
       "<Figure size 432x288 with 2 Axes>"
      ]
     },
     "metadata": {
      "needs_background": "light"
     },
     "output_type": "display_data"
    }
   ],
   "source": [
    "tf = 60 # fianl time\n",
    "P = 20 # Prediction Horizon\n",
    "m=GEKKO(remote=True)\n",
    "m.time = np.linspace(0,P-1,P)\n",
    "\n",
    "# Process Gain\n",
    "K11 = m.FV(2)\n",
    "K12 = m.FV(.5) \n",
    "K21 = m.FV(.5) \n",
    "K22 = m.FV(2)\n",
    "\n",
    "# Time Constant\n",
    "tau11 = m.FV(5)\n",
    "tau12 = m.FV(5) \n",
    "tau21 = m.FV(5) \n",
    "tau22 = m.FV(5) \n",
    "\n",
    "# # Input Scenario for open-loop\n",
    "# u1_input = np.zeros(tf)\n",
    "# u1_input[5:] = 1\n",
    "# u2_input = np.zeros(tf)\n",
    "# u2_input[15:] = -1\n",
    "\n",
    "# Setpoint Scenario for closed-loop\n",
    "SP1 = np.zeros(tf)\n",
    "SP2 = -np.zeros(tf)\n",
    "\n",
    "SP1[0:] = 0.5\n",
    "SP2[0:] = 0.2\n",
    "SP1[20:] = 0.3\n",
    "SP2[40:] = 0.8\n",
    "\n",
    "# Gekko variables for Input Output\n",
    "y1 = m.CV(0)\n",
    "y2 = m.CV(0)\n",
    "u1 = m.MV(0, lb=0, ub=5)\n",
    "u2 = m.MV(0, lb=0, ub=5)\n",
    "\n",
    "y1.STATUS = 1\n",
    "y2.STATUS = 1\n",
    "\n",
    "u1.STATUS = 1\n",
    "u2.STATUS = 1\n",
    "\n",
    "u1.FSTATUS = 0\n",
    "u2.FSTATUS = 0\n",
    "\n",
    "u1.DCOST = 1e5\n",
    "u2.DCOST = 1e5\n",
    "y1.WSP = 1e6\n",
    "y2.WSP = 1e6\n",
    "\n",
    "#FOPDT Equation\n",
    "m.Equation(y1.dt()+y1 == K11/tau11*u1 + K21/tau21*u2) \n",
    "m.Equation(y2.dt()+y2 == K12/tau12*u1 + K22/tau22*u2) \n",
    "\n",
    "m.options.CV_TYPE = 2\n",
    "m.options.IMODE = 6\n",
    "\n",
    "u1_store = np.ones(tf)*u1.VALUE\n",
    "u2_store = np.ones(tf)*u2.VALUE\n",
    "y1_store = np.ones(tf)*y1.VALUE\n",
    "y2_store = np.ones(tf)*y2.VALUE\n",
    "\n",
    "for i in range(tf):\n",
    "  y1.SP = SP1[i]\n",
    "  y2.SP = SP2[i]\n",
    "  \n",
    "  m.solve(disp=False)\n",
    "  \n",
    "  u1_store[i] = u1.NEWVAL\n",
    "  u2_store[i] = u2.NEWVAL\n",
    "  y1_store[i] = y1.value[1]\n",
    "  y2_store[i] = y2.value[1]\n",
    "\n",
    "plt.figure(0)\n",
    "plt.subplot(2,1,1)\n",
    "plt.plot(SP1, drawstyle='steps')\n",
    "plt.plot(SP2, drawstyle='steps')\n",
    "plt.plot(y1_store)\n",
    "plt.plot(y2_store)\n",
    "plt.legend(['SP1', 'SP2', 'y1', 'y2'])\n",
    "\n",
    "plt.subplot(2,1,2)\n",
    "plt.plot(u1_store, drawstyle='steps')\n",
    "plt.plot(u2_store, drawstyle='steps')\n",
    "plt.legend(['u1', 'u2'])\n",
    "plt.show()"
   ]
  },
  {
   "cell_type": "markdown",
   "metadata": {
    "id": "Q2onyT7qwnDc"
   },
   "source": [
    "## 2. Generating Setpoint Sequence (Full Random or Latin Hypercube Sampling)"
   ]
  },
  {
   "cell_type": "code",
   "execution_count": 5,
   "metadata": {
    "colab": {
     "base_uri": "https://localhost:8080/",
     "height": 265
    },
    "executionInfo": {
     "elapsed": 449,
     "status": "ok",
     "timestamp": 1636743199635,
     "user": {
      "displayName": "Junho Park",
      "photoUrl": "https://lh3.googleusercontent.com/a-/AOh14GhWH0H954i4D0PPc6sNLVFrvhJj0CKnJSQoAJisShY=s64",
      "userId": "07513182812079543524"
     },
     "user_tz": 420
    },
    "id": "V2s6r4eGwM-u",
    "outputId": "fd628ec9-1791-4d62-a331-0690c3b4abe3"
   },
   "outputs": [
    {
     "data": {
      "image/png": "[encoded data removed]",
      "text/plain": [
       "<Figure size 432x288 with 2 Axes>"
      ]
     },
     "metadata": {
      "needs_background": "light"
     },
     "output_type": "display_data"
    }
   ],
   "source": [
    "nstep = 3000 # Choose length of training data \n",
    "\n",
    "# random signal generation\n",
    "\n",
    "nVar = 2 # number of Variables that need random signal\n",
    "random_signal = np.zeros((nVar,nstep))\n",
    "for j in range(nVar):\n",
    "  a_range = [0.2,0.8]\n",
    "  a = np.random.rand(nstep) * (a_range[1]-a_range[0]) + a_range[0] # range for amplitude\n",
    "  a[0] = 0\n",
    "\n",
    "  b_range = [5, 20]\n",
    "  b = np.random.rand(nstep) *(b_range[1]-b_range[0]) + b_range[0] # range for frequency\n",
    "  b = np.round(b)\n",
    "  b = b.astype(int)\n",
    "\n",
    "  b[0] = 0\n",
    "\n",
    "  for i in range(1,np.size(b)):\n",
    "      b[i] = b[i-1]+b[i]\n",
    "\n",
    "  # Random Signal\n",
    "  i=0\n",
    "  while b[i]<np.size(random_signal[j]):\n",
    "      k = b[i]\n",
    "      random_signal[j,k:] = a[i]\n",
    "      i=i+1\n",
    "\n",
    "plt.figure(0) \n",
    "plt.subplot(2,1,1)\n",
    "plt.plot(random_signal[0], drawstyle='steps',label='Random Signal 1')\n",
    "plt.legend()\n",
    "plt.subplot(2,1,2)\n",
    "plt.plot(random_signal[1], drawstyle='steps',label='Random Signal 2')\n",
    "plt.legend()\n",
    "plt.show()"
   ]
  },
  {
   "cell_type": "markdown",
   "metadata": {
    "id": "_0EDzC_65ABx"
   },
   "source": [
    "## 3. Evaluating the Random Setpoints"
   ]
  },
  {
   "cell_type": "code",
   "execution_count": 6,
   "metadata": {
    "colab": {
     "base_uri": "https://localhost:8080/",
     "height": 231
    },
    "executionInfo": {
     "elapsed": 5140135,
     "status": "error",
     "timestamp": 1636748339765,
     "user": {
      "displayName": "Junho Park",
      "photoUrl": "https://lh3.googleusercontent.com/a-/AOh14GhWH0H954i4D0PPc6sNLVFrvhJj0CKnJSQoAJisShY=s64",
      "userId": "07513182812079543524"
     },
     "user_tz": 420
    },
    "id": "ywxIavzJ4_tU",
    "outputId": "effb67e0-a087-44fd-9cd8-5c65a8b907fd"
   },
   "outputs": [
    {
     "ename": "FileNotFoundError",
     "evalue": "ignored",
     "output_type": "error",
     "traceback": [
      "\u001b[0;31m---------------------------------------------------------------------------\u001b[0m",
      "\u001b[0;31mFileNotFoundError\u001b[0m                         Traceback (most recent call last)",
      "\u001b[0;32m<ipython-input-6-ae4a8664e238>\u001b[0m in \u001b[0;36m<module>\u001b[0;34m()\u001b[0m\n\u001b[1;32m     19\u001b[0m \u001b[0;34m\u001b[0m\u001b[0m\n\u001b[1;32m     20\u001b[0m \u001b[0;34m\u001b[0m\u001b[0m\n\u001b[0;32m---> 21\u001b[0;31m \u001b[0mfile\u001b[0m \u001b[0;34m=\u001b[0m \u001b[0mopen\u001b[0m\u001b[0;34m(\u001b[0m\u001b[0mfile\u001b[0m\u001b[0;34m=\u001b[0m\u001b[0;34m'/content/drive/MyDrive/LSTM_MPC/FOPDT/closed_loop_data_1200.pkl'\u001b[0m\u001b[0;34m,\u001b[0m\u001b[0mmode\u001b[0m\u001b[0;34m=\u001b[0m\u001b[0;34m'wb'\u001b[0m\u001b[0;34m)\u001b[0m\u001b[0;34m\u001b[0m\u001b[0;34m\u001b[0m\u001b[0m\n\u001b[0m\u001b[1;32m     22\u001b[0m \u001b[0mdump\u001b[0m\u001b[0;34m(\u001b[0m\u001b[0;34m[\u001b[0m\u001b[0mu1_store\u001b[0m\u001b[0;34m,\u001b[0m \u001b[0mu2_store\u001b[0m\u001b[0;34m,\u001b[0m \u001b[0my1_store\u001b[0m\u001b[0;34m,\u001b[0m \u001b[0my2_store\u001b[0m\u001b[0;34m,\u001b[0m \u001b[0mSP1\u001b[0m\u001b[0;34m,\u001b[0m \u001b[0mSP2\u001b[0m\u001b[0;34m]\u001b[0m\u001b[0;34m,\u001b[0m \u001b[0mfile\u001b[0m\u001b[0;34m)\u001b[0m\u001b[0;34m\u001b[0m\u001b[0;34m\u001b[0m\u001b[0m\n\u001b[1;32m     23\u001b[0m \u001b[0mfile\u001b[0m\u001b[0;34m.\u001b[0m\u001b[0mclose\u001b[0m\u001b[0;34m(\u001b[0m\u001b[0;34m)\u001b[0m\u001b[0;34m\u001b[0m\u001b[0;34m\u001b[0m\u001b[0m\n",
      "\u001b[0;31mFileNotFoundError\u001b[0m: [Errno 2] No such file or directory: '/content/drive/MyDrive/LSTM_MPC/FOPDT/closed_loop_data_1200.pkl'"
     ]
    }
   ],
   "source": [
    "SP1 = random_signal[0]\n",
    "SP2 = random_signal[1]\n",
    "\n",
    "u1_store = np.ones(nstep)*u1.VALUE[0]\n",
    "u2_store = np.ones(nstep)*u2.VALUE[0]\n",
    "y1_store = np.ones(nstep)*y1.VALUE[0]\n",
    "y2_store = np.ones(nstep)*y2.VALUE[0]\n",
    "\n",
    "for i in range(nstep):\n",
    "  y1.SP = SP1[i]\n",
    "  y2.SP = SP2[i]\n",
    "  \n",
    "  m.solve(disp=False)\n",
    "  \n",
    "  u1_store[i] = u1.NEWVAL\n",
    "  u2_store[i] = u2.NEWVAL\n",
    "  y1_store[i] = y1.value[1]\n",
    "  y2_store[i] = y2.value[1]\n",
    "\n",
    "\n",
    "file = open(file='/content/drive/MyDrive/LSTM_MPC/FOPDT/closed_loop_data_1200.pkl',mode='wb')\n",
    "dump([u1_store, u2_store, y1_store, y2_store, SP1, SP2], file)\n",
    "file.close()\n",
    "\n",
    "fig = make_subplots(rows=2, cols=1, shared_xaxes=True)\n",
    "fig.add_trace(go.Scatter(y=SP1,name=\"SP1\"), row=1, col=1)\n",
    "fig.add_trace(go.Scatter(y=SP2,name=\"SP2\"), row=1, col=1)\n",
    "fig.add_trace(go.Scatter(y=y1_store,name=\"y1\"), row=1, col=1)\n",
    "fig.add_trace(go.Scatter(y=y2_store,name=\"y2\"), row=1, col=1)\n",
    "fig.add_trace(go.Scatter(y=u1_store,name=\"u1\"), row=2, col=1)\n",
    "fig.add_trace(go.Scatter(y=u2_store,name=\"u2\"), row=2, col=1)\n",
    "\n",
    "fig.update_layout(\n",
    "    template=\"plotly_white\",\n",
    "    font_family=\"Times New Roman\",\n",
    "    font_size = 20\n",
    "    )\n",
    "\n",
    "fig.update_xaxes(showline=True, linewidth=2, linecolor='black', mirror=True, row=1 , col=1)\n",
    "fig.update_xaxes(title_text='Time',showline=True, linewidth=2, linecolor='black', mirror=True, row=2, col=1)\n",
    "fig.update_yaxes(title_text='y', showline=True, linewidth=2, linecolor='black', mirror=True, row=1, col=1)\n",
    "fig.update_yaxes(title_text='u', showline=True, linewidth=2, linecolor='black', mirror=True, row=2, col=1)\n",
    "fig.show()\n",
    "\n",
    "fig.write_image(\"fig1.eps\")\n",
    "\n",
    "# plt.figure(0)\n",
    "# plt.subplot(2,1,1)\n",
    "# plt.plot(SP1, drawstyle='steps')\n",
    "# plt.plot(SP2, drawstyle='steps')\n",
    "# plt.plot(y1_store)\n",
    "# plt.plot(y2_store)\n",
    "# plt.legend(['SP1', 'SP2', 'y1', 'y2'])\n",
    "\n",
    "# plt.subplot(2,1,2)\n",
    "# plt.plot(u1_store, drawstyle='steps')\n",
    "# plt.plot(u2_store, drawstyle='steps')\n",
    "# plt.legend(['u1', 'u2'])\n",
    "# plt.show()"
   ]
  }
 ],
 "metadata": {
  "colab": {
   "collapsed_sections": [],
   "name": "02_FOPDT_MIMO_MPC_Gekko.ipynb",
   "provenance": []
  },
  "kernelspec": {
   "display_name": "Python 3",
   "language": "python",
   "name": "python3"
  },
  "language_info": {
   "codemirror_mode": {
    "name": "ipython",
    "version": 3
   },
   "file_extension": ".py",
   "mimetype": "text/x-python",
   "name": "python",
   "nbconvert_exporter": "python",
   "pygments_lexer": "ipython3",
   "version": "3.8.7"
  }
 },
 "nbformat": 4,
 "nbformat_minor": 1
}
