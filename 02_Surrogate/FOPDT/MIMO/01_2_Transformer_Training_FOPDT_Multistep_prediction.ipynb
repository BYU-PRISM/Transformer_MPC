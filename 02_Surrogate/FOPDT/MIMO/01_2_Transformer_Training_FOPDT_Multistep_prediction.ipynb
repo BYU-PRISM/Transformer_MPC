{
 "cells": [
  {
   "cell_type": "code",
   "execution_count": 1,
   "metadata": {
    "colab": {
     "base_uri": "https://localhost:8080/"
    },
    "executionInfo": {
     "elapsed": 171,
     "status": "ok",
     "timestamp": 1633358700502,
     "user": {
      "displayName": "Junho Park",
      "photoUrl": "https://lh3.googleusercontent.com/a-/AOh14GhWH0H954i4D0PPc6sNLVFrvhJj0CKnJSQoAJisShY=s64",
      "userId": "07513182812079543524"
     },
     "user_tz": 360
    },
    "id": "4s6uso07C5Jq",
    "outputId": "c201a9d5-ba87-486a-d244-b3701b877963"
   },
   "outputs": [
    {
     "name": "stdout",
     "output_type": "stream",
     "text": [
      "Not running on Colab\n"
     ]
    }
   ],
   "source": [
    "#%% Mount Google drive if you use colab for save and load files\n",
    "if 'google.colab' in str(get_ipython()):\n",
    "  colab = 1\n",
    "  print('Running on Colab')\n",
    "  from google.colab import drive\n",
    "  drive.mount('/content/drive')\n",
    "\n",
    "  # Set your path on the google drive here for save and download files\n",
    "  path = '/content/drive/MyDrive/Transformer_MPC/02_Surrogate/FOPDT/SISO/'\n",
    "    \n",
    "else:\n",
    "  colab = 0\n",
    "  print('Not running on Colab')\n",
    "  path = ''\n",
    "\n",
    "# Install(if it hasn't been) and Import GEKKO package\n",
    "try:\n",
    "    from gekko import GEKKO\n",
    "except:\n",
    "    !pip install gekko\n",
    "    # restart kernel if this doesn't import\n",
    "    from gekko import GEKKO"
   ]
  },
  {
   "cell_type": "code",
   "execution_count": 2,
   "metadata": {
    "id": "jgisis0w1Q6s"
   },
   "outputs": [],
   "source": [
    "# from gekko import GEKKO\n",
    "import numpy as np\n",
    "import pandas as pd\n",
    "\n",
    "import matplotlib.pyplot as plt\n",
    "from plotly.subplots import make_subplots\n",
    "import plotly.graph_objects as go\n",
    "\n",
    "from pickle import dump\n",
    "from sklearn.preprocessing import MinMaxScaler\n",
    "import time\n",
    "\n",
    "# For LSTM model\n",
    "import tensorflow as tf\n",
    "from keras.models import Sequential\n",
    "from keras.layers import Dense\n",
    "from keras.layers import LSTM\n",
    "from keras.layers import Dropout\n",
    "from keras.layers import Reshape, Conv1DTranspose, Conv2DTranspose\n",
    "\n",
    "from keras.callbacks import EarlyStopping\n",
    "from keras.models import load_model\n",
    "from tqdm.keras import TqdmCallback"
   ]
  },
  {
   "cell_type": "code",
   "execution_count": 3,
   "metadata": {
    "id": "ihEEPpHIkN9O"
   },
   "outputs": [],
   "source": [
    "data = pd.read_pickle(path + 'MIMO_open_loop_data_6000.pkl')\n",
    "data = pd.DataFrame(np.array(data).T, columns=['u1', 'u2', 'y1', 'y2'])"
   ]
  },
  {
   "cell_type": "code",
   "execution_count": 4,
   "metadata": {
    "id": "05hJh94XGU-S"
   },
   "outputs": [],
   "source": [
    "data[\"y1\"][1:] = data[\"y1\"][0:-1]\n",
    "data[\"y2\"][1:] = data[\"y2\"][0:-1]"
   ]
  },
  {
   "cell_type": "code",
   "execution_count": 5,
   "metadata": {
    "colab": {
     "base_uri": "https://localhost:8080/",
     "height": 265
    },
    "executionInfo": {
     "elapsed": 13,
     "status": "ok",
     "timestamp": 1633358701230,
     "user": {
      "displayName": "Junho Park",
      "photoUrl": "https://lh3.googleusercontent.com/a-/AOh14GhWH0H954i4D0PPc6sNLVFrvhJj0CKnJSQoAJisShY=s64",
      "userId": "07513182812079543524"
     },
     "user_tz": 360
    },
    "id": "84zSDCU01Q6x",
    "outputId": "c3c4e750-d304-43f0-9035-feb3cad70795"
   },
   "outputs": [
    {
     "data": {
      "image/png": "[encoded data removed]",
      "text/plain": [
       "<Figure size 432x288 with 4 Axes>"
      ]
     },
     "metadata": {
      "needs_background": "light"
     },
     "output_type": "display_data"
    }
   ],
   "source": [
    "plt.figure(0)\n",
    "plt.subplot(2,2,1)\n",
    "plt.plot(data[\"y1\"][15:50])\n",
    "plt.subplot(2,2,2)\n",
    "plt.plot(data[\"y2\"][15:50])\n",
    "plt.subplot(2,2,3)\n",
    "plt.plot(data[\"u1\"][15:50], drawstyle='steps')\n",
    "plt.subplot(2,2,4)\n",
    "plt.plot(data[\"u2\"][15:50], drawstyle='steps')\n",
    "\n",
    "plt.show()"
   ]
  },
  {
   "cell_type": "markdown",
   "metadata": {
    "id": "my0Ilf8q1Q6y"
   },
   "source": [
    "## 4. Train LSTM Network"
   ]
  },
  {
   "cell_type": "code",
   "execution_count": 6,
   "metadata": {
    "id": "4tVqaYD81Q6z"
   },
   "outputs": [],
   "source": [
    "window = 5\n",
    "P = 10\n",
    "\n",
    "# Scale features\n",
    "s1 = MinMaxScaler(feature_range=(-1,1))\n",
    "# s1.data_min_=[0,0,0,0]\n",
    "# s1.data_max_=[5,5,5,5]\n",
    "Xs = s1.fit_transform(data[['u1', 'u2', 'y1', 'y2']])\n",
    "s2 = MinMaxScaler(feature_range=(-1,1))\n",
    "# s2.data_min_=[0,0,0,0]\n",
    "# s2.data_max_=[10,10,10,10]\n",
    "Ys = s2.fit_transform(data[['y1', 'y2']])"
   ]
  },
  {
   "cell_type": "code",
   "execution_count": 7,
   "metadata": {
    "colab": {
     "base_uri": "https://localhost:8080/"
    },
    "executionInfo": {
     "elapsed": 12,
     "status": "ok",
     "timestamp": 1633358701231,
     "user": {
      "displayName": "Junho Park",
      "photoUrl": "https://lh3.googleusercontent.com/a-/AOh14GhWH0H954i4D0PPc6sNLVFrvhJj0CKnJSQoAJisShY=s64",
      "userId": "07513182812079543524"
     },
     "user_tz": 360
    },
    "id": "tERe7QsCL2Te",
    "outputId": "31032d8b-80f4-4ad8-c86d-47f5c01ee3f4"
   },
   "outputs": [
    {
     "data": {
      "text/plain": [
       "((6000, 2), (6000, 4))"
      ]
     },
     "execution_count": 7,
     "metadata": {},
     "output_type": "execute_result"
    }
   ],
   "source": [
    "Ys.shape, Xs.shape"
   ]
  },
  {
   "cell_type": "code",
   "execution_count": 8,
   "metadata": {
    "colab": {
     "base_uri": "https://localhost:8080/",
     "height": 191
    },
    "executionInfo": {
     "elapsed": 632,
     "status": "ok",
     "timestamp": 1633358701854,
     "user": {
      "displayName": "Junho Park",
      "photoUrl": "https://lh3.googleusercontent.com/a-/AOh14GhWH0H954i4D0PPc6sNLVFrvhJj0CKnJSQoAJisShY=s64",
      "userId": "07513182812079543524"
     },
     "user_tz": 360
    },
    "id": "c_Fa4Zt_1Q6z",
    "outputId": "0e2e9260-8315-423e-e9f5-272875390a1b"
   },
   "outputs": [
    {
     "data": {
      "text/plain": [
       "[<matplotlib.lines.Line2D at 0x145421d90>,\n",
       " <matplotlib.lines.Line2D at 0x145421dc0>,\n",
       " <matplotlib.lines.Line2D at 0x145421ee0>,\n",
       " <matplotlib.lines.Line2D at 0x145432040>]"
      ]
     },
     "execution_count": 8,
     "metadata": {},
     "output_type": "execute_result"
    },
    {
     "data": {
      "image/png": "[encoded data removed]",
      "text/plain": [
       "<Figure size 1080x216 with 1 Axes>"
      ]
     },
     "metadata": {
      "needs_background": "light"
     },
     "output_type": "display_data"
    }
   ],
   "source": [
    "plt.figure(figsize=[15,3])\n",
    "plt.plot(Ys)\n",
    "plt.plot(Xs)"
   ]
  },
  {
   "cell_type": "code",
   "execution_count": 9,
   "metadata": {
    "id": "kad2Vc2S1Q60"
   },
   "outputs": [],
   "source": [
    "# Save model parameters\n",
    "model_params = dict()\n",
    "model_params['Xscale'] = s1\n",
    "model_params['yscale'] = s2\n",
    "model_params['window'] = window\n",
    "model_params['P'] = P # prediction horizon\n",
    "\n",
    "dump(model_params, open(path + 'model_param_MIMO.pkl', 'wb'))\n"
   ]
  },
  {
   "cell_type": "code",
   "execution_count": 10,
   "metadata": {
    "colab": {
     "base_uri": "https://localhost:8080/"
    },
    "executionInfo": {
     "elapsed": 27,
     "status": "ok",
     "timestamp": 1633358701856,
     "user": {
      "displayName": "Junho Park",
      "photoUrl": "https://lh3.googleusercontent.com/a-/AOh14GhWH0H954i4D0PPc6sNLVFrvhJj0CKnJSQoAJisShY=s64",
      "userId": "07513182812079543524"
     },
     "user_tz": 360
    },
    "id": "XCRJSpevu-xa",
    "outputId": "e097ac5c-1e91-4ebf-9427-e0061176eb5e"
   },
   "outputs": [
    {
     "name": "stdout",
     "output_type": "stream",
     "text": [
      "3000\n"
     ]
    }
   ],
   "source": [
    "nstep = Xs.shape[0]\n",
    "val_ratio = 0.5\n",
    "cut_index = int(nstep*val_ratio) # index number to separate the training and validation set\n",
    "print(cut_index)\n",
    "Xs_train = Xs[0:cut_index]\n",
    "Ys_train = Ys[0:cut_index]\n",
    "Xs_val = Xs[cut_index:]\n",
    "Ys_val = Ys[cut_index:]"
   ]
  },
  {
   "cell_type": "markdown",
   "metadata": {
    "id": "mUAXPsKJ_pIw"
   },
   "source": [
    "## Preparing training data for simultaneous **multi-step** prediction\n",
    "X_train $\\in$ $\\mathbb{R}$ $^{\\text{Batch}\\: \\times \\:(\\text{window + P})\\: \\times\\: \\text{Nvariables}}$  \n",
    "Y_train $\\in$ $\\mathbb{R}$ $^{\\text{Batch}\\: \\times \\:\\text{P}\\: \\times\\: \\text{Nvariables}}$  \n"
   ]
  },
  {
   "cell_type": "code",
   "execution_count": 11,
   "metadata": {
    "id": "LxBU0nHt1Q60"
   },
   "outputs": [],
   "source": [
    "X_train = []\n",
    "Y_train = []\n",
    "for i in range(window,len(Xs_train)-P):\n",
    "    X_train.append(Xs_train[i-window:i+P,:])\n",
    "    Y_train.append(Ys_train[i:i+P])\n",
    "\n",
    "X_val = []\n",
    "Y_val = []\n",
    "for i in range(window,len(Xs_val)-P):\n",
    "    X_val.append(Xs_val[i-window:i+P,:])\n",
    "    Y_val.append(Ys_val[i:i+P])"
   ]
  },
  {
   "cell_type": "code",
   "execution_count": 12,
   "metadata": {
    "id": "2MbYEo5k1Q61"
   },
   "outputs": [],
   "source": [
    "# Reshape data to format accepted by LSTM\n",
    "X_train, Y_train = np.array(X_train), np.array(Y_train)\n",
    "X_val, Y_val = np.array(X_val), np.array(Y_val)"
   ]
  },
  {
   "cell_type": "markdown",
   "metadata": {
    "id": "mVPoyAFCLC-w"
   },
   "source": [
    "## Replacing outputs in the prediction horizon ($\\text y_{k+i}$) with the latest measured value ($\\text y_k$)  , where, $i = 1, 2, ... ,\\text P$"
   ]
  },
  {
   "cell_type": "code",
   "execution_count": 13,
   "metadata": {
    "id": "5ndR5zB3_hf_"
   },
   "outputs": [],
   "source": [
    "for i in range(0, len(X_train)):\n",
    "  X_train[i][window:,2] = X_train[i][window-1,2]\n",
    "  X_train[i][window:,3] = X_train[i][window-1,3]\n",
    "\n",
    "for i in range(0, len(X_val)):\n",
    "  X_val[i][window:,2] = X_val[i][window-1,2]\n",
    "  X_val[i][window:,3] = X_val[i][window-1,3]"
   ]
  },
  {
   "cell_type": "code",
   "execution_count": 14,
   "metadata": {
    "colab": {
     "base_uri": "https://localhost:8080/"
    },
    "executionInfo": {
     "elapsed": 20,
     "status": "ok",
     "timestamp": 1633358701858,
     "user": {
      "displayName": "Junho Park",
      "photoUrl": "https://lh3.googleusercontent.com/a-/AOh14GhWH0H954i4D0PPc6sNLVFrvhJj0CKnJSQoAJisShY=s64",
      "userId": "07513182812079543524"
     },
     "user_tz": 360
    },
    "id": "m240f0CRrD7d",
    "outputId": "75008de1-f34f-427a-eb54-65494587925f"
   },
   "outputs": [
    {
     "data": {
      "text/plain": [
       "((2985, 15, 4), (2985, 10, 2))"
      ]
     },
     "execution_count": 14,
     "metadata": {},
     "output_type": "execute_result"
    }
   ],
   "source": [
    "# Demension of training data set\n",
    "# Y_train = np.reshape(Y_train, (Y_train.shape[0], Y_train.shape[1]*Y_train.shape[2]))\n",
    "# Y_val = np.reshape(Y_val, (Y_val.shape[0], Y_val.shape[1]*Y_val.shape[2]))\n",
    "np.shape(X_train), np.shape(Y_train)"
   ]
  },
  {
   "cell_type": "code",
   "execution_count": 15,
   "metadata": {
    "colab": {
     "base_uri": "https://localhost:8080/"
    },
    "executionInfo": {
     "elapsed": 17,
     "status": "ok",
     "timestamp": 1633358701859,
     "user": {
      "displayName": "Junho Park",
      "photoUrl": "https://lh3.googleusercontent.com/a-/AOh14GhWH0H954i4D0PPc6sNLVFrvhJj0CKnJSQoAJisShY=s64",
      "userId": "07513182812079543524"
     },
     "user_tz": 360
    },
    "id": "ox4KwX-CEd4_",
    "outputId": "c7b9ad64-7687-4233-ef7d-fd784f7cee94"
   },
   "outputs": [
    {
     "data": {
      "text/plain": [
       "(array([[-1.        , -1.        , -0.86895212, -0.93534688],\n",
       "        [-1.        , -1.        , -0.89092674, -0.94628755],\n",
       "        [-1.        , -1.        , -0.90923892, -0.95540477],\n",
       "        [-1.        , -1.        , -0.92449907, -0.96300246],\n",
       "        [-1.        , -1.        , -0.93721586, -0.96933387],\n",
       "        [-1.        , -1.        , -0.93721586, -0.96933387],\n",
       "        [-1.        , -1.        , -0.93721586, -0.96933387],\n",
       "        [-1.        , -1.        , -0.93721586, -0.96933387],\n",
       "        [-1.        , -1.        , -0.93721586, -0.96933387],\n",
       "        [-1.        , -1.        , -0.93721586, -0.96933387],\n",
       "        [-1.        , -1.        , -0.93721586, -0.96933387],\n",
       "        [-1.        , -1.        , -0.93721586, -0.96933387],\n",
       "        [-1.        , -1.        , -0.93721586, -0.96933387],\n",
       "        [-1.        , -1.        , -0.93721586, -0.96933387],\n",
       "        [-1.        , -1.        , -0.93721586, -0.96933387]]),\n",
       " array([[-0.94781319, -0.97461004],\n",
       "        [-0.9566443 , -0.97900685],\n",
       "        [-0.96400355, -0.98267085],\n",
       "        [-0.97013627, -0.98572419],\n",
       "        [-0.97524686, -0.98826864],\n",
       "        [-0.97950569, -0.99038902],\n",
       "        [-0.98305471, -0.992156  ],\n",
       "        [-0.98601223, -0.99362848],\n",
       "        [-0.98847683, -0.99485555],\n",
       "        [-0.99053066, -0.99587811]]))"
      ]
     },
     "execution_count": 15,
     "metadata": {},
     "output_type": "execute_result"
    }
   ],
   "source": [
    "X_train[15], Y_train[15]"
   ]
  },
  {
   "cell_type": "code",
   "execution_count": 16,
   "metadata": {
    "colab": {
     "base_uri": "https://localhost:8080/",
     "height": 282
    },
    "executionInfo": {
     "elapsed": 16,
     "status": "ok",
     "timestamp": 1633358702425,
     "user": {
      "displayName": "Junho Park",
      "photoUrl": "https://lh3.googleusercontent.com/a-/AOh14GhWH0H954i4D0PPc6sNLVFrvhJj0CKnJSQoAJisShY=s64",
      "userId": "07513182812079543524"
     },
     "user_tz": 360
    },
    "id": "mNBPzXI9KN7G",
    "outputId": "5ce84996-89be-42c0-e0f4-25ed24fdd379"
   },
   "outputs": [
    {
     "data": {
      "text/plain": [
       "[<matplotlib.lines.Line2D at 0x14568a280>]"
      ]
     },
     "execution_count": 16,
     "metadata": {},
     "output_type": "execute_result"
    },
    {
     "data": {
      "image/png": "[encoded data removed]",
      "text/plain": [
       "<Figure size 432x288 with 1 Axes>"
      ]
     },
     "metadata": {
      "needs_background": "light"
     },
     "output_type": "display_data"
    }
   ],
   "source": [
    "i = 155\n",
    "t = np.linspace(0, 14, 15)\n",
    "plt.plot(t[5:],Y_train[i],'ro')\n",
    "plt.plot(t, X_train[i][:,2],'bo')\n",
    "plt.step(t, X_train[i][:,0])\n",
    "plt.plot(t, X_train[i][:,3],'bo')\n",
    "plt.step(t, X_train[i][:,1])"
   ]
  },
  {
   "cell_type": "code",
   "execution_count": 17,
   "metadata": {
    "colab": {
     "base_uri": "https://localhost:8080/"
    },
    "executionInfo": {
     "elapsed": 12,
     "status": "ok",
     "timestamp": 1633358702426,
     "user": {
      "displayName": "Junho Park",
      "photoUrl": "https://lh3.googleusercontent.com/a-/AOh14GhWH0H954i4D0PPc6sNLVFrvhJj0CKnJSQoAJisShY=s64",
      "userId": "07513182812079543524"
     },
     "user_tz": 360
    },
    "id": "-fcbkAS_FlmZ",
    "outputId": "43e3330c-ac1e-41e7-d6ad-4af336bc14ca"
   },
   "outputs": [
    {
     "data": {
      "text/plain": [
       "array([[ 0.96928055, -0.79124507],\n",
       "       [ 0.97023552, -0.67123047],\n",
       "       [ 0.97103133, -0.5712183 ],\n",
       "       [ 0.9716945 , -0.48787483],\n",
       "       [ 0.97224715, -0.41842193],\n",
       "       [ 0.97270768, -0.36054452],\n",
       "       [ 0.97309146, -0.31231335],\n",
       "       [ 0.97341128, -0.2721207 ],\n",
       "       [ 0.97367779, -0.23862683],\n",
       "       [ 0.97389989, -0.21071527]])"
      ]
     },
     "execution_count": 17,
     "metadata": {},
     "output_type": "execute_result"
    }
   ],
   "source": [
    "Y_train[160]"
   ]
  },
  {
   "cell_type": "code",
   "execution_count": 18,
   "metadata": {
    "colab": {
     "base_uri": "https://localhost:8080/"
    },
    "executionInfo": {
     "elapsed": 11,
     "status": "ok",
     "timestamp": 1633358702427,
     "user": {
      "displayName": "Junho Park",
      "photoUrl": "https://lh3.googleusercontent.com/a-/AOh14GhWH0H954i4D0PPc6sNLVFrvhJj0CKnJSQoAJisShY=s64",
      "userId": "07513182812079543524"
     },
     "user_tz": 360
    },
    "id": "nYogLPPQFp79",
    "outputId": "5f5511ed-632b-41cd-85e0-87090a810c9c"
   },
   "outputs": [
    {
     "data": {
      "text/plain": [
       "array([[ 0.97494799, -0.93438002,  0.96075275, -0.93521253],\n",
       "       [ 0.97494799, -0.93438002,  0.96312902, -0.93522864],\n",
       "       [ 0.97494799, -0.93438002,  0.96510925, -0.93524207],\n",
       "       [ 0.97494799, -0.93438002,  0.96675944, -0.93525327],\n",
       "       [ 0.97494799, -0.0710398 ,  0.96813459, -0.93526259],\n",
       "       [ 0.97494799, -0.0710398 ,  0.96813459, -0.93526259],\n",
       "       [ 0.97494799, -0.0710398 ,  0.96813459, -0.93526259],\n",
       "       [ 0.97494799, -0.0710398 ,  0.96813459, -0.93526259],\n",
       "       [ 0.97494799, -0.0710398 ,  0.96813459, -0.93526259],\n",
       "       [ 0.97494799, -0.0710398 ,  0.96813459, -0.93526259],\n",
       "       [ 0.97494799, -0.0710398 ,  0.96813459, -0.93526259],\n",
       "       [ 0.97494799, -0.0710398 ,  0.96813459, -0.93526259],\n",
       "       [ 0.97494799, -0.0710398 ,  0.96813459, -0.93526259],\n",
       "       [ 0.97494799, -0.0710398 ,  0.96813459, -0.93526259],\n",
       "       [ 0.97494799, -0.0710398 ,  0.96813459, -0.93526259]])"
      ]
     },
     "execution_count": 18,
     "metadata": {},
     "output_type": "execute_result"
    }
   ],
   "source": [
    "X_train[160]"
   ]
  },
  {
   "cell_type": "code",
   "execution_count": 19,
   "metadata": {
    "colab": {
     "base_uri": "https://localhost:8080/"
    },
    "executionInfo": {
     "elapsed": 518,
     "status": "ok",
     "timestamp": 1633370530453,
     "user": {
      "displayName": "Junho Park",
      "photoUrl": "https://lh3.googleusercontent.com/a-/AOh14GhWH0H954i4D0PPc6sNLVFrvhJj0CKnJSQoAJisShY=s64",
      "userId": "07513182812079543524"
     },
     "user_tz": 360
    },
    "id": "aDgKXYv-1Q61",
    "outputId": "d74a34a5-18dc-480e-aaa0-9bcb921fdb02"
   },
   "outputs": [
    {
     "name": "stdout",
     "output_type": "stream",
     "text": [
      "Metal device set to: Apple M1 Pro\n"
     ]
    },
    {
     "name": "stderr",
     "output_type": "stream",
     "text": [
      "2022-05-27 13:44:34.679061: I tensorflow/core/common_runtime/pluggable_device/pluggable_device_factory.cc:305] Could not identify NUMA node of platform GPU ID 0, defaulting to 0. Your kernel may not have been built with NUMA support.\n",
      "2022-05-27 13:44:34.679353: I tensorflow/core/common_runtime/pluggable_device/pluggable_device_factory.cc:271] Created TensorFlow device (/job:localhost/replica:0/task:0/device:GPU:0 with 0 MB memory) -> physical PluggableDevice (device: 0, name: METAL, pci bus id: <undefined>)\n"
     ]
    }
   ],
   "source": [
    "# # Initialize LSTM model\n",
    "\n",
    "\n",
    "model_lstm = Sequential()\n",
    "\n",
    "model_lstm.add(LSTM(units=100, return_sequences=True, \\\n",
    "          input_shape=(X_train.shape[1],X_train.shape[2])))\n",
    "model_lstm.add(Dropout(0.2))\n",
    "model_lstm.add(LSTM(units=100, return_sequences=True))\n",
    "model_lstm.add(Dropout(0.2))\n",
    "model_lstm.add(LSTM(units=100))\n",
    "model_lstm.add(Dropout(0.2))\n",
    "model_lstm.add(tf.keras.layers.Flatten())\n",
    "model_lstm.add(Dense(units=Y_train.shape[1]*Y_train.shape[2], activation='linear'))\n",
    "model_lstm.add(Reshape((Y_train.shape[1], Y_train.shape[2])))\n",
    "model_lstm.compile(optimizer = 'adam', loss = 'mean_squared_error',\\\n",
    "              metrics = ['accuracy'])\n",
    "# Allow for early exit\n",
    "es_lstm = EarlyStopping(monitor='loss',mode='min',verbose=1,patience=10)"
   ]
  },
  {
   "cell_type": "code",
   "execution_count": 20,
   "metadata": {
    "colab": {
     "base_uri": "https://localhost:8080/",
     "height": 457,
     "referenced_widgets": [
      "fa77e4215bd644b3b13aca3e226e77e4",
      "ef4b6c9e56614c84829cc09141b4fdc7",
      "747a08fdae574e13b3d2c2c01a01dd06",
      "2c3862a227af4bddbd7fb635724dd405",
      "95faf2e6a0054a3eb9e33eba0d6ba9ce",
      "1a072717ca60442e992cbc3e02b1fa08",
      "8cbc8461ba3344b0b81a870948277a68",
      "5a63785818864f8684c629d4ac8709af",
      "2df1d0f0452f4b8ea7af58e246d9a5d2",
      "eef3d67027e641e580863d1d2fa803d1",
      "53558dc85d254d6696bfbbc608e23669",
      "7ba6529d54e544e5bad8e728ca2d6790",
      "556a33b923ae4e64b7ef7c99e4de2f74",
      "9110a8827e5c4aebb4dfa802de9e0378",
      "3d134d89cc9642bc8b7524b469a24b7d",
      "8cc69eb7e18d4db8aac8b9de4f2a5f65",
      "f0f9d1ca3a6f4ec8ac83ac38ef1f6c6d",
      "a08d88717a3d40d0b679c7ac998a718f",
      "8d7a19be167545ba93f2bef6802532a9",
      "d90584c6ce9447ea805283d3f6fe478e",
      "b96e27bdd13c4ea38911035dc42ccbb1",
      "6d93a462295a4aa8a1a4aa7b109b2bb6"
     ]
    },
    "executionInfo": {
     "elapsed": 8510,
     "status": "ok",
     "timestamp": 1633370770935,
     "user": {
      "displayName": "Junho Park",
      "photoUrl": "https://lh3.googleusercontent.com/a-/AOh14GhWH0H954i4D0PPc6sNLVFrvhJj0CKnJSQoAJisShY=s64",
      "userId": "07513182812079543524"
     },
     "user_tz": 360
    },
    "id": "T3t1zXh52Z8I",
    "outputId": "d376c3b8-ee8e-41f8-a85c-9b371b1218a5"
   },
   "outputs": [
    {
     "name": "stdout",
     "output_type": "stream",
     "text": [
      "Model: \"sequential\"\n",
      "_________________________________________________________________\n",
      " Layer (type)                Output Shape              Param #   \n",
      "=================================================================\n",
      " lstm (LSTM)                 (None, 15, 100)           42000     \n",
      "                                                                 \n",
      " dropout (Dropout)           (None, 15, 100)           0         \n",
      "                                                                 \n",
      " lstm_1 (LSTM)               (None, 15, 100)           80400     \n",
      "                                                                 \n",
      " dropout_1 (Dropout)         (None, 15, 100)           0         \n",
      "                                                                 \n",
      " lstm_2 (LSTM)               (None, 100)               80400     \n",
      "                                                                 \n",
      " dropout_2 (Dropout)         (None, 100)               0         \n",
      "                                                                 \n",
      " flatten (Flatten)           (None, 100)               0         \n",
      "                                                                 \n",
      " dense (Dense)               (None, 20)                2020      \n",
      "                                                                 \n",
      " reshape (Reshape)           (None, 10, 2)             0         \n",
      "                                                                 \n",
      "=================================================================\n",
      "Total params: 204,820\n",
      "Trainable params: 204,820\n",
      "Non-trainable params: 0\n",
      "_________________________________________________________________\n"
     ]
    },
    {
     "data": {
      "application/vnd.jupyter.widget-view+json": {
       "model_id": "64a0df5f8b7748d4b427ec866c858c2a",
       "version_major": 2,
       "version_minor": 0
      },
      "text/plain": [
       "0epoch [00:00, ?epoch/s]"
      ]
     },
     "metadata": {},
     "output_type": "display_data"
    },
    {
     "data": {
      "application/vnd.jupyter.widget-view+json": {
       "model_id": "",
       "version_major": 2,
       "version_minor": 0
      },
      "text/plain": [
       "0batch [00:00, ?batch/s]"
      ]
     },
     "metadata": {},
     "output_type": "display_data"
    },
    {
     "name": "stderr",
     "output_type": "stream",
     "text": [
      "2022-05-27 13:44:35.300459: W tensorflow/core/platform/profile_utils/cpu_utils.cc:128] Failed to get CPU frequency: 0 Hz\n",
      "2022-05-27 13:44:37.099789: I tensorflow/core/grappler/optimizers/custom_graph_optimizer_registry.cc:113] Plugin optimizer for device_type GPU is enabled.\n",
      "2022-05-27 13:44:37.563475: I tensorflow/core/grappler/optimizers/custom_graph_optimizer_registry.cc:113] Plugin optimizer for device_type GPU is enabled.\n",
      "2022-05-27 13:44:37.661226: I tensorflow/core/grappler/optimizers/custom_graph_optimizer_registry.cc:113] Plugin optimizer for device_type GPU is enabled.\n",
      "2022-05-27 13:44:37.725134: I tensorflow/core/grappler/optimizers/custom_graph_optimizer_registry.cc:113] Plugin optimizer for device_type GPU is enabled.\n",
      "2022-05-27 13:44:37.836146: I tensorflow/core/grappler/optimizers/custom_graph_optimizer_registry.cc:113] Plugin optimizer for device_type GPU is enabled.\n",
      "2022-05-27 13:44:37.973662: I tensorflow/core/grappler/optimizers/custom_graph_optimizer_registry.cc:113] Plugin optimizer for device_type GPU is enabled.\n",
      "2022-05-27 13:44:38.073555: I tensorflow/core/grappler/optimizers/custom_graph_optimizer_registry.cc:113] Plugin optimizer for device_type GPU is enabled.\n",
      "2022-05-27 13:44:40.741216: I tensorflow/core/grappler/optimizers/custom_graph_optimizer_registry.cc:113] Plugin optimizer for device_type GPU is enabled.\n",
      "2022-05-27 13:44:40.902655: I tensorflow/core/grappler/optimizers/custom_graph_optimizer_registry.cc:113] Plugin optimizer for device_type GPU is enabled.\n",
      "2022-05-27 13:44:40.945657: I tensorflow/core/grappler/optimizers/custom_graph_optimizer_registry.cc:113] Plugin optimizer for device_type GPU is enabled.\n",
      "2022-05-27 13:44:40.989233: I tensorflow/core/grappler/optimizers/custom_graph_optimizer_registry.cc:113] Plugin optimizer for device_type GPU is enabled.\n"
     ]
    },
    {
     "name": "stdout",
     "output_type": "stream",
     "text": [
      "Epoch 114: early stopping\n",
      "Runtime: 361.79 s\n"
     ]
    }
   ],
   "source": [
    "model_lstm.summary()\n",
    "# Fit (and time) LSTM model\n",
    "t0 = time.time()\n",
    "result_lstm = model_lstm.fit(X_train, Y_train, epochs = 300, batch_size = 32,\\\n",
    "                             callbacks=[es_lstm, TqdmCallback(verbose=1)],\\\n",
    "                             verbose=0, validation_data=(X_val, Y_val))\n",
    "t1 = time.time()\n",
    "print('Runtime: %.2f s' %(t1-t0))\n",
    "\n",
    "# model_lstm.summary()"
   ]
  },
  {
   "cell_type": "code",
   "execution_count": 21,
   "metadata": {
    "id": "e9augHAHRspw"
   },
   "outputs": [],
   "source": [
    "#%% Save LSTM model file\n",
    "model_lstm.save('MPC_MIMO_FOPDT_multistep_LSTM_6000.h5')"
   ]
  },
  {
   "cell_type": "markdown",
   "metadata": {
    "id": "ostJH8XeWnKv"
   },
   "source": [
    "## 2. Transformer"
   ]
  },
  {
   "cell_type": "code",
   "execution_count": 22,
   "metadata": {
    "colab": {
     "base_uri": "https://localhost:8080/",
     "height": 729,
     "referenced_widgets": [
      "7fab2f26ed3248a2831ed962a57a7617",
      "dcb432f8798948bb9d4c71bc643311c4",
      "fb341d1e6b7a4670a666f659db48e005",
      "2cc799f553804d6d92e89a8e380be677",
      "e4c611b1e5bf4f818808fdc949948495",
      "b88f82ee46ff4fde9fee3ca2b7f29c66",
      "aa0a227e635144cabd54595b6e2732f6",
      "89af1f6890514d0cbf6aa785fba21e0d",
      "37fd1fd0df014100bc76cfddb227d9e3",
      "6d3c374ad9f844df8e174bd8439dd1ac",
      "304fe34ac1954edd9b1880c16a2ef6a6",
      "744916f85a744a8b98274759a04e5d13",
      "e576b5533ddb4c4c8786a771a0aaa20d",
      "f29ebfcfd9364f5d8f51b888009c06f4",
      "dbc1453cdd864bc1bbcdde1f6651d0e5",
      "461746b1bc744093a5b87feee5dd540f",
      "e277f7e03a094cfeae5f06165bd8e20f",
      "5702987e3fc642809cf01db1153c6a3c",
      "7d66b21ee225419e9a7095d9f9eb4efe",
      "212aedc33b8f4c4abbafcc7027c4bada",
      "4df05ea2eae34de18647c48b6d8f306e",
      "e42aa5788f9d43d08ec6144707aa9731"
     ]
    },
    "executionInfo": {
     "elapsed": 60723,
     "status": "ok",
     "timestamp": 1633359539242,
     "user": {
      "displayName": "Junho Park",
      "photoUrl": "https://lh3.googleusercontent.com/a-/AOh14GhWH0H954i4D0PPc6sNLVFrvhJj0CKnJSQoAJisShY=s64",
      "userId": "07513182812079543524"
     },
     "user_tz": 360
    },
    "id": "iq4VCFS8V_BN",
    "outputId": "6cb864a6-10ce-49df-ec05-c94bdc6939ec"
   },
   "outputs": [
    {
     "data": {
      "application/vnd.jupyter.widget-view+json": {
       "model_id": "2f0f5dec27ab4698883779917e16098b",
       "version_major": 2,
       "version_minor": 0
      },
      "text/plain": [
       "0epoch [00:00, ?epoch/s]"
      ]
     },
     "metadata": {},
     "output_type": "display_data"
    },
    {
     "data": {
      "application/vnd.jupyter.widget-view+json": {
       "model_id": "",
       "version_major": 2,
       "version_minor": 0
      },
      "text/plain": [
       "0batch [00:00, ?batch/s]"
      ]
     },
     "metadata": {},
     "output_type": "display_data"
    },
    {
     "name": "stderr",
     "output_type": "stream",
     "text": [
      "2022-05-27 13:50:37.647026: I tensorflow/core/grappler/optimizers/custom_graph_optimizer_registry.cc:113] Plugin optimizer for device_type GPU is enabled.\n",
      "2022-05-27 13:50:40.903301: I tensorflow/core/grappler/optimizers/custom_graph_optimizer_registry.cc:113] Plugin optimizer for device_type GPU is enabled.\n"
     ]
    },
    {
     "name": "stdout",
     "output_type": "stream",
     "text": [
      "Epoch 141: early stopping\n",
      "Runtime: 522.03 s\n",
      "Model: \"mhl\"\n",
      "__________________________________________________________________________________________________\n",
      " Layer (type)                   Output Shape         Param #     Connected to                     \n",
      "==================================================================================================\n",
      " input_1 (InputLayer)           [(None, 15, 4)]      0           []                               \n",
      "                                                                                                  \n",
      " multi_head_attention (MultiHea  (None, 15, 4)       384         ['input_1[0][0]',                \n",
      " dAttention)                                                      'input_1[0][0]']                \n",
      "                                                                                                  \n",
      " tf.__operators__.add (TFOpLamb  (None, 15, 4)       0           ['multi_head_attention[0][0]',   \n",
      " da)                                                              'input_1[0][0]']                \n",
      "                                                                                                  \n",
      " dense_1 (Dense)                (None, 15, 100)      500         ['tf.__operators__.add[0][0]']   \n",
      "                                                                                                  \n",
      " dropout_3 (Dropout)            (None, 15, 100)      0           ['dense_1[0][0]']                \n",
      "                                                                                                  \n",
      " dense_2 (Dense)                (None, 15, 4)        404         ['dropout_3[0][0]']              \n",
      "                                                                                                  \n",
      " multi_head_attention_1 (MultiH  (None, 15, 4)       384         ['dense_2[0][0]',                \n",
      " eadAttention)                                                    'dense_2[0][0]']                \n",
      "                                                                                                  \n",
      " tf.__operators__.add_1 (TFOpLa  (None, 15, 4)       0           ['multi_head_attention_1[0][0]', \n",
      " mbda)                                                            'input_1[0][0]']                \n",
      "                                                                                                  \n",
      " dense_3 (Dense)                (None, 15, 100)      500         ['tf.__operators__.add_1[0][0]'] \n",
      "                                                                                                  \n",
      " dropout_4 (Dropout)            (None, 15, 100)      0           ['dense_3[0][0]']                \n",
      "                                                                                                  \n",
      " dense_4 (Dense)                (None, 15, 4)        404         ['dropout_4[0][0]']              \n",
      "                                                                                                  \n",
      " flatten_1 (Flatten)            (None, 60)           0           ['dense_4[0][0]']                \n",
      "                                                                                                  \n",
      " dense_5 (Dense)                (None, 20)           1220        ['flatten_1[0][0]']              \n",
      "                                                                                                  \n",
      " reshape_1 (Reshape)            (None, 10, 2)        0           ['dense_5[0][0]']                \n",
      "                                                                                                  \n",
      "==================================================================================================\n",
      "Total params: 3,796\n",
      "Trainable params: 3,796\n",
      "Non-trainable params: 0\n",
      "__________________________________________________________________________________________________\n"
     ]
    }
   ],
   "source": [
    "n_feature = X_train.shape[2]\n",
    "n_label = Y_train.shape[1]\n",
    "\n",
    "encoder_input = tf.keras.layers.Input(shape=(window+P, n_feature))\n",
    "xl = tf.keras.layers.MultiHeadAttention(num_heads=10,key_dim=2)(encoder_input,encoder_input)\n",
    "res = xl + encoder_input\n",
    "xl = tf.keras.layers.Dense(100, 'tanh')(res)\n",
    "xl = tf.keras.layers.Dropout(0.2)(xl)\n",
    "xl = tf.keras.layers.Dense(n_feature, None)(xl)\n",
    "\n",
    "xl = tf.keras.layers.MultiHeadAttention(num_heads=10,key_dim=2)(xl,xl)\n",
    "res = xl + encoder_input\n",
    "xl = tf.keras.layers.Dense(100, 'tanh')(res)\n",
    "xl = tf.keras.layers.Dropout(0.2)(xl)\n",
    "xl = tf.keras.layers.Dense(n_feature, None)(xl)\n",
    "\n",
    "xl = tf.keras.layers.Flatten()(xl)\n",
    "xl = tf.keras.layers.Dense(units=Y_train.shape[1]*Y_train.shape[2], activation=None)(xl)\n",
    "yl = tf.keras.layers.Reshape((Y_train.shape[1], Y_train.shape[2]))(xl)\n",
    "\n",
    "model_trans = tf.keras.Model(inputs=encoder_input, outputs=yl, name=\"mhl\")\n",
    "model_trans.compile(optimizer='Adam',loss='MSE',metrics='accuracy')\n",
    "\n",
    "# Allow for early exit\n",
    "es_trans = EarlyStopping(monitor='loss',mode='min',verbose=1,patience=10)\n",
    "\n",
    "t0 = time.time()\n",
    "result_trans = model_trans.fit(X_train,Y_train,epochs=300,batch_size=32, \\\n",
    "                               callbacks=[es_trans, TqdmCallback(verbose=1)], \\\n",
    "                               verbose=0, validation_data=(X_val, Y_val))\n",
    "t1 = time.time()\n",
    "\n",
    "print('Runtime: %.2f s' %(t1-t0))\n",
    "\n",
    "model_trans.summary()"
   ]
  },
  {
   "cell_type": "code",
   "execution_count": 23,
   "metadata": {
    "id": "LfLxMmHnT1XX"
   },
   "outputs": [],
   "source": [
    "#%% Save Transformer model file\n",
    "model_trans.save('MPC_MIMO_FOPDT_multistep_Trans_6000.h5')"
   ]
  },
  {
   "cell_type": "code",
   "execution_count": 24,
   "metadata": {
    "colab": {
     "base_uri": "https://localhost:8080/",
     "height": 354
    },
    "executionInfo": {
     "elapsed": 30407,
     "status": "ok",
     "timestamp": 1633358819179,
     "user": {
      "displayName": "Junho Park",
      "photoUrl": "https://lh3.googleusercontent.com/a-/AOh14GhWH0H954i4D0PPc6sNLVFrvhJj0CKnJSQoAJisShY=s64",
      "userId": "07513182812079543524"
     },
     "user_tz": 360
    },
    "id": "fVRoya2aa1A7",
    "outputId": "896f14a0-182f-4a2e-d4b2-ef03ca1ec7d9"
   },
   "outputs": [
    {
     "data": {
      "text/plain": [
       "Text(0.5, 0, 'Epochs')"
      ]
     },
     "execution_count": 24,
     "metadata": {},
     "output_type": "execute_result"
    },
    {
     "data": {
      "image/png": "[encoded data removed]",
      "text/plain": [
       "<Figure size 432x360 with 1 Axes>"
      ]
     },
     "metadata": {
      "needs_background": "light"
     },
     "output_type": "display_data"
    }
   ],
   "source": [
    "# Plot loss\n",
    "plt.figure(figsize=(6,5))\n",
    "plt.semilogy(result_lstm.history['loss'],label='$Training_{LSTM}$')\n",
    "plt.semilogy(result_lstm.history['val_loss'],label='$Validation_{LSTM}$')\n",
    "plt.semilogy(result_trans.history['loss'],label='$Tranining_{Transformer}$')\n",
    "plt.semilogy(result_trans.history['val_loss'],label='$Validation_{Transformer}$')\n",
    "plt.legend(loc=1, fontsize=12)\n",
    "plt.ylabel('Loss', fontsize=12)\n",
    "plt.xlabel('Epochs', fontsize=12)\n",
    "\n",
    "# plt.savefig(path + 'Loss_surrogate_SISO_FOPDT_multistep.eps', format='eps')"
   ]
  },
  {
   "cell_type": "markdown",
   "metadata": {
    "id": "iqk4l7Vmzyht"
   },
   "source": [
    "## 5. Using measured values to predict next step"
   ]
  },
  {
   "cell_type": "markdown",
   "metadata": {
    "id": "hA0tkKp5dfro"
   },
   "source": [
    "### LSTM"
   ]
  },
  {
   "cell_type": "code",
   "execution_count": 25,
   "metadata": {
    "id": "vOi7NSOSlLfk"
   },
   "outputs": [],
   "source": [
    "# # Load NN Models\n",
    "model_lstm = load_model('MPC_MIMO_FOPDT_multistep_LSTM_6000.h5')\n",
    "model_trans = load_model('MPC_MIMO_FOPDT_multistep_Trans_6000.h5')"
   ]
  },
  {
   "cell_type": "code",
   "execution_count": 26,
   "metadata": {
    "colab": {
     "base_uri": "https://localhost:8080/",
     "height": 562
    },
    "executionInfo": {
     "elapsed": 3345,
     "status": "ok",
     "timestamp": 1633358822504,
     "user": {
      "displayName": "Junho Park",
      "photoUrl": "https://lh3.googleusercontent.com/a-/AOh14GhWH0H954i4D0PPc6sNLVFrvhJj0CKnJSQoAJisShY=s64",
      "userId": "07513182812079543524"
     },
     "user_tz": 360
    },
    "id": "euUUzLYa4pJW",
    "outputId": "04e3527a-95f6-47a1-818f-10355df5c340"
   },
   "outputs": [
    {
     "name": "stderr",
     "output_type": "stream",
     "text": [
      "2022-05-27 13:59:20.406772: I tensorflow/core/grappler/optimizers/custom_graph_optimizer_registry.cc:113] Plugin optimizer for device_type GPU is enabled.\n",
      "2022-05-27 13:59:20.564596: I tensorflow/core/grappler/optimizers/custom_graph_optimizer_registry.cc:113] Plugin optimizer for device_type GPU is enabled.\n",
      "2022-05-27 13:59:20.613225: I tensorflow/core/grappler/optimizers/custom_graph_optimizer_registry.cc:113] Plugin optimizer for device_type GPU is enabled.\n",
      "2022-05-27 13:59:20.658298: I tensorflow/core/grappler/optimizers/custom_graph_optimizer_registry.cc:113] Plugin optimizer for device_type GPU is enabled.\n",
      "2022-05-27 13:59:22.440198: I tensorflow/core/grappler/optimizers/custom_graph_optimizer_registry.cc:113] Plugin optimizer for device_type GPU is enabled.\n"
     ]
    }
   ],
   "source": [
    "# Verify the fit of the model\n",
    "Yp_train_lstm = model_lstm.predict(X_train)\n",
    "Yp_val_lstm = model_lstm.predict(X_val)\n",
    "\n",
    "# un-scale outputs\n",
    "# Yu_train_lstm = s2.inverse_transform(Yp_train_lstm) # model prediction\n",
    "# Ym_train = s2.inverse_transform(Y_train) # measured value\n",
    "\n",
    "# Yu_val_lstm = s2.inverse_transform(Yp_val_lstm) # model prediction\n",
    "# Ym_val = s2.inverse_transform(Y_val) # measured value\n",
    "\n",
    "\n",
    "# Verify the fit of the model\n",
    "Yp_train_trans = model_trans.predict(X_train)\n",
    "Yp_val_trans = model_trans.predict(X_val)\n",
    "\n",
    "# un-scale outputs\n",
    "# Yu_train_trans = s2.inverse_transform(Yp_train_trans) # model prediction\n",
    "# Ym_train = s2.inverse_transform(Y_train) # measured value\n",
    "\n",
    "# Yu_val_trans = s2.inverse_transform(Yp_val_trans) # model prediction\n",
    "# Ym_val = s2.inverse_transform(Y_val) # measured value\n",
    "\n",
    "\n",
    "\n",
    "\n",
    "# plt.figure(0, figsize=(30,4))\n",
    "# plt.subplot(1,2,1)\n",
    "# plt.plot(data.index[window:cut_index-P],Ym_train[:,0],'b-',label='Measured')\n",
    "# plt.plot(data.index[window:cut_index-P],Yu_train_lstm[:,0],'r-',label='LSTM')\n",
    "# plt.plot(data.index[window:cut_index-P],Yu_train_trans[:,0],'g--',label='Transformer')\n",
    "\n",
    "# plt.title('Training')\n",
    "# plt.legend()\n",
    "# plt.subplot(1,2,2)\n",
    "# plt.plot(data.index[cut_index+window:-P],Ym_val[:,0],'b-',label='Measured')\n",
    "# plt.plot(data.index[cut_index+window:-P],Yu_val_lstm[:,0],'r-',label='LSTM')\n",
    "# plt.plot(data.index[cut_index+window:-P],Yu_val_trans[:,0],'g--',label='Transformer')\n",
    "# plt.title('Validation')\n",
    "# plt.legend()\n",
    "\n",
    "# plt.figure(1, figsize=(30,4))\n",
    "# plt.subplot(1,2,1)\n",
    "# plt.plot(data.index[window:cut_index-P],Ym_train[:,4],'b-',label='Measured')\n",
    "# plt.plot(data.index[window:cut_index-P],Yu_train_lstm[:,4],'r-',label='LSTM')\n",
    "# plt.plot(data.index[window:cut_index-P],Yu_train_trans[:,4],'g--',label='Transformer')\n",
    "# plt.title('Training')\n",
    "# plt.legend()\n",
    "\n",
    "# plt.subplot(1,2,2)\n",
    "# plt.plot(data.index[cut_index+window:-P],Ym_val[:,4],'b-',label='Measured')\n",
    "# plt.plot(data.index[cut_index+window:-P],Yu_val_lstm[:,4],'r-',label='LSTM')\n",
    "# plt.plot(data.index[cut_index+window:-P],Yu_val_trans[:,4],'g--',label='Transformer')\n",
    "# plt.title('Validation')\n",
    "# plt.legend()\n",
    "\n"
   ]
  },
  {
   "cell_type": "code",
   "execution_count": 27,
   "metadata": {},
   "outputs": [
    {
     "data": {
      "text/plain": [
       "(2985, 10, 2)"
      ]
     },
     "execution_count": 27,
     "metadata": {},
     "output_type": "execute_result"
    }
   ],
   "source": [
    "Y_train.shape"
   ]
  },
  {
   "cell_type": "code",
   "execution_count": 28,
   "metadata": {},
   "outputs": [
    {
     "data": {
      "text/plain": [
       "[<matplotlib.lines.Line2D at 0x2e3480eb0>]"
      ]
     },
     "execution_count": 28,
     "metadata": {},
     "output_type": "execute_result"
    },
    {
     "data": {
      "image/png": "[encoded data removed]",
      "text/plain": [
       "<Figure size 432x288 with 1 Axes>"
      ]
     },
     "metadata": {
      "needs_background": "light"
     },
     "output_type": "display_data"
    }
   ],
   "source": [
    "plt.plot(Yp_val_trans[:,5,0])\n",
    "plt.plot(Y_val[:,5,0],\"--\")"
   ]
  },
  {
   "cell_type": "code",
   "execution_count": 29,
   "metadata": {},
   "outputs": [],
   "source": [
    "a = Yp_val_trans.reshape(Yp_val_trans.shape[0], Yp_val_trans.shape[2], Yp_val_trans.shape[1])\n",
    "b = Y_val.reshape(Y_val.shape[0], Y_val.shape[2], Y_val.shape[1])"
   ]
  },
  {
   "cell_type": "code",
   "execution_count": 30,
   "metadata": {},
   "outputs": [
    {
     "data": {
      "text/plain": [
       "[<matplotlib.lines.Line2D at 0x2e344a3a0>]"
      ]
     },
     "execution_count": 30,
     "metadata": {},
     "output_type": "execute_result"
    },
    {
     "data": {
      "image/png": "[encoded data removed]",
      "text/plain": [
       "<Figure size 432x288 with 1 Axes>"
      ]
     },
     "metadata": {
      "needs_background": "light"
     },
     "output_type": "display_data"
    }
   ],
   "source": [
    "plt.plot(a[:220, 0, 9])\n",
    "plt.plot(b[:220, 0, 9], '-.')"
   ]
  },
  {
   "cell_type": "code",
   "execution_count": 31,
   "metadata": {},
   "outputs": [
    {
     "data": {
      "text/plain": [
       "<matplotlib.legend.Legend at 0x2e34d78e0>"
      ]
     },
     "execution_count": 31,
     "metadata": {},
     "output_type": "execute_result"
    },
    {
     "data": {
      "image/png": "[encoded data removed]",
      "text/plain": [
       "<Figure size 432x288 with 1 Axes>"
      ]
     },
     "metadata": {
      "needs_background": "light"
     },
     "output_type": "display_data"
    }
   ],
   "source": [
    "plt.plot(Yp_val_lstm[200], '*', label='LSTM')\n",
    "plt.plot(Yp_val_trans[200], '-.', label='Transformer')\n",
    "\n",
    "plt.plot(Y_val[200], label='Original')\n",
    "plt.legend()"
   ]
  },
  {
   "cell_type": "code",
   "execution_count": 32,
   "metadata": {
    "colab": {
     "base_uri": "https://localhost:8080/",
     "height": 284
    },
    "executionInfo": {
     "elapsed": 1129,
     "status": "ok",
     "timestamp": 1633371929015,
     "user": {
      "displayName": "Junho Park",
      "photoUrl": "https://lh3.googleusercontent.com/a-/AOh14GhWH0H954i4D0PPc6sNLVFrvhJj0CKnJSQoAJisShY=s64",
      "userId": "07513182812079543524"
     },
     "user_tz": 360
    },
    "id": "fTNhJDfPZLP6",
    "outputId": "f6c80707-7ed2-4898-ab19-f01fc93636df"
   },
   "outputs": [
    {
     "ename": "NameError",
     "evalue": "name 'Ym_train' is not defined",
     "output_type": "error",
     "traceback": [
      "\u001b[0;31m---------------------------------------------------------------------------\u001b[0m",
      "\u001b[0;31mNameError\u001b[0m                                 Traceback (most recent call last)",
      "Input \u001b[0;32mIn [32]\u001b[0m, in \u001b[0;36m<cell line: 4>\u001b[0;34m()\u001b[0m\n\u001b[1;32m      1\u001b[0m \u001b[38;5;66;03m# plt.plot(data.index[window:cut_index-P],Ym_train[:,0],'b-',label='Measured')\u001b[39;00m\n\u001b[1;32m      2\u001b[0m \u001b[38;5;66;03m# plt.plot(data.index[window:cut_index-P],Yu_train_lstm[:,0],'r-',label='LSTM')\u001b[39;00m\n\u001b[1;32m      3\u001b[0m plt\u001b[38;5;241m.\u001b[39mfigure(figsize\u001b[38;5;241m=\u001b[39m(\u001b[38;5;241m30\u001b[39m,\u001b[38;5;241m4\u001b[39m))\n\u001b[0;32m----> 4\u001b[0m plt\u001b[38;5;241m.\u001b[39mplot(\u001b[43mYm_train\u001b[49m[:,\u001b[38;5;241m0\u001b[39m], \u001b[38;5;124m'\u001b[39m\u001b[38;5;124mk-\u001b[39m\u001b[38;5;124m'\u001b[39m)\n\u001b[1;32m      5\u001b[0m plt\u001b[38;5;241m.\u001b[39mplot(Y2, \u001b[38;5;124m'\u001b[39m\u001b[38;5;124mg--\u001b[39m\u001b[38;5;124m'\u001b[39m)\n\u001b[1;32m      6\u001b[0m plt\u001b[38;5;241m.\u001b[39mplot(Y1,\u001b[38;5;124m'\u001b[39m\u001b[38;5;124mr--\u001b[39m\u001b[38;5;124m'\u001b[39m,label\u001b[38;5;241m=\u001b[39m\u001b[38;5;124m'\u001b[39m\u001b[38;5;124mTransformer\u001b[39m\u001b[38;5;124m'\u001b[39m)\n",
      "\u001b[0;31mNameError\u001b[0m: name 'Ym_train' is not defined"
     ]
    },
    {
     "data": {
      "text/plain": [
       "<Figure size 2160x288 with 0 Axes>"
      ]
     },
     "metadata": {},
     "output_type": "display_data"
    }
   ],
   "source": [
    "# plt.plot(data.index[window:cut_index-P],Ym_train[:,0],'b-',label='Measured')\n",
    "# plt.plot(data.index[window:cut_index-P],Yu_train_lstm[:,0],'r-',label='LSTM')\n",
    "plt.figure(figsize=(30,4))\n",
    "plt.plot(Ym_train[:,0], 'k-')\n",
    "plt.plot(Y2, 'g--')\n",
    "plt.plot(Y1,'r--',label='Transformer')\n",
    "\n",
    "\n",
    "\n",
    "np.shape(Yu_train_trans[0:785:10])\n",
    "Y1 = np.transpose(np.reshape(Yu_train_trans[0:785:10], (1,790)))\n",
    "Y2 = np.transpose(np.reshape(Yu_train_lstm[0:785:10], (1,790)))\n",
    "np.reshape()"
   ]
  },
  {
   "cell_type": "code",
   "execution_count": null,
   "metadata": {
    "colab": {
     "base_uri": "https://localhost:8080/",
     "height": 301
    },
    "executionInfo": {
     "elapsed": 770,
     "status": "ok",
     "timestamp": 1633358823266,
     "user": {
      "displayName": "Junho Park",
      "photoUrl": "https://lh3.googleusercontent.com/a-/AOh14GhWH0H954i4D0PPc6sNLVFrvhJj0CKnJSQoAJisShY=s64",
      "userId": "07513182812079543524"
     },
     "user_tz": 360
    },
    "id": "XaQTyAHbUlX5",
    "outputId": "74e11da3-cd1d-459d-8332-d1035a216762"
   },
   "outputs": [],
   "source": [
    "j =210\n",
    "plt.subplot(2,1,1)\n",
    "plt.plot(Yu_val_lstm[j], 'r--', label='LSTM Prediction')\n",
    "plt.plot(Ym_val[j], label='Data')\n",
    "plt.legend()\n",
    "\n",
    "plt.subplot(2,1,2)\n",
    "plt.plot(X_val[j][window:,0], 'r-', drawstyle = 'steps')\n",
    "plt.legend()"
   ]
  }
 ],
 "metadata": {
  "accelerator": "GPU",
  "colab": {
   "collapsed_sections": [],
   "name": "01_2_Transformer_Training_FOPDT_Multistep_prediction.ipynb",
   "provenance": []
  },
  "kernelspec": {
   "display_name": "Python 3 (ipykernel)",
   "language": "python",
   "name": "python3"
  },
  "language_info": {
   "codemirror_mode": {
    "name": "ipython",
    "version": 3
   },
   "file_extension": ".py",
   "mimetype": "text/x-python",
   "name": "python",
   "nbconvert_exporter": "python",
   "pygments_lexer": "ipython3",
   "version": "3.8.13"
  },
  "widgets": {
   "application/vnd.jupyter.widget-state+json": {
    "1a072717ca60442e992cbc3e02b1fa08": {
     "model_module": "@jupyter-widgets/controls",
     "model_module_version": "1.5.0",
     "model_name": "DescriptionStyleModel",
     "state": {
      "_model_module": "@jupyter-widgets/controls",
      "_model_module_version": "1.5.0",
      "_model_name": "DescriptionStyleModel",
      "_view_count": null,
      "_view_module": "@jupyter-widgets/base",
      "_view_module_version": "1.2.0",
      "_view_name": "StyleView",
      "description_width": ""
     }
    },
    "212aedc33b8f4c4abbafcc7027c4bada": {
     "model_module": "@jupyter-widgets/base",
     "model_module_version": "1.2.0",
     "model_name": "LayoutModel",
     "state": {
      "_model_module": "@jupyter-widgets/base",
      "_model_module_version": "1.2.0",
      "_model_name": "LayoutModel",
      "_view_count": null,
      "_view_module": "@jupyter-widgets/base",
      "_view_module_version": "1.2.0",
      "_view_name": "LayoutView",
      "align_content": null,
      "align_items": null,
      "align_self": null,
      "border": null,
      "bottom": null,
      "display": null,
      "flex": null,
      "flex_flow": null,
      "grid_area": null,
      "grid_auto_columns": null,
      "grid_auto_flow": null,
      "grid_auto_rows": null,
      "grid_column": null,
      "grid_gap": null,
      "grid_row": null,
      "grid_template_areas": null,
      "grid_template_columns": null,
      "grid_template_rows": null,
      "height": null,
      "justify_content": null,
      "justify_items": null,
      "left": null,
      "margin": null,
      "max_height": null,
      "max_width": null,
      "min_height": null,
      "min_width": null,
      "object_fit": null,
      "object_position": null,
      "order": null,
      "overflow": null,
      "overflow_x": null,
      "overflow_y": null,
      "padding": null,
      "right": null,
      "top": null,
      "visibility": null,
      "width": null
     }
    },
    "2c3862a227af4bddbd7fb635724dd405": {
     "model_module": "@jupyter-widgets/controls",
     "model_module_version": "1.5.0",
     "model_name": "FloatProgressModel",
     "state": {
      "_dom_classes": [],
      "_model_module": "@jupyter-widgets/controls",
      "_model_module_version": "1.5.0",
      "_model_name": "FloatProgressModel",
      "_view_count": null,
      "_view_module": "@jupyter-widgets/controls",
      "_view_module_version": "1.5.0",
      "_view_name": "ProgressView",
      "bar_style": "danger",
      "description": "",
      "description_tooltip": null,
      "layout": "IPY_MODEL_2df1d0f0452f4b8ea7af58e246d9a5d2",
      "max": 300,
      "min": 0,
      "orientation": "horizontal",
      "style": "IPY_MODEL_5a63785818864f8684c629d4ac8709af",
      "value": 21
     }
    },
    "2cc799f553804d6d92e89a8e380be677": {
     "model_module": "@jupyter-widgets/controls",
     "model_module_version": "1.5.0",
     "model_name": "FloatProgressModel",
     "state": {
      "_dom_classes": [],
      "_model_module": "@jupyter-widgets/controls",
      "_model_module_version": "1.5.0",
      "_model_name": "FloatProgressModel",
      "_view_count": null,
      "_view_module": "@jupyter-widgets/controls",
      "_view_module_version": "1.5.0",
      "_view_name": "ProgressView",
      "bar_style": "danger",
      "description": "",
      "description_tooltip": null,
      "layout": "IPY_MODEL_37fd1fd0df014100bc76cfddb227d9e3",
      "max": 300,
      "min": 0,
      "orientation": "horizontal",
      "style": "IPY_MODEL_89af1f6890514d0cbf6aa785fba21e0d",
      "value": 175
     }
    },
    "2df1d0f0452f4b8ea7af58e246d9a5d2": {
     "model_module": "@jupyter-widgets/base",
     "model_module_version": "1.2.0",
     "model_name": "LayoutModel",
     "state": {
      "_model_module": "@jupyter-widgets/base",
      "_model_module_version": "1.2.0",
      "_model_name": "LayoutModel",
      "_view_count": null,
      "_view_module": "@jupyter-widgets/base",
      "_view_module_version": "1.2.0",
      "_view_name": "LayoutView",
      "align_content": null,
      "align_items": null,
      "align_self": null,
      "border": null,
      "bottom": null,
      "display": null,
      "flex": null,
      "flex_flow": null,
      "grid_area": null,
      "grid_auto_columns": null,
      "grid_auto_flow": null,
      "grid_auto_rows": null,
      "grid_column": null,
      "grid_gap": null,
      "grid_row": null,
      "grid_template_areas": null,
      "grid_template_columns": null,
      "grid_template_rows": null,
      "height": null,
      "justify_content": null,
      "justify_items": null,
      "left": null,
      "margin": null,
      "max_height": null,
      "max_width": null,
      "min_height": null,
      "min_width": null,
      "object_fit": null,
      "object_position": null,
      "order": null,
      "overflow": null,
      "overflow_x": null,
      "overflow_y": null,
      "padding": null,
      "right": null,
      "top": null,
      "visibility": null,
      "width": null
     }
    },
    "304fe34ac1954edd9b1880c16a2ef6a6": {
     "model_module": "@jupyter-widgets/base",
     "model_module_version": "1.2.0",
     "model_name": "LayoutModel",
     "state": {
      "_model_module": "@jupyter-widgets/base",
      "_model_module_version": "1.2.0",
      "_model_name": "LayoutModel",
      "_view_count": null,
      "_view_module": "@jupyter-widgets/base",
      "_view_module_version": "1.2.0",
      "_view_name": "LayoutView",
      "align_content": null,
      "align_items": null,
      "align_self": null,
      "border": null,
      "bottom": null,
      "display": null,
      "flex": null,
      "flex_flow": null,
      "grid_area": null,
      "grid_auto_columns": null,
      "grid_auto_flow": null,
      "grid_auto_rows": null,
      "grid_column": null,
      "grid_gap": null,
      "grid_row": null,
      "grid_template_areas": null,
      "grid_template_columns": null,
      "grid_template_rows": null,
      "height": null,
      "justify_content": null,
      "justify_items": null,
      "left": null,
      "margin": null,
      "max_height": null,
      "max_width": null,
      "min_height": null,
      "min_width": null,
      "object_fit": null,
      "object_position": null,
      "order": null,
      "overflow": null,
      "overflow_x": null,
      "overflow_y": null,
      "padding": null,
      "right": null,
      "top": null,
      "visibility": null,
      "width": null
     }
    },
    "37fd1fd0df014100bc76cfddb227d9e3": {
     "model_module": "@jupyter-widgets/base",
     "model_module_version": "1.2.0",
     "model_name": "LayoutModel",
     "state": {
      "_model_module": "@jupyter-widgets/base",
      "_model_module_version": "1.2.0",
      "_model_name": "LayoutModel",
      "_view_count": null,
      "_view_module": "@jupyter-widgets/base",
      "_view_module_version": "1.2.0",
      "_view_name": "LayoutView",
      "align_content": null,
      "align_items": null,
      "align_self": null,
      "border": null,
      "bottom": null,
      "display": null,
      "flex": null,
      "flex_flow": null,
      "grid_area": null,
      "grid_auto_columns": null,
      "grid_auto_flow": null,
      "grid_auto_rows": null,
      "grid_column": null,
      "grid_gap": null,
      "grid_row": null,
      "grid_template_areas": null,
      "grid_template_columns": null,
      "grid_template_rows": null,
      "height": null,
      "justify_content": null,
      "justify_items": null,
      "left": null,
      "margin": null,
      "max_height": null,
      "max_width": null,
      "min_height": null,
      "min_width": null,
      "object_fit": null,
      "object_position": null,
      "order": null,
      "overflow": null,
      "overflow_x": null,
      "overflow_y": null,
      "padding": null,
      "right": null,
      "top": null,
      "visibility": null,
      "width": null
     }
    },
    "3d134d89cc9642bc8b7524b469a24b7d": {
     "model_module": "@jupyter-widgets/controls",
     "model_module_version": "1.5.0",
     "model_name": "FloatProgressModel",
     "state": {
      "_dom_classes": [],
      "_model_module": "@jupyter-widgets/controls",
      "_model_module_version": "1.5.0",
      "_model_name": "FloatProgressModel",
      "_view_count": null,
      "_view_module": "@jupyter-widgets/controls",
      "_view_module_version": "1.5.0",
      "_view_name": "ProgressView",
      "bar_style": "",
      "description": "",
      "description_tooltip": null,
      "layout": "IPY_MODEL_d90584c6ce9447ea805283d3f6fe478e",
      "max": 25,
      "min": 0,
      "orientation": "horizontal",
      "style": "IPY_MODEL_8d7a19be167545ba93f2bef6802532a9",
      "value": 25
     }
    },
    "461746b1bc744093a5b87feee5dd540f": {
     "model_module": "@jupyter-widgets/controls",
     "model_module_version": "1.5.0",
     "model_name": "HTMLModel",
     "state": {
      "_dom_classes": [],
      "_model_module": "@jupyter-widgets/controls",
      "_model_module_version": "1.5.0",
      "_model_name": "HTMLModel",
      "_view_count": null,
      "_view_module": "@jupyter-widgets/controls",
      "_view_module_version": "1.5.0",
      "_view_name": "HTMLView",
      "description": "",
      "description_tooltip": null,
      "layout": "IPY_MODEL_e42aa5788f9d43d08ec6144707aa9731",
      "placeholder": "​",
      "style": "IPY_MODEL_4df05ea2eae34de18647c48b6d8f306e",
      "value": " 15.0/25.0 [00:00&lt;00:00, 130batch/s, loss=0.000282, accuracy=0.708]"
     }
    },
    "4df05ea2eae34de18647c48b6d8f306e": {
     "model_module": "@jupyter-widgets/controls",
     "model_module_version": "1.5.0",
     "model_name": "DescriptionStyleModel",
     "state": {
      "_model_module": "@jupyter-widgets/controls",
      "_model_module_version": "1.5.0",
      "_model_name": "DescriptionStyleModel",
      "_view_count": null,
      "_view_module": "@jupyter-widgets/base",
      "_view_module_version": "1.2.0",
      "_view_name": "StyleView",
      "description_width": ""
     }
    },
    "53558dc85d254d6696bfbbc608e23669": {
     "model_module": "@jupyter-widgets/base",
     "model_module_version": "1.2.0",
     "model_name": "LayoutModel",
     "state": {
      "_model_module": "@jupyter-widgets/base",
      "_model_module_version": "1.2.0",
      "_model_name": "LayoutModel",
      "_view_count": null,
      "_view_module": "@jupyter-widgets/base",
      "_view_module_version": "1.2.0",
      "_view_name": "LayoutView",
      "align_content": null,
      "align_items": null,
      "align_self": null,
      "border": null,
      "bottom": null,
      "display": null,
      "flex": null,
      "flex_flow": null,
      "grid_area": null,
      "grid_auto_columns": null,
      "grid_auto_flow": null,
      "grid_auto_rows": null,
      "grid_column": null,
      "grid_gap": null,
      "grid_row": null,
      "grid_template_areas": null,
      "grid_template_columns": null,
      "grid_template_rows": null,
      "height": null,
      "justify_content": null,
      "justify_items": null,
      "left": null,
      "margin": null,
      "max_height": null,
      "max_width": null,
      "min_height": null,
      "min_width": null,
      "object_fit": null,
      "object_position": null,
      "order": null,
      "overflow": null,
      "overflow_x": null,
      "overflow_y": null,
      "padding": null,
      "right": null,
      "top": null,
      "visibility": null,
      "width": null
     }
    },
    "556a33b923ae4e64b7ef7c99e4de2f74": {
     "model_module": "@jupyter-widgets/base",
     "model_module_version": "1.2.0",
     "model_name": "LayoutModel",
     "state": {
      "_model_module": "@jupyter-widgets/base",
      "_model_module_version": "1.2.0",
      "_model_name": "LayoutModel",
      "_view_count": null,
      "_view_module": "@jupyter-widgets/base",
      "_view_module_version": "1.2.0",
      "_view_name": "LayoutView",
      "align_content": null,
      "align_items": null,
      "align_self": null,
      "border": null,
      "bottom": null,
      "display": null,
      "flex": null,
      "flex_flow": null,
      "grid_area": null,
      "grid_auto_columns": null,
      "grid_auto_flow": null,
      "grid_auto_rows": null,
      "grid_column": null,
      "grid_gap": null,
      "grid_row": null,
      "grid_template_areas": null,
      "grid_template_columns": null,
      "grid_template_rows": null,
      "height": null,
      "justify_content": null,
      "justify_items": null,
      "left": null,
      "margin": null,
      "max_height": null,
      "max_width": null,
      "min_height": null,
      "min_width": null,
      "object_fit": null,
      "object_position": null,
      "order": null,
      "overflow": null,
      "overflow_x": null,
      "overflow_y": null,
      "padding": null,
      "right": null,
      "top": null,
      "visibility": null,
      "width": null
     }
    },
    "5702987e3fc642809cf01db1153c6a3c": {
     "model_module": "@jupyter-widgets/base",
     "model_module_version": "1.2.0",
     "model_name": "LayoutModel",
     "state": {
      "_model_module": "@jupyter-widgets/base",
      "_model_module_version": "1.2.0",
      "_model_name": "LayoutModel",
      "_view_count": null,
      "_view_module": "@jupyter-widgets/base",
      "_view_module_version": "1.2.0",
      "_view_name": "LayoutView",
      "align_content": null,
      "align_items": null,
      "align_self": null,
      "border": null,
      "bottom": null,
      "display": null,
      "flex": null,
      "flex_flow": null,
      "grid_area": null,
      "grid_auto_columns": null,
      "grid_auto_flow": null,
      "grid_auto_rows": null,
      "grid_column": null,
      "grid_gap": null,
      "grid_row": null,
      "grid_template_areas": null,
      "grid_template_columns": null,
      "grid_template_rows": null,
      "height": null,
      "justify_content": null,
      "justify_items": null,
      "left": null,
      "margin": null,
      "max_height": null,
      "max_width": null,
      "min_height": null,
      "min_width": null,
      "object_fit": null,
      "object_position": null,
      "order": null,
      "overflow": null,
      "overflow_x": null,
      "overflow_y": null,
      "padding": null,
      "right": null,
      "top": null,
      "visibility": null,
      "width": null
     }
    },
    "5a63785818864f8684c629d4ac8709af": {
     "model_module": "@jupyter-widgets/controls",
     "model_module_version": "1.5.0",
     "model_name": "ProgressStyleModel",
     "state": {
      "_model_module": "@jupyter-widgets/controls",
      "_model_module_version": "1.5.0",
      "_model_name": "ProgressStyleModel",
      "_view_count": null,
      "_view_module": "@jupyter-widgets/base",
      "_view_module_version": "1.2.0",
      "_view_name": "StyleView",
      "bar_color": null,
      "description_width": ""
     }
    },
    "6d3c374ad9f844df8e174bd8439dd1ac": {
     "model_module": "@jupyter-widgets/controls",
     "model_module_version": "1.5.0",
     "model_name": "DescriptionStyleModel",
     "state": {
      "_model_module": "@jupyter-widgets/controls",
      "_model_module_version": "1.5.0",
      "_model_name": "DescriptionStyleModel",
      "_view_count": null,
      "_view_module": "@jupyter-widgets/base",
      "_view_module_version": "1.2.0",
      "_view_name": "StyleView",
      "description_width": ""
     }
    },
    "6d93a462295a4aa8a1a4aa7b109b2bb6": {
     "model_module": "@jupyter-widgets/base",
     "model_module_version": "1.2.0",
     "model_name": "LayoutModel",
     "state": {
      "_model_module": "@jupyter-widgets/base",
      "_model_module_version": "1.2.0",
      "_model_name": "LayoutModel",
      "_view_count": null,
      "_view_module": "@jupyter-widgets/base",
      "_view_module_version": "1.2.0",
      "_view_name": "LayoutView",
      "align_content": null,
      "align_items": null,
      "align_self": null,
      "border": null,
      "bottom": null,
      "display": null,
      "flex": null,
      "flex_flow": null,
      "grid_area": null,
      "grid_auto_columns": null,
      "grid_auto_flow": null,
      "grid_auto_rows": null,
      "grid_column": null,
      "grid_gap": null,
      "grid_row": null,
      "grid_template_areas": null,
      "grid_template_columns": null,
      "grid_template_rows": null,
      "height": null,
      "justify_content": null,
      "justify_items": null,
      "left": null,
      "margin": null,
      "max_height": null,
      "max_width": null,
      "min_height": null,
      "min_width": null,
      "object_fit": null,
      "object_position": null,
      "order": null,
      "overflow": null,
      "overflow_x": null,
      "overflow_y": null,
      "padding": null,
      "right": null,
      "top": null,
      "visibility": null,
      "width": null
     }
    },
    "744916f85a744a8b98274759a04e5d13": {
     "model_module": "@jupyter-widgets/controls",
     "model_module_version": "1.5.0",
     "model_name": "HBoxModel",
     "state": {
      "_dom_classes": [],
      "_model_module": "@jupyter-widgets/controls",
      "_model_module_version": "1.5.0",
      "_model_name": "HBoxModel",
      "_view_count": null,
      "_view_module": "@jupyter-widgets/controls",
      "_view_module_version": "1.5.0",
      "_view_name": "HBoxView",
      "box_style": "",
      "children": [
       "IPY_MODEL_f29ebfcfd9364f5d8f51b888009c06f4",
       "IPY_MODEL_dbc1453cdd864bc1bbcdde1f6651d0e5",
       "IPY_MODEL_461746b1bc744093a5b87feee5dd540f"
      ],
      "layout": "IPY_MODEL_e576b5533ddb4c4c8786a771a0aaa20d"
     }
    },
    "747a08fdae574e13b3d2c2c01a01dd06": {
     "model_module": "@jupyter-widgets/controls",
     "model_module_version": "1.5.0",
     "model_name": "HTMLModel",
     "state": {
      "_dom_classes": [],
      "_model_module": "@jupyter-widgets/controls",
      "_model_module_version": "1.5.0",
      "_model_name": "HTMLModel",
      "_view_count": null,
      "_view_module": "@jupyter-widgets/controls",
      "_view_module_version": "1.5.0",
      "_view_name": "HTMLView",
      "description": "",
      "description_tooltip": null,
      "layout": "IPY_MODEL_8cbc8461ba3344b0b81a870948277a68",
      "placeholder": "​",
      "style": "IPY_MODEL_1a072717ca60442e992cbc3e02b1fa08",
      "value": "  7%"
     }
    },
    "7ba6529d54e544e5bad8e728ca2d6790": {
     "model_module": "@jupyter-widgets/controls",
     "model_module_version": "1.5.0",
     "model_name": "HBoxModel",
     "state": {
      "_dom_classes": [],
      "_model_module": "@jupyter-widgets/controls",
      "_model_module_version": "1.5.0",
      "_model_name": "HBoxModel",
      "_view_count": null,
      "_view_module": "@jupyter-widgets/controls",
      "_view_module_version": "1.5.0",
      "_view_name": "HBoxView",
      "box_style": "",
      "children": [
       "IPY_MODEL_9110a8827e5c4aebb4dfa802de9e0378",
       "IPY_MODEL_3d134d89cc9642bc8b7524b469a24b7d",
       "IPY_MODEL_8cc69eb7e18d4db8aac8b9de4f2a5f65"
      ],
      "layout": "IPY_MODEL_556a33b923ae4e64b7ef7c99e4de2f74"
     }
    },
    "7d66b21ee225419e9a7095d9f9eb4efe": {
     "model_module": "@jupyter-widgets/controls",
     "model_module_version": "1.5.0",
     "model_name": "ProgressStyleModel",
     "state": {
      "_model_module": "@jupyter-widgets/controls",
      "_model_module_version": "1.5.0",
      "_model_name": "ProgressStyleModel",
      "_view_count": null,
      "_view_module": "@jupyter-widgets/base",
      "_view_module_version": "1.2.0",
      "_view_name": "StyleView",
      "bar_color": null,
      "description_width": ""
     }
    },
    "7fab2f26ed3248a2831ed962a57a7617": {
     "model_module": "@jupyter-widgets/controls",
     "model_module_version": "1.5.0",
     "model_name": "HBoxModel",
     "state": {
      "_dom_classes": [],
      "_model_module": "@jupyter-widgets/controls",
      "_model_module_version": "1.5.0",
      "_model_name": "HBoxModel",
      "_view_count": null,
      "_view_module": "@jupyter-widgets/controls",
      "_view_module_version": "1.5.0",
      "_view_name": "HBoxView",
      "box_style": "",
      "children": [
       "IPY_MODEL_fb341d1e6b7a4670a666f659db48e005",
       "IPY_MODEL_2cc799f553804d6d92e89a8e380be677",
       "IPY_MODEL_e4c611b1e5bf4f818808fdc949948495"
      ],
      "layout": "IPY_MODEL_dcb432f8798948bb9d4c71bc643311c4"
     }
    },
    "89af1f6890514d0cbf6aa785fba21e0d": {
     "model_module": "@jupyter-widgets/controls",
     "model_module_version": "1.5.0",
     "model_name": "ProgressStyleModel",
     "state": {
      "_model_module": "@jupyter-widgets/controls",
      "_model_module_version": "1.5.0",
      "_model_name": "ProgressStyleModel",
      "_view_count": null,
      "_view_module": "@jupyter-widgets/base",
      "_view_module_version": "1.2.0",
      "_view_name": "StyleView",
      "bar_color": null,
      "description_width": ""
     }
    },
    "8cbc8461ba3344b0b81a870948277a68": {
     "model_module": "@jupyter-widgets/base",
     "model_module_version": "1.2.0",
     "model_name": "LayoutModel",
     "state": {
      "_model_module": "@jupyter-widgets/base",
      "_model_module_version": "1.2.0",
      "_model_name": "LayoutModel",
      "_view_count": null,
      "_view_module": "@jupyter-widgets/base",
      "_view_module_version": "1.2.0",
      "_view_name": "LayoutView",
      "align_content": null,
      "align_items": null,
      "align_self": null,
      "border": null,
      "bottom": null,
      "display": null,
      "flex": null,
      "flex_flow": null,
      "grid_area": null,
      "grid_auto_columns": null,
      "grid_auto_flow": null,
      "grid_auto_rows": null,
      "grid_column": null,
      "grid_gap": null,
      "grid_row": null,
      "grid_template_areas": null,
      "grid_template_columns": null,
      "grid_template_rows": null,
      "height": null,
      "justify_content": null,
      "justify_items": null,
      "left": null,
      "margin": null,
      "max_height": null,
      "max_width": null,
      "min_height": null,
      "min_width": null,
      "object_fit": null,
      "object_position": null,
      "order": null,
      "overflow": null,
      "overflow_x": null,
      "overflow_y": null,
      "padding": null,
      "right": null,
      "top": null,
      "visibility": null,
      "width": null
     }
    },
    "8cc69eb7e18d4db8aac8b9de4f2a5f65": {
     "model_module": "@jupyter-widgets/controls",
     "model_module_version": "1.5.0",
     "model_name": "HTMLModel",
     "state": {
      "_dom_classes": [],
      "_model_module": "@jupyter-widgets/controls",
      "_model_module_version": "1.5.0",
      "_model_name": "HTMLModel",
      "_view_count": null,
      "_view_module": "@jupyter-widgets/controls",
      "_view_module_version": "1.5.0",
      "_view_name": "HTMLView",
      "description": "",
      "description_tooltip": null,
      "layout": "IPY_MODEL_6d93a462295a4aa8a1a4aa7b109b2bb6",
      "placeholder": "​",
      "style": "IPY_MODEL_b96e27bdd13c4ea38911035dc42ccbb1",
      "value": " 23.0/25.0 [00:00&lt;00:00, 113batch/s, loss=0.00301, accuracy=0.515]"
     }
    },
    "8d7a19be167545ba93f2bef6802532a9": {
     "model_module": "@jupyter-widgets/controls",
     "model_module_version": "1.5.0",
     "model_name": "ProgressStyleModel",
     "state": {
      "_model_module": "@jupyter-widgets/controls",
      "_model_module_version": "1.5.0",
      "_model_name": "ProgressStyleModel",
      "_view_count": null,
      "_view_module": "@jupyter-widgets/base",
      "_view_module_version": "1.2.0",
      "_view_name": "StyleView",
      "bar_color": null,
      "description_width": ""
     }
    },
    "9110a8827e5c4aebb4dfa802de9e0378": {
     "model_module": "@jupyter-widgets/controls",
     "model_module_version": "1.5.0",
     "model_name": "HTMLModel",
     "state": {
      "_dom_classes": [],
      "_model_module": "@jupyter-widgets/controls",
      "_model_module_version": "1.5.0",
      "_model_name": "HTMLModel",
      "_view_count": null,
      "_view_module": "@jupyter-widgets/controls",
      "_view_module_version": "1.5.0",
      "_view_name": "HTMLView",
      "description": "",
      "description_tooltip": null,
      "layout": "IPY_MODEL_a08d88717a3d40d0b679c7ac998a718f",
      "placeholder": "​",
      "style": "IPY_MODEL_f0f9d1ca3a6f4ec8ac83ac38ef1f6c6d",
      "value": " 92%"
     }
    },
    "95faf2e6a0054a3eb9e33eba0d6ba9ce": {
     "model_module": "@jupyter-widgets/controls",
     "model_module_version": "1.5.0",
     "model_name": "HTMLModel",
     "state": {
      "_dom_classes": [],
      "_model_module": "@jupyter-widgets/controls",
      "_model_module_version": "1.5.0",
      "_model_name": "HTMLModel",
      "_view_count": null,
      "_view_module": "@jupyter-widgets/controls",
      "_view_module_version": "1.5.0",
      "_view_name": "HTMLView",
      "description": "",
      "description_tooltip": null,
      "layout": "IPY_MODEL_53558dc85d254d6696bfbbc608e23669",
      "placeholder": "​",
      "style": "IPY_MODEL_eef3d67027e641e580863d1d2fa803d1",
      "value": " 21/300 [00:08&lt;01:47,  2.60epoch/s, loss=0.00306, accuracy=0.515, val_loss=0.00144, val_accuracy=0.554]"
     }
    },
    "a08d88717a3d40d0b679c7ac998a718f": {
     "model_module": "@jupyter-widgets/base",
     "model_module_version": "1.2.0",
     "model_name": "LayoutModel",
     "state": {
      "_model_module": "@jupyter-widgets/base",
      "_model_module_version": "1.2.0",
      "_model_name": "LayoutModel",
      "_view_count": null,
      "_view_module": "@jupyter-widgets/base",
      "_view_module_version": "1.2.0",
      "_view_name": "LayoutView",
      "align_content": null,
      "align_items": null,
      "align_self": null,
      "border": null,
      "bottom": null,
      "display": null,
      "flex": null,
      "flex_flow": null,
      "grid_area": null,
      "grid_auto_columns": null,
      "grid_auto_flow": null,
      "grid_auto_rows": null,
      "grid_column": null,
      "grid_gap": null,
      "grid_row": null,
      "grid_template_areas": null,
      "grid_template_columns": null,
      "grid_template_rows": null,
      "height": null,
      "justify_content": null,
      "justify_items": null,
      "left": null,
      "margin": null,
      "max_height": null,
      "max_width": null,
      "min_height": null,
      "min_width": null,
      "object_fit": null,
      "object_position": null,
      "order": null,
      "overflow": null,
      "overflow_x": null,
      "overflow_y": null,
      "padding": null,
      "right": null,
      "top": null,
      "visibility": null,
      "width": null
     }
    },
    "aa0a227e635144cabd54595b6e2732f6": {
     "model_module": "@jupyter-widgets/base",
     "model_module_version": "1.2.0",
     "model_name": "LayoutModel",
     "state": {
      "_model_module": "@jupyter-widgets/base",
      "_model_module_version": "1.2.0",
      "_model_name": "LayoutModel",
      "_view_count": null,
      "_view_module": "@jupyter-widgets/base",
      "_view_module_version": "1.2.0",
      "_view_name": "LayoutView",
      "align_content": null,
      "align_items": null,
      "align_self": null,
      "border": null,
      "bottom": null,
      "display": null,
      "flex": null,
      "flex_flow": null,
      "grid_area": null,
      "grid_auto_columns": null,
      "grid_auto_flow": null,
      "grid_auto_rows": null,
      "grid_column": null,
      "grid_gap": null,
      "grid_row": null,
      "grid_template_areas": null,
      "grid_template_columns": null,
      "grid_template_rows": null,
      "height": null,
      "justify_content": null,
      "justify_items": null,
      "left": null,
      "margin": null,
      "max_height": null,
      "max_width": null,
      "min_height": null,
      "min_width": null,
      "object_fit": null,
      "object_position": null,
      "order": null,
      "overflow": null,
      "overflow_x": null,
      "overflow_y": null,
      "padding": null,
      "right": null,
      "top": null,
      "visibility": null,
      "width": null
     }
    },
    "b88f82ee46ff4fde9fee3ca2b7f29c66": {
     "model_module": "@jupyter-widgets/controls",
     "model_module_version": "1.5.0",
     "model_name": "DescriptionStyleModel",
     "state": {
      "_model_module": "@jupyter-widgets/controls",
      "_model_module_version": "1.5.0",
      "_model_name": "DescriptionStyleModel",
      "_view_count": null,
      "_view_module": "@jupyter-widgets/base",
      "_view_module_version": "1.2.0",
      "_view_name": "StyleView",
      "description_width": ""
     }
    },
    "b96e27bdd13c4ea38911035dc42ccbb1": {
     "model_module": "@jupyter-widgets/controls",
     "model_module_version": "1.5.0",
     "model_name": "DescriptionStyleModel",
     "state": {
      "_model_module": "@jupyter-widgets/controls",
      "_model_module_version": "1.5.0",
      "_model_name": "DescriptionStyleModel",
      "_view_count": null,
      "_view_module": "@jupyter-widgets/base",
      "_view_module_version": "1.2.0",
      "_view_name": "StyleView",
      "description_width": ""
     }
    },
    "d90584c6ce9447ea805283d3f6fe478e": {
     "model_module": "@jupyter-widgets/base",
     "model_module_version": "1.2.0",
     "model_name": "LayoutModel",
     "state": {
      "_model_module": "@jupyter-widgets/base",
      "_model_module_version": "1.2.0",
      "_model_name": "LayoutModel",
      "_view_count": null,
      "_view_module": "@jupyter-widgets/base",
      "_view_module_version": "1.2.0",
      "_view_name": "LayoutView",
      "align_content": null,
      "align_items": null,
      "align_self": null,
      "border": null,
      "bottom": null,
      "display": null,
      "flex": null,
      "flex_flow": null,
      "grid_area": null,
      "grid_auto_columns": null,
      "grid_auto_flow": null,
      "grid_auto_rows": null,
      "grid_column": null,
      "grid_gap": null,
      "grid_row": null,
      "grid_template_areas": null,
      "grid_template_columns": null,
      "grid_template_rows": null,
      "height": null,
      "justify_content": null,
      "justify_items": null,
      "left": null,
      "margin": null,
      "max_height": null,
      "max_width": null,
      "min_height": null,
      "min_width": null,
      "object_fit": null,
      "object_position": null,
      "order": null,
      "overflow": null,
      "overflow_x": null,
      "overflow_y": null,
      "padding": null,
      "right": null,
      "top": null,
      "visibility": null,
      "width": null
     }
    },
    "dbc1453cdd864bc1bbcdde1f6651d0e5": {
     "model_module": "@jupyter-widgets/controls",
     "model_module_version": "1.5.0",
     "model_name": "FloatProgressModel",
     "state": {
      "_dom_classes": [],
      "_model_module": "@jupyter-widgets/controls",
      "_model_module_version": "1.5.0",
      "_model_name": "FloatProgressModel",
      "_view_count": null,
      "_view_module": "@jupyter-widgets/controls",
      "_view_module_version": "1.5.0",
      "_view_name": "ProgressView",
      "bar_style": "",
      "description": "",
      "description_tooltip": null,
      "layout": "IPY_MODEL_212aedc33b8f4c4abbafcc7027c4bada",
      "max": 25,
      "min": 0,
      "orientation": "horizontal",
      "style": "IPY_MODEL_7d66b21ee225419e9a7095d9f9eb4efe",
      "value": 25
     }
    },
    "dcb432f8798948bb9d4c71bc643311c4": {
     "model_module": "@jupyter-widgets/base",
     "model_module_version": "1.2.0",
     "model_name": "LayoutModel",
     "state": {
      "_model_module": "@jupyter-widgets/base",
      "_model_module_version": "1.2.0",
      "_model_name": "LayoutModel",
      "_view_count": null,
      "_view_module": "@jupyter-widgets/base",
      "_view_module_version": "1.2.0",
      "_view_name": "LayoutView",
      "align_content": null,
      "align_items": null,
      "align_self": null,
      "border": null,
      "bottom": null,
      "display": null,
      "flex": null,
      "flex_flow": null,
      "grid_area": null,
      "grid_auto_columns": null,
      "grid_auto_flow": null,
      "grid_auto_rows": null,
      "grid_column": null,
      "grid_gap": null,
      "grid_row": null,
      "grid_template_areas": null,
      "grid_template_columns": null,
      "grid_template_rows": null,
      "height": null,
      "justify_content": null,
      "justify_items": null,
      "left": null,
      "margin": null,
      "max_height": null,
      "max_width": null,
      "min_height": null,
      "min_width": null,
      "object_fit": null,
      "object_position": null,
      "order": null,
      "overflow": null,
      "overflow_x": null,
      "overflow_y": null,
      "padding": null,
      "right": null,
      "top": null,
      "visibility": null,
      "width": null
     }
    },
    "e277f7e03a094cfeae5f06165bd8e20f": {
     "model_module": "@jupyter-widgets/controls",
     "model_module_version": "1.5.0",
     "model_name": "DescriptionStyleModel",
     "state": {
      "_model_module": "@jupyter-widgets/controls",
      "_model_module_version": "1.5.0",
      "_model_name": "DescriptionStyleModel",
      "_view_count": null,
      "_view_module": "@jupyter-widgets/base",
      "_view_module_version": "1.2.0",
      "_view_name": "StyleView",
      "description_width": ""
     }
    },
    "e42aa5788f9d43d08ec6144707aa9731": {
     "model_module": "@jupyter-widgets/base",
     "model_module_version": "1.2.0",
     "model_name": "LayoutModel",
     "state": {
      "_model_module": "@jupyter-widgets/base",
      "_model_module_version": "1.2.0",
      "_model_name": "LayoutModel",
      "_view_count": null,
      "_view_module": "@jupyter-widgets/base",
      "_view_module_version": "1.2.0",
      "_view_name": "LayoutView",
      "align_content": null,
      "align_items": null,
      "align_self": null,
      "border": null,
      "bottom": null,
      "display": null,
      "flex": null,
      "flex_flow": null,
      "grid_area": null,
      "grid_auto_columns": null,
      "grid_auto_flow": null,
      "grid_auto_rows": null,
      "grid_column": null,
      "grid_gap": null,
      "grid_row": null,
      "grid_template_areas": null,
      "grid_template_columns": null,
      "grid_template_rows": null,
      "height": null,
      "justify_content": null,
      "justify_items": null,
      "left": null,
      "margin": null,
      "max_height": null,
      "max_width": null,
      "min_height": null,
      "min_width": null,
      "object_fit": null,
      "object_position": null,
      "order": null,
      "overflow": null,
      "overflow_x": null,
      "overflow_y": null,
      "padding": null,
      "right": null,
      "top": null,
      "visibility": null,
      "width": null
     }
    },
    "e4c611b1e5bf4f818808fdc949948495": {
     "model_module": "@jupyter-widgets/controls",
     "model_module_version": "1.5.0",
     "model_name": "HTMLModel",
     "state": {
      "_dom_classes": [],
      "_model_module": "@jupyter-widgets/controls",
      "_model_module_version": "1.5.0",
      "_model_name": "HTMLModel",
      "_view_count": null,
      "_view_module": "@jupyter-widgets/controls",
      "_view_module_version": "1.5.0",
      "_view_name": "HTMLView",
      "description": "",
      "description_tooltip": null,
      "layout": "IPY_MODEL_304fe34ac1954edd9b1880c16a2ef6a6",
      "placeholder": "​",
      "style": "IPY_MODEL_6d3c374ad9f844df8e174bd8439dd1ac",
      "value": " 175/300 [00:59&lt;00:39,  3.18epoch/s, loss=0.000271, accuracy=0.704, val_loss=5.67e-5, val_accuracy=0.713]"
     }
    },
    "e576b5533ddb4c4c8786a771a0aaa20d": {
     "model_module": "@jupyter-widgets/base",
     "model_module_version": "1.2.0",
     "model_name": "LayoutModel",
     "state": {
      "_model_module": "@jupyter-widgets/base",
      "_model_module_version": "1.2.0",
      "_model_name": "LayoutModel",
      "_view_count": null,
      "_view_module": "@jupyter-widgets/base",
      "_view_module_version": "1.2.0",
      "_view_name": "LayoutView",
      "align_content": null,
      "align_items": null,
      "align_self": null,
      "border": null,
      "bottom": null,
      "display": null,
      "flex": null,
      "flex_flow": null,
      "grid_area": null,
      "grid_auto_columns": null,
      "grid_auto_flow": null,
      "grid_auto_rows": null,
      "grid_column": null,
      "grid_gap": null,
      "grid_row": null,
      "grid_template_areas": null,
      "grid_template_columns": null,
      "grid_template_rows": null,
      "height": null,
      "justify_content": null,
      "justify_items": null,
      "left": null,
      "margin": null,
      "max_height": null,
      "max_width": null,
      "min_height": null,
      "min_width": null,
      "object_fit": null,
      "object_position": null,
      "order": null,
      "overflow": null,
      "overflow_x": null,
      "overflow_y": null,
      "padding": null,
      "right": null,
      "top": null,
      "visibility": null,
      "width": null
     }
    },
    "eef3d67027e641e580863d1d2fa803d1": {
     "model_module": "@jupyter-widgets/controls",
     "model_module_version": "1.5.0",
     "model_name": "DescriptionStyleModel",
     "state": {
      "_model_module": "@jupyter-widgets/controls",
      "_model_module_version": "1.5.0",
      "_model_name": "DescriptionStyleModel",
      "_view_count": null,
      "_view_module": "@jupyter-widgets/base",
      "_view_module_version": "1.2.0",
      "_view_name": "StyleView",
      "description_width": ""
     }
    },
    "ef4b6c9e56614c84829cc09141b4fdc7": {
     "model_module": "@jupyter-widgets/base",
     "model_module_version": "1.2.0",
     "model_name": "LayoutModel",
     "state": {
      "_model_module": "@jupyter-widgets/base",
      "_model_module_version": "1.2.0",
      "_model_name": "LayoutModel",
      "_view_count": null,
      "_view_module": "@jupyter-widgets/base",
      "_view_module_version": "1.2.0",
      "_view_name": "LayoutView",
      "align_content": null,
      "align_items": null,
      "align_self": null,
      "border": null,
      "bottom": null,
      "display": null,
      "flex": null,
      "flex_flow": null,
      "grid_area": null,
      "grid_auto_columns": null,
      "grid_auto_flow": null,
      "grid_auto_rows": null,
      "grid_column": null,
      "grid_gap": null,
      "grid_row": null,
      "grid_template_areas": null,
      "grid_template_columns": null,
      "grid_template_rows": null,
      "height": null,
      "justify_content": null,
      "justify_items": null,
      "left": null,
      "margin": null,
      "max_height": null,
      "max_width": null,
      "min_height": null,
      "min_width": null,
      "object_fit": null,
      "object_position": null,
      "order": null,
      "overflow": null,
      "overflow_x": null,
      "overflow_y": null,
      "padding": null,
      "right": null,
      "top": null,
      "visibility": null,
      "width": null
     }
    },
    "f0f9d1ca3a6f4ec8ac83ac38ef1f6c6d": {
     "model_module": "@jupyter-widgets/controls",
     "model_module_version": "1.5.0",
     "model_name": "DescriptionStyleModel",
     "state": {
      "_model_module": "@jupyter-widgets/controls",
      "_model_module_version": "1.5.0",
      "_model_name": "DescriptionStyleModel",
      "_view_count": null,
      "_view_module": "@jupyter-widgets/base",
      "_view_module_version": "1.2.0",
      "_view_name": "StyleView",
      "description_width": ""
     }
    },
    "f29ebfcfd9364f5d8f51b888009c06f4": {
     "model_module": "@jupyter-widgets/controls",
     "model_module_version": "1.5.0",
     "model_name": "HTMLModel",
     "state": {
      "_dom_classes": [],
      "_model_module": "@jupyter-widgets/controls",
      "_model_module_version": "1.5.0",
      "_model_name": "HTMLModel",
      "_view_count": null,
      "_view_module": "@jupyter-widgets/controls",
      "_view_module_version": "1.5.0",
      "_view_name": "HTMLView",
      "description": "",
      "description_tooltip": null,
      "layout": "IPY_MODEL_5702987e3fc642809cf01db1153c6a3c",
      "placeholder": "​",
      "style": "IPY_MODEL_e277f7e03a094cfeae5f06165bd8e20f",
      "value": " 60%"
     }
    },
    "fa77e4215bd644b3b13aca3e226e77e4": {
     "model_module": "@jupyter-widgets/controls",
     "model_module_version": "1.5.0",
     "model_name": "HBoxModel",
     "state": {
      "_dom_classes": [],
      "_model_module": "@jupyter-widgets/controls",
      "_model_module_version": "1.5.0",
      "_model_name": "HBoxModel",
      "_view_count": null,
      "_view_module": "@jupyter-widgets/controls",
      "_view_module_version": "1.5.0",
      "_view_name": "HBoxView",
      "box_style": "",
      "children": [
       "IPY_MODEL_747a08fdae574e13b3d2c2c01a01dd06",
       "IPY_MODEL_2c3862a227af4bddbd7fb635724dd405",
       "IPY_MODEL_95faf2e6a0054a3eb9e33eba0d6ba9ce"
      ],
      "layout": "IPY_MODEL_ef4b6c9e56614c84829cc09141b4fdc7"
     }
    },
    "fb341d1e6b7a4670a666f659db48e005": {
     "model_module": "@jupyter-widgets/controls",
     "model_module_version": "1.5.0",
     "model_name": "HTMLModel",
     "state": {
      "_dom_classes": [],
      "_model_module": "@jupyter-widgets/controls",
      "_model_module_version": "1.5.0",
      "_model_name": "HTMLModel",
      "_view_count": null,
      "_view_module": "@jupyter-widgets/controls",
      "_view_module_version": "1.5.0",
      "_view_name": "HTMLView",
      "description": "",
      "description_tooltip": null,
      "layout": "IPY_MODEL_aa0a227e635144cabd54595b6e2732f6",
      "placeholder": "​",
      "style": "IPY_MODEL_b88f82ee46ff4fde9fee3ca2b7f29c66",
      "value": " 58%"
     }
    }
   }
  }
 },
 "nbformat": 4,
 "nbformat_minor": 1
}
