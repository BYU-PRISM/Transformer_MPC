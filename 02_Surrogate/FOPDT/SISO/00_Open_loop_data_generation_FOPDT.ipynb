{
 "cells": [
  {
   "cell_type": "code",
   "execution_count": 35,
   "metadata": {
    "colab": {
     "base_uri": "https://localhost:8080/"
    },
    "executionInfo": {
     "elapsed": 4563,
     "status": "ok",
     "timestamp": 1633027326554,
     "user": {
      "displayName": "Junho Park",
      "photoUrl": "https://lh3.googleusercontent.com/a-/AOh14GhWH0H954i4D0PPc6sNLVFrvhJj0CKnJSQoAJisShY=s64",
      "userId": "07513182812079543524"
     },
     "user_tz": 360
    },
    "id": "yzfTMsveqD__",
    "outputId": "18bfe134-6211-41e4-c990-2fc05695d9f8"
   },
   "outputs": [
    {
     "name": "stdout",
     "output_type": "stream",
     "text": [
      "Not running on Colab\n"
     ]
    }
   ],
   "source": [
    "#%% Mount Google drive if you use colab for save and load LSTM models\n",
    "if 'google.colab' in str(get_ipython()):\n",
    "  colab = 1\n",
    "  print('Running on Colab')\n",
    "  from google.colab import drive\n",
    "  drive.mount('/content/drive')\n",
    "\n",
    "  # Set your path on the google drive here for save and download files\n",
    "  path = '/content/drive/MyDrive/Transformer_MPC/02_Surrogate/FOPDT/SISO/'\n",
    "    \n",
    "else:\n",
    "  colab = 0\n",
    "  print('Not running on Colab')\n",
    "  path = ''\n",
    "\n",
    "# Install(if it hasn't been) and Import GEKKO package\n",
    "try:\n",
    "    from gekko import GEKKO\n",
    "except:\n",
    "    !pip install gekko\n",
    "    # restart kernel if this doesn't import\n",
    "    from gekko import GEKKO"
   ]
  },
  {
   "cell_type": "markdown",
   "metadata": {
    "id": "abD5wFNw1Q6k"
   },
   "source": [
    "## 1. FOPDT Simulation for Generating training Data"
   ]
  },
  {
   "cell_type": "code",
   "execution_count": 36,
   "metadata": {
    "id": "jgisis0w1Q6s"
   },
   "outputs": [],
   "source": [
    "# from gekko import GEKKO\n",
    "import numpy as np\n",
    "import matplotlib.pyplot as plt\n",
    "import pandas as pd\n",
    "\n",
    "from plotly.subplots import make_subplots\n",
    "import plotly.graph_objects as go\n",
    "\n",
    "from pickle import dump\n",
    "\n",
    "# from smt.sampling_methods import LHS\n",
    "# from smt.sampling_methods import Random"
   ]
  },
  {
   "cell_type": "code",
   "execution_count": 37,
   "metadata": {
    "id": "i83yh7Cx1Q6t"
   },
   "outputs": [],
   "source": [
    "tfinal = 30 # fianl time"
   ]
  },
  {
   "cell_type": "code",
   "execution_count": 38,
   "metadata": {
    "id": "nhcwapOz1Q6u"
   },
   "outputs": [],
   "source": [
    "m=GEKKO(remote=False)\n",
    "m.time = np.linspace(0,tfinal-1,tfinal)"
   ]
  },
  {
   "cell_type": "code",
   "execution_count": 39,
   "metadata": {
    "id": "RqXLkGSi1Q6u"
   },
   "outputs": [],
   "source": [
    "K = m.FV(1) # Process Gain\n",
    "tau = m.FV(2) # Time Constant"
   ]
  },
  {
   "cell_type": "code",
   "execution_count": 40,
   "metadata": {
    "id": "BXVaELJv1Q6u"
   },
   "outputs": [],
   "source": [
    "u_input = np.zeros(tfinal)\n",
    "u_input[5:] = 1"
   ]
  },
  {
   "cell_type": "code",
   "execution_count": 41,
   "metadata": {
    "id": "sKtZqw_N1Q6v"
   },
   "outputs": [],
   "source": [
    "y = m.CV()\n",
    "u = m.MV(u_input)\n",
    "m.Equation(tau*y.dt()+y==K*u) #FOPDT Equation\n",
    "\n",
    "m.options.IMODE=4"
   ]
  },
  {
   "cell_type": "code",
   "execution_count": 42,
   "metadata": {
    "id": "1SdxFz671Q6v"
   },
   "outputs": [],
   "source": [
    "m.solve(disp=False)"
   ]
  },
  {
   "cell_type": "code",
   "execution_count": 43,
   "metadata": {
    "colab": {
     "base_uri": "https://localhost:8080/",
     "height": 265
    },
    "executionInfo": {
     "elapsed": 414,
     "status": "ok",
     "timestamp": 1633027685556,
     "user": {
      "displayName": "Junho Park",
      "photoUrl": "https://lh3.googleusercontent.com/a-/AOh14GhWH0H954i4D0PPc6sNLVFrvhJj0CKnJSQoAJisShY=s64",
      "userId": "07513182812079543524"
     },
     "user_tz": 360
    },
    "id": "Kw9lotQP1Q6v",
    "outputId": "9a5dd982-f0a5-4acd-9a4d-1d4aa999feac"
   },
   "outputs": [
    {
     "data": {
      "image/png": "[encoded data removed]",
      "text/plain": [
       "<Figure size 432x288 with 2 Axes>"
      ]
     },
     "metadata": {
      "needs_background": "light"
     },
     "output_type": "display_data"
    }
   ],
   "source": [
    "plt.figure(0)\n",
    "plt.subplot(2,1,1)\n",
    "plt.plot(m.time, y)\n",
    "plt.subplot(2,1,2)\n",
    "plt.plot(m.time, u, drawstyle='steps')\n",
    "plt.show()"
   ]
  },
  {
   "cell_type": "markdown",
   "metadata": {
    "id": "QyIKhvPo1Q6w"
   },
   "source": [
    "## 2. Generating input signal (Full Random and LHS)"
   ]
  },
  {
   "cell_type": "code",
   "execution_count": 26,
   "metadata": {
    "colab": {
     "base_uri": "https://localhost:8080/",
     "height": 265
    },
    "executionInfo": {
     "elapsed": 426,
     "status": "ok",
     "timestamp": 1633027692715,
     "user": {
      "displayName": "Junho Park",
      "photoUrl": "https://lh3.googleusercontent.com/a-/AOh14GhWH0H954i4D0PPc6sNLVFrvhJj0CKnJSQoAJisShY=s64",
      "userId": "07513182812079543524"
     },
     "user_tz": 360
    },
    "id": "rLKHfOIV1Q6w",
    "outputId": "e9197355-fb5c-4670-d77b-029fc4f35f05"
   },
   "outputs": [
    {
     "data": {
      "image/png": "[encoded data removed]",
      "text/plain": [
       "<Figure size 432x288 with 2 Axes>"
      ]
     },
     "metadata": {
      "needs_background": "light"
     },
     "output_type": "display_data"
    }
   ],
   "source": [
    "import numpy as np\n",
    "import matplotlib.pyplot as plt\n",
    "\n",
    "nstep = 200 # Choose training data length\n",
    "\n",
    "# random signal generation\n",
    "\n",
    "a_range = [0,1]\n",
    "a = np.random.rand(nstep) * (a_range[1]-a_range[0]) + a_range[0] # range for amplitude\n",
    "a[0] = 0\n",
    "\n",
    "b_range = [5, 20]\n",
    "b = np.random.rand(nstep) *(b_range[1]-b_range[0]) + b_range[0] # range for frequency\n",
    "b = np.round(b)\n",
    "b = b.astype(int)\n",
    "\n",
    "b[0] = 0\n",
    "\n",
    "for i in range(1,np.size(b)):\n",
    "    b[i] = b[i-1]+b[i]\n",
    "\n",
    "# Random Signal\n",
    "i=0\n",
    "random_signal = np.zeros(nstep)\n",
    "while b[i]<np.size(random_signal):\n",
    "    k = b[i]\n",
    "    random_signal[k:] = a[i]\n",
    "    i=i+1\n",
    "\n",
    "# PRBS\n",
    "a = np.zeros(nstep)\n",
    "j = 0\n",
    "while j < nstep:\n",
    "    a[j] = 5\n",
    "    a[j+1] = -5\n",
    "    j = j+2\n",
    "\n",
    "i=0\n",
    "prbs = np.zeros(nstep)\n",
    "while b[i]<np.size(prbs):\n",
    "    k = b[i]\n",
    "    prbs[k:] = a[i]\n",
    "    i=i+1\n",
    "\n",
    "\n",
    "\n",
    "    \n",
    "plt.figure(0) \n",
    "plt.subplot(2,1,1)\n",
    "plt.plot(random_signal, drawstyle='steps',label='Random Signal')\n",
    "plt.legend()\n",
    "plt.subplot(2,1,2)\n",
    "plt.plot(prbs, drawstyle='steps', label='PRBS')\n",
    "plt.legend()\n",
    "plt.show()"
   ]
  },
  {
   "cell_type": "code",
   "execution_count": 54,
   "metadata": {},
   "outputs": [],
   "source": [
    "random_signal[-10:] = 0"
   ]
  },
  {
   "cell_type": "markdown",
   "metadata": {
    "id": "kJvS_F9I1Q6x"
   },
   "source": [
    "## 3. Evaluate the Random Input Signal"
   ]
  },
  {
   "cell_type": "code",
   "execution_count": 55,
   "metadata": {
    "id": "mvYr_lMA1Q6x"
   },
   "outputs": [],
   "source": [
    "tfinal = nstep\n",
    "m.time = np.linspace(0,tfinal-1,tfinal)\n",
    "u.value = random_signal"
   ]
  },
  {
   "cell_type": "code",
   "execution_count": 56,
   "metadata": {
    "id": "GBdLxwvv1Q6x"
   },
   "outputs": [],
   "source": [
    "m.options.IMODE = 4\n",
    "m.solve(disp=False)"
   ]
  },
  {
   "cell_type": "code",
   "execution_count": 57,
   "metadata": {
    "id": "LVRbyCSDjOfQ"
   },
   "outputs": [],
   "source": [
    "data = pd.DataFrame(\n",
    "        {\"u\": np.array(u.value),\n",
    "         \"y\": np.array(y.value)},\n",
    "        index = np.linspace(1,nstep,nstep,dtype=int))"
   ]
  },
  {
   "cell_type": "code",
   "execution_count": 58,
   "metadata": {
    "id": "KnA2ebrTjuGV"
   },
   "outputs": [],
   "source": [
    "data.to_pickle(path + 'open_loop_data_SISO_narrow.pkl')"
   ]
  },
  {
   "cell_type": "code",
   "execution_count": 59,
   "metadata": {
    "id": "ihEEPpHIkN9O"
   },
   "outputs": [],
   "source": [
    "# unpickled = pd.read_pickle('/content/drive/MyDrive/Transformer_MPC/FOPDT/open_loop_data_SISO.pkl')"
   ]
  },
  {
   "cell_type": "code",
   "execution_count": 60,
   "metadata": {
    "colab": {
     "base_uri": "https://localhost:8080/",
     "height": 265
    },
    "executionInfo": {
     "elapsed": 287,
     "status": "ok",
     "timestamp": 1633027724966,
     "user": {
      "displayName": "Junho Park",
      "photoUrl": "https://lh3.googleusercontent.com/a-/AOh14GhWH0H954i4D0PPc6sNLVFrvhJj0CKnJSQoAJisShY=s64",
      "userId": "07513182812079543524"
     },
     "user_tz": 360
    },
    "id": "84zSDCU01Q6x",
    "outputId": "bf66c431-a146-40f1-e93d-e4dd4620071e"
   },
   "outputs": [
    {
     "data": {
      "image/png": "[encoded data removed]",
      "text/plain": [
       "<Figure size 432x288 with 2 Axes>"
      ]
     },
     "metadata": {
      "needs_background": "light"
     },
     "output_type": "display_data"
    }
   ],
   "source": [
    "plt.figure(0)\n",
    "plt.subplot(2,1,1)\n",
    "plt.plot(m.time, data[\"y\"])\n",
    "plt.subplot(2,1,2)\n",
    "plt.plot(m.time, data[\"u\"], drawstyle='steps')\n",
    "plt.show()"
   ]
  }
 ],
 "metadata": {
  "accelerator": "GPU",
  "colab": {
   "collapsed_sections": [],
   "name": "00_Open_loop_data_generation_FOPDT.ipynb",
   "provenance": []
  },
  "kernelspec": {
   "display_name": "Python 3 (ipykernel)",
   "language": "python",
   "name": "python3"
  },
  "language_info": {
   "codemirror_mode": {
    "name": "ipython",
    "version": 3
   },
   "file_extension": ".py",
   "mimetype": "text/x-python",
   "name": "python",
   "nbconvert_exporter": "python",
   "pygments_lexer": "ipython3",
   "version": "3.8.13"
  }
 },
 "nbformat": 4,
 "nbformat_minor": 1
}
