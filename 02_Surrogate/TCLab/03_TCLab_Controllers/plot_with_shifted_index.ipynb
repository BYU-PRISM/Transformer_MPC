{
 "cells": [
  {
   "cell_type": "code",
   "execution_count": 67,
   "id": "fc2eaa15",
   "metadata": {},
   "outputs": [],
   "source": [
    "import numpy as np\n",
    "import pandas as pd\n",
    "\n",
    "import matplotlib.pyplot as plt\n",
    "# from plotly.subplots import make_subplots\n",
    "# import plotly.graph_objects as go\n",
    "\n",
    "from pickle import dump, load\n",
    "from sklearn.preprocessing import MinMaxScaler\n",
    "import time\n",
    "\n",
    "path = \"TCLab_MIMO_Control_onestep_lstm_20_20_1_1_1hr/\"\n",
    "# Road data to check\n",
    "data = pd.read_pickle(path + 'TCLab_MIMO_Control_one_LSTM_20_20_1_1_1hr.pkl')\n",
    "# data = data[0:3600]"
   ]
  },
  {
   "cell_type": "code",
   "execution_count": 68,
   "id": "83619852",
   "metadata": {},
   "outputs": [
    {
     "data": {
      "text/plain": [
       "array([   1,    2,    3, ..., 3598, 3599, 3600])"
      ]
     },
     "execution_count": 68,
     "metadata": {},
     "output_type": "execute_result"
    }
   ],
   "source": [
    "ind = data.index.to_numpy()\n",
    "ind"
   ]
  },
  {
   "cell_type": "code",
   "execution_count": 69,
   "id": "7ec8388f",
   "metadata": {},
   "outputs": [],
   "source": [
    "for i in range(150, len(data)):\n",
    "    ind[i:] = ind[i:] + np.round(data[\"elapsed\"][i])"
   ]
  },
  {
   "cell_type": "code",
   "execution_count": 77,
   "id": "47dc51f2",
   "metadata": {},
   "outputs": [
    {
     "data": {
      "text/html": [
       "<div>\n",
       "<style scoped>\n",
       "    .dataframe tbody tr th:only-of-type {\n",
       "        vertical-align: middle;\n",
       "    }\n",
       "\n",
       "    .dataframe tbody tr th {\n",
       "        vertical-align: top;\n",
       "    }\n",
       "\n",
       "    .dataframe thead th {\n",
       "        text-align: right;\n",
       "    }\n",
       "</style>\n",
       "<table border=\"1\" class=\"dataframe\">\n",
       "  <thead>\n",
       "    <tr style=\"text-align: right;\">\n",
       "      <th></th>\n",
       "      <th>H1</th>\n",
       "      <th>H2</th>\n",
       "      <th>T1</th>\n",
       "      <th>T2</th>\n",
       "      <th>SP1</th>\n",
       "      <th>SP2</th>\n",
       "      <th>elapsed</th>\n",
       "    </tr>\n",
       "  </thead>\n",
       "  <tbody>\n",
       "    <tr>\n",
       "      <th>1</th>\n",
       "      <td>0.00</td>\n",
       "      <td>0.000</td>\n",
       "      <td>23.463067</td>\n",
       "      <td>22.129667</td>\n",
       "      <td>23.477</td>\n",
       "      <td>22.026</td>\n",
       "      <td>0.0</td>\n",
       "    </tr>\n",
       "    <tr>\n",
       "      <th>2</th>\n",
       "      <td>0.00</td>\n",
       "      <td>0.000</td>\n",
       "      <td>23.463067</td>\n",
       "      <td>21.809667</td>\n",
       "      <td>23.477</td>\n",
       "      <td>22.026</td>\n",
       "      <td>0.0</td>\n",
       "    </tr>\n",
       "    <tr>\n",
       "      <th>3</th>\n",
       "      <td>0.00</td>\n",
       "      <td>0.000</td>\n",
       "      <td>23.463067</td>\n",
       "      <td>21.809667</td>\n",
       "      <td>23.477</td>\n",
       "      <td>22.026</td>\n",
       "      <td>0.0</td>\n",
       "    </tr>\n",
       "    <tr>\n",
       "      <th>4</th>\n",
       "      <td>0.00</td>\n",
       "      <td>0.000</td>\n",
       "      <td>23.463067</td>\n",
       "      <td>21.809667</td>\n",
       "      <td>23.477</td>\n",
       "      <td>22.026</td>\n",
       "      <td>0.0</td>\n",
       "    </tr>\n",
       "    <tr>\n",
       "      <th>5</th>\n",
       "      <td>0.00</td>\n",
       "      <td>0.000</td>\n",
       "      <td>23.463067</td>\n",
       "      <td>21.809667</td>\n",
       "      <td>23.477</td>\n",
       "      <td>22.026</td>\n",
       "      <td>0.0</td>\n",
       "    </tr>\n",
       "    <tr>\n",
       "      <th>...</th>\n",
       "      <td>...</td>\n",
       "      <td>...</td>\n",
       "      <td>...</td>\n",
       "      <td>...</td>\n",
       "      <td>...</td>\n",
       "      <td>...</td>\n",
       "      <td>...</td>\n",
       "    </tr>\n",
       "    <tr>\n",
       "      <th>6881</th>\n",
       "      <td>66.69</td>\n",
       "      <td>25.147</td>\n",
       "      <td>64.727000</td>\n",
       "      <td>45.068000</td>\n",
       "      <td>65.000</td>\n",
       "      <td>45.000</td>\n",
       "      <td>0.0</td>\n",
       "    </tr>\n",
       "    <tr>\n",
       "      <th>6882</th>\n",
       "      <td>66.69</td>\n",
       "      <td>25.147</td>\n",
       "      <td>64.727000</td>\n",
       "      <td>45.068000</td>\n",
       "      <td>65.000</td>\n",
       "      <td>45.000</td>\n",
       "      <td>0.0</td>\n",
       "    </tr>\n",
       "    <tr>\n",
       "      <th>6883</th>\n",
       "      <td>66.69</td>\n",
       "      <td>25.147</td>\n",
       "      <td>64.888000</td>\n",
       "      <td>45.068000</td>\n",
       "      <td>65.000</td>\n",
       "      <td>45.000</td>\n",
       "      <td>0.0</td>\n",
       "    </tr>\n",
       "    <tr>\n",
       "      <th>6884</th>\n",
       "      <td>66.69</td>\n",
       "      <td>25.147</td>\n",
       "      <td>64.727000</td>\n",
       "      <td>45.068000</td>\n",
       "      <td>65.000</td>\n",
       "      <td>45.000</td>\n",
       "      <td>0.0</td>\n",
       "    </tr>\n",
       "    <tr>\n",
       "      <th>6885</th>\n",
       "      <td>66.69</td>\n",
       "      <td>25.147</td>\n",
       "      <td>65.049000</td>\n",
       "      <td>44.907000</td>\n",
       "      <td>65.000</td>\n",
       "      <td>45.000</td>\n",
       "      <td>0.0</td>\n",
       "    </tr>\n",
       "  </tbody>\n",
       "</table>\n",
       "<p>3600 rows × 7 columns</p>\n",
       "</div>"
      ],
      "text/plain": [
       "         H1      H2         T1         T2     SP1     SP2  elapsed\n",
       "1      0.00   0.000  23.463067  22.129667  23.477  22.026      0.0\n",
       "2      0.00   0.000  23.463067  21.809667  23.477  22.026      0.0\n",
       "3      0.00   0.000  23.463067  21.809667  23.477  22.026      0.0\n",
       "4      0.00   0.000  23.463067  21.809667  23.477  22.026      0.0\n",
       "5      0.00   0.000  23.463067  21.809667  23.477  22.026      0.0\n",
       "...     ...     ...        ...        ...     ...     ...      ...\n",
       "6881  66.69  25.147  64.727000  45.068000  65.000  45.000      0.0\n",
       "6882  66.69  25.147  64.727000  45.068000  65.000  45.000      0.0\n",
       "6883  66.69  25.147  64.888000  45.068000  65.000  45.000      0.0\n",
       "6884  66.69  25.147  64.727000  45.068000  65.000  45.000      0.0\n",
       "6885  66.69  25.147  65.049000  44.907000  65.000  45.000      0.0\n",
       "\n",
       "[3600 rows x 7 columns]"
      ]
     },
     "execution_count": 77,
     "metadata": {},
     "output_type": "execute_result"
    }
   ],
   "source": [
    "data.set_index([pd.Index(ind)])"
   ]
  },
  {
   "cell_type": "code",
   "execution_count": 65,
   "id": "87518256",
   "metadata": {},
   "outputs": [
    {
     "data": {
      "text/plain": [
       "47.0"
      ]
     },
     "execution_count": 65,
     "metadata": {},
     "output_type": "execute_result"
    }
   ],
   "source": []
  },
  {
   "cell_type": "code",
   "execution_count": 78,
   "id": "eaceaf51",
   "metadata": {},
   "outputs": [
    {
     "name": "stderr",
     "output_type": "stream",
     "text": [
      "The PostScript backend does not support transparency; partially transparent artists will be rendered opaque.\n"
     ]
    },
    {
     "data": {
      "image/png": "[encoded data removed]",
      "text/plain": [
       "<Figure size 432x288 with 2 Axes>"
      ]
     },
     "metadata": {
      "needs_background": "light"
     },
     "output_type": "display_data"
    }
   ],
   "source": [
    "plt.figure(0)\n",
    "plt.subplot(2, 1, 1)\n",
    "plt.plot(data[\"T1\"], 'c-', label='T1')\n",
    "plt.plot(data[\"T2\"], 'm-', label='T2')\n",
    "plt.step(data[\"SP1\"], 'r--', label='SP1')\n",
    "plt.step(data[\"SP2\"], 'g--', label='SP2')\n",
    "plt.legend(loc=2)\n",
    "\n",
    "plt.subplot(2, 1, 2)\n",
    "plt.step(data[\"H1\"], 'r-', label='H1')\n",
    "plt.step(data[\"H2\"], 'g-', label='H2')\n",
    "plt.legend(loc=2)\n",
    "\n",
    "plt.tight_layout()\n",
    "\n",
    "plt.savefig('TCLab_Control_onestep_lstm_1hr.eps', format='eps')\n",
    "plt.savefig('TCLab_Control_onestep_lstm_1hr.png')\n",
    "\n",
    "plt.show()"
   ]
  },
  {
   "cell_type": "code",
   "execution_count": 80,
   "id": "f9cbbfb6",
   "metadata": {},
   "outputs": [
    {
     "name": "stderr",
     "output_type": "stream",
     "text": [
      "The PostScript backend does not support transparency; partially transparent artists will be rendered opaque.\n"
     ]
    },
    {
     "data": {
      "image/png": "[encoded data removed]",
      "text/plain": [
       "<Figure size 432x288 with 2 Axes>"
      ]
     },
     "metadata": {
      "needs_background": "light"
     },
     "output_type": "display_data"
    }
   ],
   "source": [
    "plt.figure(0)\n",
    "plt.subplot(2, 1, 1)\n",
    "plt.plot(data[\"T1\"][0:500], 'c-', label='T1')\n",
    "plt.plot(data[\"T2\"][0:500], 'm', label='T2')\n",
    "plt.step(data[\"SP1\"][0:500], 'r--', label='SP1')\n",
    "plt.step(data[\"SP2\"][0:500], 'g--', label='SP2')\n",
    "plt.legend(loc=2)\n",
    "\n",
    "plt.subplot(2, 1, 2)\n",
    "plt.step(data[\"H1\"][0:500], 'r-', label='H1')\n",
    "plt.step(data[\"H2\"][0:500], 'g-', label='H2')\n",
    "plt.legend(loc=2)\n",
    "\n",
    "plt.tight_layout()\n",
    "\n",
    "# plt.savefig('TCLab_Control_onestep_lstm_1hr.eps', format='eps')\n",
    "# plt.savefig('TCLab_Control_onestep_lstm_1hr.png')\n",
    "\n",
    "plt.show()"
   ]
  }
 ],
 "metadata": {
  "kernelspec": {
   "display_name": "Python 3 (ipykernel)",
   "language": "python",
   "name": "python3"
  },
  "language_info": {
   "codemirror_mode": {
    "name": "ipython",
    "version": 3
   },
   "file_extension": ".py",
   "mimetype": "text/x-python",
   "name": "python",
   "nbconvert_exporter": "python",
   "pygments_lexer": "ipython3",
   "version": "3.8.13"
  }
 },
 "nbformat": 4,
 "nbformat_minor": 5
}
