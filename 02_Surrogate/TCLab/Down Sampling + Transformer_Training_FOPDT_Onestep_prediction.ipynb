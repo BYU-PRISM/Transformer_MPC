{
 "cells": [
  {
   "cell_type": "code",
   "execution_count": 247,
   "metadata": {
    "colab": {
     "base_uri": "https://localhost:8080/"
    },
    "executionInfo": {
     "elapsed": 29689,
     "status": "ok",
     "timestamp": 1645814190346,
     "user": {
      "displayName": "Junho Park",
      "photoUrl": "https://lh3.googleusercontent.com/a-/AOh14GhWH0H954i4D0PPc6sNLVFrvhJj0CKnJSQoAJisShY=s64",
      "userId": "07513182812079543524"
     },
     "user_tz": 420
    },
    "id": "4s6uso07C5Jq",
    "outputId": "9317358f-1815-47ce-fd32-fd3b152a79dc",
    "scrolled": true
   },
   "outputs": [
    {
     "name": "stdout",
     "output_type": "stream",
     "text": [
      "Not running on Colab\n"
     ]
    }
   ],
   "source": [
    "#%% Mount Google drive if you use colab for save and load files\n",
    "if 'google.colab' in str(get_ipython()):\n",
    "  colab = 1\n",
    "  print('Running on Colab')\n",
    "  from google.colab import drive\n",
    "  drive.mount('/content/drive')\n",
    "\n",
    "  # Set your path on the google drive here for save and download files\n",
    "  path = '/content/drive/MyDrive/Transformer_MPC/02_Surrogate/FOPDT/SISO/'\n",
    "    \n",
    "else:\n",
    "  colab = 0\n",
    "  print('Not running on Colab')\n",
    "  path = ''\n",
    "\n",
    "# Install(if it hasn't been) and Import GEKKO package\n",
    "try:\n",
    "    from gekko import GEKKO\n",
    "except:\n",
    "    !pip install gekko\n",
    "    # restart kernel if this doesn't import\n",
    "    from gekko import GEKKO\n"
   ]
  },
  {
   "cell_type": "code",
   "execution_count": 248,
   "metadata": {},
   "outputs": [],
   "source": [
    "# from gekko import GEKKO\n",
    "\n",
    "\n",
    "import numpy as np\n",
    "import pandas as pd\n",
    "\n",
    "import matplotlib.pyplot as plt\n",
    "from plotly.subplots import make_subplots\n",
    "import plotly.graph_objects as go\n",
    "\n",
    "from pickle import dump\n",
    "from sklearn.preprocessing import MinMaxScaler\n",
    "import time"
   ]
  },
  {
   "cell_type": "code",
   "execution_count": 249,
   "metadata": {},
   "outputs": [],
   "source": [
    "# For LSTM model\n",
    "import tensorflow as tf\n",
    "from keras.models import Sequential\n",
    "from keras.layers import Dense\n",
    "from keras.layers import LSTM\n",
    "from keras.layers import Dropout\n",
    "from keras.callbacks import EarlyStopping\n",
    "from keras.models import load_model\n",
    "# from tqdm.keras import TqdmCallback\n",
    "\n",
    "# from gekko import GEKKO\n",
    "\n",
    "\n",
    "import numpy as np\n",
    "import pandas as pd\n",
    "\n",
    "import matplotlib.pyplot as plt\n",
    "from plotly.subplots import make_subplots\n",
    "import plotly.graph_objects as go\n",
    "\n",
    "from pickle import dump\n",
    "from sklearn.preprocessing import MinMaxScaler\n",
    "import time\n",
    "\n",
    "# For LSTM model\n",
    "import tensorflow as tf\n",
    "from keras.models import Sequential\n",
    "from keras.layers import Dense\n",
    "from keras.layers import LSTM\n",
    "from keras.layers import Dropout\n",
    "from keras.callbacks import EarlyStopping\n",
    "from keras.models import load_model\n",
    "# from tqdm.keras import TqdmCallback"
   ]
  },
  {
   "cell_type": "code",
   "execution_count": 250,
   "metadata": {},
   "outputs": [],
   "source": [
    "# Down sampling\n",
    "\n",
    "sec = 10000\n",
    "interval = 90\n",
    "\n",
    "tcLab = pd.read_pickle('TCLab_MIMO_Data_002_10000.pkl') # Put the original name\n",
    "\n",
    "downsampled_interval = interval # New interval (sec)\n",
    "\n",
    "\n",
    "\n",
    "tcLab_resample = tcLab.iloc[::downsampled_interval, :]\n",
    "\n",
    "# print(tcLab_resample) # Check the file\n",
    "\n",
    "# tcLab_resample.to_pickle('Down_TCLab_MIMO_Data_001_1000_30s.pkl') # New name for down sample file"
   ]
  },
  {
   "cell_type": "code",
   "execution_count": 251,
   "metadata": {
    "id": "ihEEPpHIkN9O"
   },
   "outputs": [],
   "source": [
    "# File name\n",
    "# Down_TCLab_MIMO_Data_001_1000_30s\n",
    "\n",
    "\n",
    "data = tcLab_resample\n",
    "# data = pd.DataFrame(np.array(data).T, columns=['u1', 'u2', 'y1', 'y2']).iloc[70:]"
   ]
  },
  {
   "cell_type": "code",
   "execution_count": 252,
   "metadata": {
    "colab": {
     "base_uri": "https://localhost:8080/",
     "height": 265
    },
    "executionInfo": {
     "elapsed": 450,
     "status": "ok",
     "timestamp": 1645814194123,
     "user": {
      "displayName": "Junho Park",
      "photoUrl": "https://lh3.googleusercontent.com/a-/AOh14GhWH0H954i4D0PPc6sNLVFrvhJj0CKnJSQoAJisShY=s64",
      "userId": "07513182812079543524"
     },
     "user_tz": 420
    },
    "id": "84zSDCU01Q6x",
    "outputId": "7b6c4108-d6d6-4788-f02f-eb89ef70c7a2"
   },
   "outputs": [
    {
     "data": {
      "image/png": "[encoded data removed]",
      "text/plain": [
       "<Figure size 432x288 with 2 Axes>"
      ]
     },
     "metadata": {
      "needs_background": "light"
     },
     "output_type": "display_data"
    }
   ],
   "source": [
    "plt.figure(0)\n",
    "plt.subplot(2,1,1)\n",
    "plt.plot(data[[\"T1\", \"T2\"]]) # [300:1000] 원하는 구간 확인\n",
    "plt.subplot(2,1,2)\n",
    "plt.plot(data[[\"H1\", \"H2\"]], drawstyle='steps') # [300:1000] 원하는 구간 확인\n",
    "plt.show()"
   ]
  },
  {
   "cell_type": "markdown",
   "metadata": {
    "id": "my0Ilf8q1Q6y"
   },
   "source": [
    "## 4. Train LSTM Network"
   ]
  },
  {
   "cell_type": "code",
   "execution_count": 253,
   "metadata": {
    "id": "4tVqaYD81Q6z"
   },
   "outputs": [],
   "source": [
    "window = 5 # 프레임 사이즈, 윈도우 사이즈, 몇초를 보느냐\n",
    "\n",
    "# Scale features\n",
    "s1 = MinMaxScaler(feature_range=(-1,1))\n",
    "Xs = s1.fit_transform(data[['H1', 'H2', 'T1', 'T2']].to_numpy())\n",
    "s2 = MinMaxScaler(feature_range=(-1,1))\n",
    "Ys = s2.fit_transform(data[['T1', 'T2']].to_numpy())"
   ]
  },
  {
   "cell_type": "code",
   "execution_count": 254,
   "metadata": {
    "colab": {
     "base_uri": "https://localhost:8080/"
    },
    "executionInfo": {
     "elapsed": 15,
     "status": "ok",
     "timestamp": 1645814194125,
     "user": {
      "displayName": "Junho Park",
      "photoUrl": "https://lh3.googleusercontent.com/a-/AOh14GhWH0H954i4D0PPc6sNLVFrvhJj0CKnJSQoAJisShY=s64",
      "userId": "07513182812079543524"
     },
     "user_tz": 420
    },
    "id": "tERe7QsCL2Te",
    "outputId": "6fae15de-745a-493c-e7c0-cb3bdea3e3b8"
   },
   "outputs": [
    {
     "data": {
      "text/plain": [
       "((112, 2), (112, 4))"
      ]
     },
     "execution_count": 254,
     "metadata": {},
     "output_type": "execute_result"
    }
   ],
   "source": [
    "Ys.shape, Xs.shape"
   ]
  },
  {
   "cell_type": "code",
   "execution_count": 255,
   "metadata": {
    "colab": {
     "base_uri": "https://localhost:8080/",
     "height": 192
    },
    "executionInfo": {
     "elapsed": 462,
     "status": "ok",
     "timestamp": 1645814194574,
     "user": {
      "displayName": "Junho Park",
      "photoUrl": "https://lh3.googleusercontent.com/a-/AOh14GhWH0H954i4D0PPc6sNLVFrvhJj0CKnJSQoAJisShY=s64",
      "userId": "07513182812079543524"
     },
     "user_tz": 420
    },
    "id": "c_Fa4Zt_1Q6z",
    "outputId": "425bbe9e-d0f8-4b70-dbf2-9086ce8c0c3f"
   },
   "outputs": [
    {
     "data": {
      "text/plain": [
       "[<matplotlib.lines.Line2D at 0x1a8530db8e0>,\n",
       " <matplotlib.lines.Line2D at 0x1a8530d8b80>,\n",
       " <matplotlib.lines.Line2D at 0x1a8530dbaf0>,\n",
       " <matplotlib.lines.Line2D at 0x1a8530dba00>]"
      ]
     },
     "execution_count": 255,
     "metadata": {},
     "output_type": "execute_result"
    },
    {
     "data": {
      "image/png": "[encoded data removed]",
      "text/plain": [
       "<Figure size 504x144 with 1 Axes>"
      ]
     },
     "metadata": {
      "needs_background": "light"
     },
     "output_type": "display_data"
    }
   ],
   "source": [
    "plt.figure(figsize=[7,2])\n",
    "plt.plot(Ys)\n",
    "plt.plot(Xs)"
   ]
  },
  {
   "cell_type": "code",
   "execution_count": 256,
   "metadata": {
    "id": "kad2Vc2S1Q60"
   },
   "outputs": [],
   "source": [
    "# Save model parameters\n",
    "model_params = dict()\n",
    "model_params['Xscale'] = s1\n",
    "model_params['yscale'] = s2\n",
    "model_params['window'] = window\n",
    "\n",
    "dump(model_params, open('model_param_MIMO.pkl', 'wb'))\n"
   ]
  },
  {
   "cell_type": "code",
   "execution_count": 257,
   "metadata": {
    "colab": {
     "base_uri": "https://localhost:8080/"
    },
    "executionInfo": {
     "elapsed": 18,
     "status": "ok",
     "timestamp": 1645132800144,
     "user": {
      "displayName": "Junho Park",
      "photoUrl": "https://lh3.googleusercontent.com/a-/AOh14GhWH0H954i4D0PPc6sNLVFrvhJj0CKnJSQoAJisShY=s64",
      "userId": "07513182812079543524"
     },
     "user_tz": 420
    },
    "id": "XCRJSpevu-xa",
    "outputId": "d94542bb-0313-47da-c614-3b249c01463a"
   },
   "outputs": [
    {
     "name": "stdout",
     "output_type": "stream",
     "text": [
      "56\n"
     ]
    },
    {
     "name": "stderr",
     "output_type": "stream",
     "text": [
      "C:\\Users\\HAN\\AppData\\Local\\Temp\\ipykernel_21784\\2699983935.py:3: DeprecationWarning: `np.int` is a deprecated alias for the builtin `int`. To silence this warning, use `int` by itself. Doing this will not modify any behavior and is safe. When replacing `np.int`, you may wish to use e.g. `np.int64` or `np.int32` to specify the precision. If you wish to review your current use, check the release note link for additional information.\n",
      "Deprecated in NumPy 1.20; for more details and guidance: https://numpy.org/devdocs/release/1.20.0-notes.html#deprecations\n",
      "  cut_index = np.int(nstep*val_ratio) # index number to separate the training and validation set\n"
     ]
    }
   ],
   "source": [
    "nstep = Xs.shape[0]\n",
    "val_ratio = 0.5\n",
    "cut_index = np.int(nstep*val_ratio) # index number to separate the training and validation set\n",
    "print(cut_index)\n",
    "Xs_train = Xs[0:cut_index]\n",
    "Ys_train = Ys[0:cut_index]\n",
    "Xs_val = Xs[cut_index:]\n",
    "Ys_val = Ys[cut_index:]"
   ]
  },
  {
   "cell_type": "code",
   "execution_count": 258,
   "metadata": {
    "id": "LxBU0nHt1Q60"
   },
   "outputs": [],
   "source": [
    "X_train = []\n",
    "Y_train = []\n",
    "for i in range(window,len(Xs_train)):\n",
    "    X_train.append(Xs_train[i-window:i,:])\n",
    "    Y_train.append(Ys_train[i])\n",
    "\n",
    "X_val = []\n",
    "Y_val = []\n",
    "for i in range(window,len(Xs_val)):\n",
    "    X_val.append(Xs_val[i-window:i,:])\n",
    "    Y_val.append(Ys_val[i])"
   ]
  },
  {
   "cell_type": "code",
   "execution_count": 259,
   "metadata": {
    "id": "2MbYEo5k1Q61"
   },
   "outputs": [],
   "source": [
    "# Reshape data to format accepted by LSTM\n",
    "X_train, Y_train = np.array(X_train), np.array(Y_train)\n",
    "X_val, Y_val = np.array(X_val), np.array(Y_val)"
   ]
  },
  {
   "cell_type": "code",
   "execution_count": 260,
   "metadata": {
    "colab": {
     "base_uri": "https://localhost:8080/"
    },
    "executionInfo": {
     "elapsed": 13,
     "status": "ok",
     "timestamp": 1645132800146,
     "user": {
      "displayName": "Junho Park",
      "photoUrl": "https://lh3.googleusercontent.com/a-/AOh14GhWH0H954i4D0PPc6sNLVFrvhJj0CKnJSQoAJisShY=s64",
      "userId": "07513182812079543524"
     },
     "user_tz": 420
    },
    "id": "m240f0CRrD7d",
    "outputId": "afcc4d81-0602-4f36-bb12-1d66bed8c5bf"
   },
   "outputs": [
    {
     "data": {
      "text/plain": [
       "((51, 5, 4), (51, 2))"
      ]
     },
     "execution_count": 260,
     "metadata": {},
     "output_type": "execute_result"
    }
   ],
   "source": [
    "# Demension of training data set\n",
    "np.shape(X_train), np.shape(Y_train)"
   ]
  },
  {
   "cell_type": "code",
   "execution_count": 261,
   "metadata": {
    "id": "aDgKXYv-1Q61"
   },
   "outputs": [],
   "source": [
    "# # Initialize LSTM model\n",
    "model_lstm = Sequential()\n",
    "\n",
    "model_lstm.add(LSTM(units=100, return_sequences=True, \\\n",
    "          input_shape=(X_train.shape[1],X_train.shape[2])))\n",
    "model_lstm.add(Dropout(0.2))\n",
    "model_lstm.add(LSTM(units=100, return_sequences=True))\n",
    "model_lstm.add(Dropout(0.2))\n",
    "model_lstm.add(LSTM(units=100))\n",
    "model_lstm.add(Dropout(0.2))\n",
    "model_lstm.add(Dense(units=Y_train.shape[1])) #units = number of outputs\n",
    "model_lstm.compile(optimizer = 'adam', loss = 'mean_squared_error',\\\n",
    "              metrics = ['accuracy'])\n",
    "# Allow for early exit\n",
    "es_lstm = EarlyStopping(monitor='loss',mode='min',verbose=1,patience=10)"
   ]
  },
  {
   "cell_type": "code",
   "execution_count": 262,
   "metadata": {
    "colab": {
     "base_uri": "https://localhost:8080/",
     "height": 84,
     "referenced_widgets": [
      "0722848960714b8caadb5cee00d14ba0",
      "7966bbed15934749bada2c357412f20e",
      "446cc9c066df44cca0243ed17ad3945d",
      "c2802b2c075c4a8d8d647694877a1f94",
      "47a2931a50ec44488c2c0bf654563b14",
      "b7001c186f084708a597f670bef0fbdf",
      "7879041a51a149a695e700f04a4903be",
      "0aed178cf740406d88a7870e1f19d587",
      "51515bb5ae3d4d3ab7367ba66811ad90",
      "afd5014a8b85403d880da5ac793ae3b9",
      "ee072366c247477b8417d9417c1d4ec6",
      "41f034741ad842c8a9b48569a34fe754",
      "d9da776ae83840cc90c630e971540c05",
      "df37999967874cf3a1090ef0fbeeffa7",
      "0fe651984dd94a64b39fe4ac78202749",
      "fc109a4e89fb45909effa80320022e10",
      "b677f2d17e9b415e9a6cf1e1977974d0",
      "dd5bf1e6a70a4b9c848464a8a8bfb495",
      "e2486073d4b94f61a220ab4440c2e5cf",
      "de7500abd5754ed09a58899512c48d15",
      "f07db168aab248b8ab2f002954be3bf0",
      "eb8e16aaac034b129737152af2c94470",
      "6e873a30daeb46c1bcaa8229a2dcaec2",
      ""
     ]
    },
    "executionInfo": {
     "elapsed": 13543,
     "status": "ok",
     "timestamp": 1645132817003,
     "user": {
      "displayName": "Junho Park",
      "photoUrl": "https://lh3.googleusercontent.com/a-/AOh14GhWH0H954i4D0PPc6sNLVFrvhJj0CKnJSQoAJisShY=s64",
      "userId": "07513182812079543524"
     },
     "user_tz": 420
    },
    "id": "T3t1zXh52Z8I",
    "outputId": "bde2dddf-2a23-4415-e59b-8046820ff278"
   },
   "outputs": [
    {
     "name": "stdout",
     "output_type": "stream",
     "text": [
      "Epoch 153: early stopping\n",
      "Runtime: 14.01 s\n"
     ]
    }
   ],
   "source": [
    "# Fit (and time) LSTM model\n",
    "t0 = time.time()\n",
    "result_lstm = model_lstm.fit(X_train, Y_train, epochs = 300, batch_size = 250,\\\n",
    "                             callbacks=[es_lstm],\\\n",
    "                             verbose=0, validation_data=(X_val, Y_val))\n",
    "t1 = time.time()\n",
    "print('Runtime: %.2f s' %(t1-t0))\n"
   ]
  },
  {
   "cell_type": "code",
   "execution_count": 263,
   "metadata": {
    "id": "e9augHAHRspw"
   },
   "outputs": [],
   "source": [
    "#%% Save LSTM model file\n",
    "model_lstm.save('MPC_MIMO_FOPDT_onestep_LSTM.h5')"
   ]
  },
  {
   "cell_type": "markdown",
   "metadata": {
    "id": "ostJH8XeWnKv"
   },
   "source": [
    "## 2. Transformer"
   ]
  },
  {
   "cell_type": "code",
   "execution_count": 264,
   "metadata": {
    "colab": {
     "base_uri": "https://localhost:8080/",
     "height": 84,
     "referenced_widgets": [
      "ea23e2b1a99249aa8ff66b203422eec2",
      "9f2b32ba8da342c0a1d77709a49ddd5a",
      "9f204fc7cc03417599da1d37dbac9863",
      "0b149b8a72ee46069aec48a39f28ab84",
      "a5db5ab5ee094451a499d4f671924975",
      "960a97c6dd1f443daca3ff74ebb68d7f",
      "13cfcad93ad942eba926f58b884ddad5",
      "d5f815a9f5b74f31b3fba3c7674074fe",
      "771c43b00e7749e89db8dad1057e7e71",
      "aa29548aabeb47cd8f05edf70f99fbde",
      "5d13cf992c674d2a9ce84cf96e4fadd0",
      "8e4bff9609834306bc5a977ed6823dbe",
      "a11d4cea8d5847198125c9d64b7c58bc",
      "6464b5d584d04092b8aa75770dca4a69",
      "a2ca6de4bb924413b89a07b875aaeadf",
      "9b343b9562e1427999a43f26d1c83b89",
      "3eebf148892a4d45a31570dcb7c43169",
      "0079f54dbec8416fb4dbd8462744bbcd",
      "d41ac58a5a2d49ba8792eb48aef28de2",
      "e06ad2d754154706bdb15dda93fd7ffb",
      "bba8a67b19fd4264a5062d02b11b6387",
      "18e4b85b45454b8ea0dd10e7471fae13",
      "3adfa1ba07de47568ea2c6199ca82de7",
      ""
     ]
    },
    "executionInfo": {
     "elapsed": 24820,
     "status": "ok",
     "timestamp": 1645133510027,
     "user": {
      "displayName": "Junho Park",
      "photoUrl": "https://lh3.googleusercontent.com/a-/AOh14GhWH0H954i4D0PPc6sNLVFrvhJj0CKnJSQoAJisShY=s64",
      "userId": "07513182812079543524"
     },
     "user_tz": 420
    },
    "id": "iq4VCFS8V_BN",
    "outputId": "4fa477af-5979-4fdd-fab7-71fc560ad703"
   },
   "outputs": [
    {
     "name": "stdout",
     "output_type": "stream",
     "text": [
      "Epoch 39: early stopping\n",
      "Runtime: 3.54 s\n"
     ]
    }
   ],
   "source": [
    "n_feature = X_train.shape[2]\n",
    "n_label = Y_train.shape[1]\n",
    "\n",
    "encoder_input = tf.keras.layers.Input(shape=(window, n_feature))\n",
    "xl = tf.keras.layers.MultiHeadAttention(num_heads=10,key_dim=2)(encoder_input,encoder_input)\n",
    "res = xl + encoder_input\n",
    "xl = tf.keras.layers.Dense(100, 'tanh')(res)\n",
    "xl = tf.keras.layers.Dropout(0.2)(xl)\n",
    "xl = tf.keras.layers.Dense(n_feature, None)(xl)\n",
    "\n",
    "xl = tf.keras.layers.MultiHeadAttention(num_heads=10,key_dim=2)(xl,xl)\n",
    "res = xl + encoder_input\n",
    "xl = tf.keras.layers.Dense(100, 'tanh')(res)\n",
    "xl = tf.keras.layers.Dropout(0.2)(xl)\n",
    "xl = tf.keras.layers.Dense(n_feature, None)(xl)\n",
    "\n",
    "\n",
    "xl = tf.keras.layers.Flatten()(xl)\n",
    "yl = tf.keras.layers.Dense(n_label, activation='linear')(xl)\n",
    "model_trans = tf.keras.Model(inputs=encoder_input, outputs=yl, name=\"mhl\")\n",
    "model_trans.compile(optimizer='Adam',loss='MSE',metrics='accuracy')\n",
    "\n",
    "# Allow for early exit\n",
    "es_trans = EarlyStopping(monitor='loss',mode='min',verbose=1,patience=10)\n",
    "\n",
    "t0 = time.time()\n",
    "result_trans = model_trans.fit(X_train,Y_train,epochs=300,batch_size=32, \\\n",
    "                               callbacks=[es_trans], \\\n",
    "                               verbose=0, validation_data=(X_val, Y_val))\n",
    "t1 = time.time()\n",
    "\n",
    "print('Runtime: %.2f s' %(t1-t0))\n"
   ]
  },
  {
   "cell_type": "code",
   "execution_count": 265,
   "metadata": {
    "id": "LfLxMmHnT1XX"
   },
   "outputs": [],
   "source": [
    "#%% Save Transformer model file\n",
    "model_trans.save('MPC_MIMO_FOPDT_onestep_Trans.h5')"
   ]
  },
  {
   "cell_type": "code",
   "execution_count": 266,
   "metadata": {
    "colab": {
     "base_uri": "https://localhost:8080/",
     "height": 354
    },
    "executionInfo": {
     "elapsed": 588,
     "status": "ok",
     "timestamp": 1645133531787,
     "user": {
      "displayName": "Junho Park",
      "photoUrl": "https://lh3.googleusercontent.com/a-/AOh14GhWH0H954i4D0PPc6sNLVFrvhJj0CKnJSQoAJisShY=s64",
      "userId": "07513182812079543524"
     },
     "user_tz": 420
    },
    "id": "fVRoya2aa1A7",
    "outputId": "fb90db72-f723-4a2b-9c4c-4a667a95e12d"
   },
   "outputs": [
    {
     "data": {
      "image/png": "[encoded data removed]",
      "text/plain": [
       "<Figure size 432x360 with 1 Axes>"
      ]
     },
     "metadata": {
      "needs_background": "light"
     },
     "output_type": "display_data"
    }
   ],
   "source": [
    "# Plot loss\n",
    "plt.figure(figsize=(6,5))\n",
    "plt.semilogy(result_lstm.history['loss'],label='$Training_{LSTM}$')\n",
    "plt.semilogy(result_lstm.history['val_loss'],label='$Validation_{LSTM}$')\n",
    "plt.semilogy(result_trans.history['loss'],label='$Tranining_{Transformer}$')\n",
    "plt.semilogy(result_trans.history['val_loss'],label='$Validation_{Transformer}$')\n",
    "plt.legend(loc=1, fontsize=12)\n",
    "plt.ylabel('Loss', fontsize=12)\n",
    "plt.xlabel('Epochs', fontsize=12)\n",
    "\n",
    "sec = str(sec)\n",
    "interval = str(interval)\n",
    "\n",
    "\n",
    "# plt.savefig('Loss_surrogate_SISO_FOPDT_' + sec + '_' + interval + 's.eps', format='eps')\n",
    "plt.savefig('Loss_surrogate_SISO_FOPDT_' + sec + '_' + interval + 's.png')\n"
   ]
  },
  {
   "cell_type": "markdown",
   "metadata": {
    "id": "iqk4l7Vmzyht"
   },
   "source": [
    "## 5. Using measured values to predict next step"
   ]
  },
  {
   "cell_type": "markdown",
   "metadata": {
    "id": "hA0tkKp5dfro"
   },
   "source": [
    "### LSTM"
   ]
  },
  {
   "cell_type": "code",
   "execution_count": 267,
   "metadata": {
    "id": "vOi7NSOSlLfk"
   },
   "outputs": [],
   "source": [
    "# # Load NN Models\n",
    "model_lstm = load_model('MPC_MIMO_FOPDT_onestep_LSTM.h5')\n",
    "model_trans = load_model('MPC_MIMO_FOPDT_onestep_Trans.h5')"
   ]
  },
  {
   "cell_type": "code",
   "execution_count": 268,
   "metadata": {
    "colab": {
     "base_uri": "https://localhost:8080/",
     "height": 190
    },
    "executionInfo": {
     "elapsed": 1073,
     "status": "ok",
     "timestamp": 1645133311706,
     "user": {
      "displayName": "Junho Park",
      "photoUrl": "https://lh3.googleusercontent.com/a-/AOh14GhWH0H954i4D0PPc6sNLVFrvhJj0CKnJSQoAJisShY=s64",
      "userId": "07513182812079543524"
     },
     "user_tz": 420
    },
    "id": "euUUzLYa4pJW",
    "outputId": "ed91b1e8-3567-4622-ccb3-d8cb5a8859cd"
   },
   "outputs": [
    {
     "data": {
      "image/png": "[encoded data removed]",
      "text/plain": [
       "<Figure size 864x360 with 4 Axes>"
      ]
     },
     "metadata": {
      "needs_background": "light"
     },
     "output_type": "display_data"
    }
   ],
   "source": [
    "# Verify the fit of the model\n",
    "Yp_train_lstm = model_lstm.predict(X_train)\n",
    "Yp_val_lstm = model_lstm.predict(X_val)\n",
    "\n",
    "# un-scale outputs\n",
    "Yu_train_lstm = s2.inverse_transform(Yp_train_lstm) # model prediction\n",
    "Ym_train = s2.inverse_transform(Y_train) # measured value\n",
    "\n",
    "Yu_val_lstm = s2.inverse_transform(Yp_val_lstm) # model prediction\n",
    "Ym_val = s2.inverse_transform(Y_val) # measured value\n",
    "\n",
    "plt.figure(0, figsize=(12,5))\n",
    "plt.subplot(2,2,1)\n",
    "plt.plot(data.index[window:cut_index],Yu_train_lstm[:,0],'r-',label='LSTM')\n",
    "plt.plot(data.index[window:cut_index],Ym_train[:,0],'b--',label='Measured')\n",
    "plt.title('Training')\n",
    "plt.legend()\n",
    "plt.subplot(2,2,2)\n",
    "plt.plot(data.index[cut_index+window:],Yu_val_lstm[:,0],'r-',label='LSTM')\n",
    "plt.plot(data.index[cut_index+window:],Ym_val[:,0],'b--',label='Measured')\n",
    "plt.title('Validation')\n",
    "plt.legend()\n",
    "\n",
    "plt.subplot(2,2,3)\n",
    "plt.plot(data.index[window:cut_index],Yu_train_lstm[:,1],'r-',label='LSTM')\n",
    "plt.plot(data.index[window:cut_index],Ym_train[:,1],'b--',label='Measured')\n",
    "plt.title('Training')\n",
    "plt.legend()\n",
    "plt.subplot(2,2,4)\n",
    "plt.plot(data.index[cut_index+window:],Yu_val_lstm[:,1],'r-',label='LSTM')\n",
    "plt.plot(data.index[cut_index+window:],Ym_val[:,1],'b--',label='Measured')\n",
    "plt.title('Validation')\n",
    "plt.legend()\n",
    "\n",
    "\n",
    "\n",
    "# plt.savefig('1.LSTM_Measured_SISO_FOPDT_' + sec + '_' + interval + 's.eps', format='eps')\n",
    "plt.savefig('1.LSTM_Measured_SISO_FOPDT_' + sec + '_' + interval + 's.png')\n"
   ]
  },
  {
   "cell_type": "markdown",
   "metadata": {
    "id": "Zz_plEhKdiEE"
   },
   "source": [
    "### Transformer"
   ]
  },
  {
   "cell_type": "code",
   "execution_count": 269,
   "metadata": {
    "colab": {
     "base_uri": "https://localhost:8080/",
     "height": 190
    },
    "executionInfo": {
     "elapsed": 1094,
     "status": "ok",
     "timestamp": 1645133315360,
     "user": {
      "displayName": "Junho Park",
      "photoUrl": "https://lh3.googleusercontent.com/a-/AOh14GhWH0H954i4D0PPc6sNLVFrvhJj0CKnJSQoAJisShY=s64",
      "userId": "07513182812079543524"
     },
     "user_tz": 420
    },
    "id": "Kis-E6xobQ7b",
    "outputId": "231023b2-59ae-4dc5-f8eb-bcd5ed7f7001"
   },
   "outputs": [
    {
     "data": {
      "image/png": "[encoded data removed]",
      "text/plain": [
       "<Figure size 864x360 with 4 Axes>"
      ]
     },
     "metadata": {
      "needs_background": "light"
     },
     "output_type": "display_data"
    }
   ],
   "source": [
    "# Verify the fit of the model\n",
    "Yp_train_trans = model_trans.predict(X_train)\n",
    "Yp_val_trans = model_trans.predict(X_val)\n",
    "\n",
    "# un-scale outputs\n",
    "Yu_train_trans = s2.inverse_transform(Yp_train_trans) # model prediction\n",
    "Ym_train = s2.inverse_transform(Y_train) # measured value\n",
    "\n",
    "Yu_val_trans = s2.inverse_transform(Yp_val_trans) # model prediction\n",
    "Ym_val = s2.inverse_transform(Y_val) # measured value\n",
    "\n",
    "plt.figure(0, figsize=(12,5))\n",
    "plt.subplot(2,2,1)\n",
    "plt.plot(data.index[window:cut_index],Yu_train_trans[:,0],'r-',label='Transformer')\n",
    "plt.plot(data.index[window:cut_index],Ym_train[:,0],'b--',label='Measured')\n",
    "plt.title('Training')\n",
    "plt.legend()\n",
    "plt.subplot(2,2,2)\n",
    "plt.plot(data.index[cut_index+window:],Yu_val_trans[:,0],'r-',label='Transformer')\n",
    "plt.plot(data.index[cut_index+window:],Ym_val[:,0],'b--',label='Measured')\n",
    "plt.title('Validation')\n",
    "plt.legend()\n",
    "plt.subplot(2,2,3)\n",
    "plt.plot(data.index[window:cut_index],Yu_train_trans[:,1],'r-',label='Transformer')\n",
    "plt.plot(data.index[window:cut_index],Ym_train[:,1],'b--',label='Measured')\n",
    "plt.title('Training')\n",
    "plt.legend()\n",
    "plt.subplot(2,2,4)\n",
    "plt.plot(data.index[cut_index+window:],Yu_val_trans[:,1],'r-',label='Transformer')\n",
    "plt.plot(data.index[cut_index+window:],Ym_val[:,1],'b--',label='Measured')\n",
    "plt.title('Validation')\n",
    "plt.legend()\n",
    "plt.tight_layout()\n",
    "\n",
    "\n",
    "\n",
    "# plt.savefig('1.Transformer_Measured_SISO_FOPDT_' + sec + '_' + interval + 's.eps', format='eps')\n",
    "plt.savefig('1.Transformer_Measured_SISO_FOPDT_' + sec + '_' + interval + 's.png')\n",
    "\n"
   ]
  },
  {
   "cell_type": "markdown",
   "metadata": {
    "id": "4EheqOQgU582"
   },
   "source": [
    "## 6. Using predicted values to predict next step"
   ]
  },
  {
   "cell_type": "markdown",
   "metadata": {
    "id": "3bhB-fS-dPSf"
   },
   "source": [
    "### LSTM"
   ]
  },
  {
   "cell_type": "code",
   "execution_count": 270,
   "metadata": {
    "id": "3zP4QBU03BiT"
   },
   "outputs": [],
   "source": [
    "Xsq = Xs.copy()   # Xs : scaled data before appending the array with window size\n",
    "Ysq = Ys.copy()\n",
    "for i in range(window,len(Xsq)):\n",
    "    Xin = Xsq[i-window:i].reshape((1, window, np.shape(Xsq)[1]))\n",
    "    Xsq[i][(Xs.shape[1] - Ys.shape[1]):] = model_lstm.predict(Xin) \n",
    "    # (Xs.shape[1]-Ys.shape[1]) indicates the index of the \n",
    "    # first 'system' output variable in the 'LSTM' input array\n",
    "    Ysq[i] = Xsq[i][(Xs.shape[1] - Ys.shape[1]):]\n",
    "\n",
    "Ytu = s2.inverse_transform(Ysq)\n",
    "# Break Ytu into train and validation set for plotting\n",
    "Ytu_train_lstm = Ytu[window:cut_index]\n",
    "Ytu_val_lstm = Ytu[cut_index+window:]"
   ]
  },
  {
   "cell_type": "code",
   "execution_count": 271,
   "metadata": {
    "colab": {
     "base_uri": "https://localhost:8080/",
     "height": 190
    },
    "executionInfo": {
     "elapsed": 645,
     "status": "ok",
     "timestamp": 1645133393606,
     "user": {
      "displayName": "Junho Park",
      "photoUrl": "https://lh3.googleusercontent.com/a-/AOh14GhWH0H954i4D0PPc6sNLVFrvhJj0CKnJSQoAJisShY=s64",
      "userId": "07513182812079543524"
     },
     "user_tz": 420
    },
    "id": "Ucfulp6f3GZk",
    "outputId": "b4a8b83e-3f84-4c82-a653-58426f7b29c2",
    "scrolled": true
   },
   "outputs": [
    {
     "data": {
      "image/png": "[encoded data removed]",
      "text/plain": [
       "<Figure size 864x360 with 4 Axes>"
      ]
     },
     "metadata": {
      "needs_background": "light"
     },
     "output_type": "display_data"
    }
   ],
   "source": [
    "plt.figure(0, figsize=(12,5))\n",
    "plt.subplot(2,2,1)\n",
    "plt.plot(data.index[window:cut_index],Ytu_train_lstm[:,0],'r-',label='LSTM')\n",
    "plt.plot(data.index[window:cut_index],Ym_train[:,0],'b--',label='Measured')\n",
    "plt.title('Training')\n",
    "plt.legend()\n",
    "plt.subplot(2,2,2)\n",
    "plt.plot(data.index[cut_index+window:],Ytu_val_lstm[:,0],'r-',label='LSTM')\n",
    "plt.plot(data.index[cut_index+window:],Ym_val[:,0],'b--',label='Measured')\n",
    "plt.title('Validation')\n",
    "plt.legend()\n",
    "plt.subplot(2,2,3)\n",
    "plt.plot(data.index[window:cut_index],Ytu_train_lstm[:,1],'r-',label='LSTM')\n",
    "plt.plot(data.index[window:cut_index],Ym_train[:,1],'b--',label='Measured')\n",
    "plt.title('Training')\n",
    "plt.legend()\n",
    "plt.subplot(2,2,4)\n",
    "plt.plot(data.index[cut_index+window:],Ytu_val_lstm[:,1],'r-',label='LSTM')\n",
    "plt.plot(data.index[cut_index+window:],Ym_val[:,1],'b--',label='Measured')\n",
    "plt.title('Validation')\n",
    "plt.legend()\n",
    "plt.tight_layout()\n",
    "\n",
    "\n",
    "\n",
    "# plt.savefig('2.LSTM_Values_SISO_FOPDT_' + sec + '_' + interval + 's.eps', format='eps')\n",
    "plt.savefig('2.LSTM_Values_SISO_FOPDT_' + sec + '_' + interval + 's.png')\n",
    "\n"
   ]
  },
  {
   "cell_type": "markdown",
   "metadata": {
    "id": "EXvygDGMdcai"
   },
   "source": [
    "### Transformer\n"
   ]
  },
  {
   "cell_type": "code",
   "execution_count": 272,
   "metadata": {
    "id": "qgAdefNFassH",
    "jupyter": {
     "source_hidden": true
    },
    "tags": []
   },
   "outputs": [],
   "source": [
    "Xsq = Xs.copy()   # Xs : scaled data before appending the array with window size\n",
    "Ysq = Ys.copy()\n",
    "for i in range(window,len(Xsq)):\n",
    "    Xin = Xsq[i-window:i].reshape((1, window, np.shape(Xsq)[1]))\n",
    "    Xsq[i][(Xs.shape[1] - Ys.shape[1]):] = model_trans.predict(Xin) \n",
    "    # (Xs.shape[1]-Ys.shape[1]) indicates the index of the \n",
    "    # first 'system' output variable in the 'LSTM' input array\n",
    "    Ysq[i] = Xsq[i][(Xs.shape[1] - Ys.shape[1]):]\n",
    "\n",
    "Ytu = s2.inverse_transform(Ysq)\n",
    "# Break Ytu into train and validation set for plotting\n",
    "Ytu_train_trans = Ytu[window:cut_index]\n",
    "Ytu_val_trans = Ytu[cut_index+window:]"
   ]
  },
  {
   "cell_type": "code",
   "execution_count": 273,
   "metadata": {
    "colab": {
     "base_uri": "https://localhost:8080/",
     "height": 190
    },
    "executionInfo": {
     "elapsed": 783,
     "status": "ok",
     "timestamp": 1645133612297,
     "user": {
      "displayName": "Junho Park",
      "photoUrl": "https://lh3.googleusercontent.com/a-/AOh14GhWH0H954i4D0PPc6sNLVFrvhJj0CKnJSQoAJisShY=s64",
      "userId": "07513182812079543524"
     },
     "user_tz": 420
    },
    "id": "2X5LxbbNatdM",
    "jupyter": {
     "source_hidden": true
    },
    "outputId": "d3c9ad99-51c6-4f71-f7cb-0367444dbaed",
    "scrolled": true,
    "tags": []
   },
   "outputs": [
    {
     "data": {
      "image/png": "[encoded data removed]",
      "text/plain": [
       "<Figure size 864x360 with 4 Axes>"
      ]
     },
     "metadata": {
      "needs_background": "light"
     },
     "output_type": "display_data"
    }
   ],
   "source": [
    "plt.figure(0, figsize=(12,5))\n",
    "plt.subplot(2,2,1)\n",
    "plt.plot(data.index[window:cut_index],Ytu_train_trans[:,0],'r-',label='Transformer')\n",
    "plt.plot(data.index[window:cut_index],Ym_train[:,0],'b--',label='Measured')\n",
    "plt.title('Training')\n",
    "plt.legend()\n",
    "plt.subplot(2,2,2)\n",
    "plt.plot(data.index[cut_index+window:],Ytu_val_trans[:,0],'r-',label='Transformer')\n",
    "plt.plot(data.index[cut_index+window:],Ym_val[:,0],'b--',label='Measured')\n",
    "plt.title('Validation')\n",
    "plt.legend()\n",
    "plt.subplot(2,2,3)\n",
    "plt.plot(data.index[window:cut_index],Ytu_train_trans[:,1],'r-',label='Transformer')\n",
    "plt.plot(data.index[window:cut_index],Ym_train[:,1],'b--',label='Measured')\n",
    "plt.title('Training')\n",
    "plt.legend()\n",
    "plt.subplot(2,2,4)\n",
    "plt.plot(data.index[cut_index+window:],Ytu_val_trans[:,1],'r-',label='Transformer')\n",
    "plt.plot(data.index[cut_index+window:],Ym_val[:,1],'b--',label='Measured')\n",
    "plt.title('Validation')\n",
    "plt.legend()\n",
    "plt.tight_layout()\n",
    "\n",
    "\n",
    "\n",
    "# plt.savefig('2.Transformer_Values_SISO_FOPDT_' + sec + '_' + interval + 's.eps', format='eps')\n",
    "plt.savefig('2.Transformer_Values_SISO_FOPDT_' + sec + '_' + interval + 's.png')\n",
    "\n"
   ]
  },
  {
   "cell_type": "code",
   "execution_count": null,
   "metadata": {
    "id": "zL4MrGNQe5FF"
   },
   "outputs": [],
   "source": []
  }
 ],
 "metadata": {
  "accelerator": "GPU",
  "colab": {
   "collapsed_sections": [],
   "name": "01_1_Transformer_Training_FOPDT_Onestep_prediction.ipynb",
   "provenance": []
  },
  "kernelspec": {
   "display_name": "Python 3 (ipykernel)",
   "language": "python",
   "name": "python3"
  },
  "language_info": {
   "codemirror_mode": {
    "name": "ipython",
    "version": 3
   },
   "file_extension": ".py",
   "mimetype": "text/x-python",
   "name": "python",
   "nbconvert_exporter": "python",
   "pygments_lexer": "ipython3",
   "version": "3.10.2"
  },
  "widgets": {
   "application/vnd.jupyter.widget-state+json": {
    "0079f54dbec8416fb4dbd8462744bbcd": {
     "model_module": "@jupyter-widgets/base",
     "model_module_version": "1.2.0",
     "model_name": "LayoutModel",
     "state": {
      "_model_module": "@jupyter-widgets/base",
      "_model_module_version": "1.2.0",
      "_model_name": "LayoutModel",
      "_view_count": null,
      "_view_module": "@jupyter-widgets/base",
      "_view_module_version": "1.2.0",
      "_view_name": "LayoutView",
      "align_content": null,
      "align_items": null,
      "align_self": null,
      "border": null,
      "bottom": null,
      "display": null,
      "flex": null,
      "flex_flow": null,
      "grid_area": null,
      "grid_auto_columns": null,
      "grid_auto_flow": null,
      "grid_auto_rows": null,
      "grid_column": null,
      "grid_gap": null,
      "grid_row": null,
      "grid_template_areas": null,
      "grid_template_columns": null,
      "grid_template_rows": null,
      "height": null,
      "justify_content": null,
      "justify_items": null,
      "left": null,
      "margin": null,
      "max_height": null,
      "max_width": null,
      "min_height": null,
      "min_width": null,
      "object_fit": null,
      "object_position": null,
      "order": null,
      "overflow": null,
      "overflow_x": null,
      "overflow_y": null,
      "padding": null,
      "right": null,
      "top": null,
      "visibility": null,
      "width": null
     }
    },
    "0722848960714b8caadb5cee00d14ba0": {
     "model_module": "@jupyter-widgets/controls",
     "model_module_version": "1.5.0",
     "model_name": "HBoxModel",
     "state": {
      "_dom_classes": [],
      "_model_module": "@jupyter-widgets/controls",
      "_model_module_version": "1.5.0",
      "_model_name": "HBoxModel",
      "_view_count": null,
      "_view_module": "@jupyter-widgets/controls",
      "_view_module_version": "1.5.0",
      "_view_name": "HBoxView",
      "box_style": "",
      "children": [
       "IPY_MODEL_446cc9c066df44cca0243ed17ad3945d",
       "IPY_MODEL_c2802b2c075c4a8d8d647694877a1f94",
       "IPY_MODEL_47a2931a50ec44488c2c0bf654563b14"
      ],
      "layout": "IPY_MODEL_7966bbed15934749bada2c357412f20e"
     }
    },
    "0aed178cf740406d88a7870e1f19d587": {
     "model_module": "@jupyter-widgets/controls",
     "model_module_version": "1.5.0",
     "model_name": "ProgressStyleModel",
     "state": {
      "_model_module": "@jupyter-widgets/controls",
      "_model_module_version": "1.5.0",
      "_model_name": "ProgressStyleModel",
      "_view_count": null,
      "_view_module": "@jupyter-widgets/base",
      "_view_module_version": "1.2.0",
      "_view_name": "StyleView",
      "bar_color": null,
      "description_width": ""
     }
    },
    "0b149b8a72ee46069aec48a39f28ab84": {
     "model_module": "@jupyter-widgets/controls",
     "model_module_version": "1.5.0",
     "model_name": "FloatProgressModel",
     "state": {
      "_dom_classes": [],
      "_model_module": "@jupyter-widgets/controls",
      "_model_module_version": "1.5.0",
      "_model_name": "FloatProgressModel",
      "_view_count": null,
      "_view_module": "@jupyter-widgets/controls",
      "_view_module_version": "1.5.0",
      "_view_name": "ProgressView",
      "bar_style": "danger",
      "description": "",
      "description_tooltip": null,
      "layout": "IPY_MODEL_771c43b00e7749e89db8dad1057e7e71",
      "max": 300,
      "min": 0,
      "orientation": "horizontal",
      "style": "IPY_MODEL_d5f815a9f5b74f31b3fba3c7674074fe",
      "value": 84
     }
    },
    "0fe651984dd94a64b39fe4ac78202749": {
     "model_module": "@jupyter-widgets/controls",
     "model_module_version": "1.5.0",
     "model_name": "FloatProgressModel",
     "state": {
      "_dom_classes": [],
      "_model_module": "@jupyter-widgets/controls",
      "_model_module_version": "1.5.0",
      "_model_name": "FloatProgressModel",
      "_view_count": null,
      "_view_module": "@jupyter-widgets/controls",
      "_view_module_version": "1.5.0",
      "_view_name": "ProgressView",
      "bar_style": "",
      "description": "",
      "description_tooltip": null,
      "layout": "IPY_MODEL_de7500abd5754ed09a58899512c48d15",
      "max": 4,
      "min": 0,
      "orientation": "horizontal",
      "style": "IPY_MODEL_e2486073d4b94f61a220ab4440c2e5cf",
      "value": 4
     }
    },
    "13cfcad93ad942eba926f58b884ddad5": {
     "model_module": "@jupyter-widgets/base",
     "model_module_version": "1.2.0",
     "model_name": "LayoutModel",
     "state": {
      "_model_module": "@jupyter-widgets/base",
      "_model_module_version": "1.2.0",
      "_model_name": "LayoutModel",
      "_view_count": null,
      "_view_module": "@jupyter-widgets/base",
      "_view_module_version": "1.2.0",
      "_view_name": "LayoutView",
      "align_content": null,
      "align_items": null,
      "align_self": null,
      "border": null,
      "bottom": null,
      "display": null,
      "flex": null,
      "flex_flow": null,
      "grid_area": null,
      "grid_auto_columns": null,
      "grid_auto_flow": null,
      "grid_auto_rows": null,
      "grid_column": null,
      "grid_gap": null,
      "grid_row": null,
      "grid_template_areas": null,
      "grid_template_columns": null,
      "grid_template_rows": null,
      "height": null,
      "justify_content": null,
      "justify_items": null,
      "left": null,
      "margin": null,
      "max_height": null,
      "max_width": null,
      "min_height": null,
      "min_width": null,
      "object_fit": null,
      "object_position": null,
      "order": null,
      "overflow": null,
      "overflow_x": null,
      "overflow_y": null,
      "padding": null,
      "right": null,
      "top": null,
      "visibility": null,
      "width": null
     }
    },
    "18e4b85b45454b8ea0dd10e7471fae13": {
     "model_module": "@jupyter-widgets/base",
     "model_module_version": "1.2.0",
     "model_name": "LayoutModel",
     "state": {
      "_model_module": "@jupyter-widgets/base",
      "_model_module_version": "1.2.0",
      "_model_name": "LayoutModel",
      "_view_count": null,
      "_view_module": "@jupyter-widgets/base",
      "_view_module_version": "1.2.0",
      "_view_name": "LayoutView",
      "align_content": null,
      "align_items": null,
      "align_self": null,
      "border": null,
      "bottom": null,
      "display": null,
      "flex": null,
      "flex_flow": null,
      "grid_area": null,
      "grid_auto_columns": null,
      "grid_auto_flow": null,
      "grid_auto_rows": null,
      "grid_column": null,
      "grid_gap": null,
      "grid_row": null,
      "grid_template_areas": null,
      "grid_template_columns": null,
      "grid_template_rows": null,
      "height": null,
      "justify_content": null,
      "justify_items": null,
      "left": null,
      "margin": null,
      "max_height": null,
      "max_width": null,
      "min_height": null,
      "min_width": null,
      "object_fit": null,
      "object_position": null,
      "order": null,
      "overflow": null,
      "overflow_x": null,
      "overflow_y": null,
      "padding": null,
      "right": null,
      "top": null,
      "visibility": null,
      "width": null
     }
    },
    "3eebf148892a4d45a31570dcb7c43169": {
     "model_module": "@jupyter-widgets/controls",
     "model_module_version": "1.5.0",
     "model_name": "DescriptionStyleModel",
     "state": {
      "_model_module": "@jupyter-widgets/controls",
      "_model_module_version": "1.5.0",
      "_model_name": "DescriptionStyleModel",
      "_view_count": null,
      "_view_module": "@jupyter-widgets/base",
      "_view_module_version": "1.2.0",
      "_view_name": "StyleView",
      "description_width": ""
     }
    },
    "41f034741ad842c8a9b48569a34fe754": {
     "model_module": "@jupyter-widgets/controls",
     "model_module_version": "1.5.0",
     "model_name": "HBoxModel",
     "state": {
      "_dom_classes": [],
      "_model_module": "@jupyter-widgets/controls",
      "_model_module_version": "1.5.0",
      "_model_name": "HBoxModel",
      "_view_count": null,
      "_view_module": "@jupyter-widgets/controls",
      "_view_module_version": "1.5.0",
      "_view_name": "HBoxView",
      "box_style": "",
      "children": [
       "IPY_MODEL_df37999967874cf3a1090ef0fbeeffa7",
       "IPY_MODEL_0fe651984dd94a64b39fe4ac78202749",
       "IPY_MODEL_fc109a4e89fb45909effa80320022e10"
      ],
      "layout": "IPY_MODEL_d9da776ae83840cc90c630e971540c05"
     }
    },
    "446cc9c066df44cca0243ed17ad3945d": {
     "model_module": "@jupyter-widgets/controls",
     "model_module_version": "1.5.0",
     "model_name": "HTMLModel",
     "state": {
      "_dom_classes": [],
      "_model_module": "@jupyter-widgets/controls",
      "_model_module_version": "1.5.0",
      "_model_name": "HTMLModel",
      "_view_count": null,
      "_view_module": "@jupyter-widgets/controls",
      "_view_module_version": "1.5.0",
      "_view_name": "HTMLView",
      "description": "",
      "description_tooltip": null,
      "layout": "IPY_MODEL_7879041a51a149a695e700f04a4903be",
      "placeholder": "​",
      "style": "IPY_MODEL_b7001c186f084708a597f670bef0fbdf",
      "value": " 24%"
     }
    },
    "47a2931a50ec44488c2c0bf654563b14": {
     "model_module": "@jupyter-widgets/controls",
     "model_module_version": "1.5.0",
     "model_name": "HTMLModel",
     "state": {
      "_dom_classes": [],
      "_model_module": "@jupyter-widgets/controls",
      "_model_module_version": "1.5.0",
      "_model_name": "HTMLModel",
      "_view_count": null,
      "_view_module": "@jupyter-widgets/controls",
      "_view_module_version": "1.5.0",
      "_view_name": "HTMLView",
      "description": "",
      "description_tooltip": null,
      "layout": "IPY_MODEL_ee072366c247477b8417d9417c1d4ec6",
      "placeholder": "​",
      "style": "IPY_MODEL_afd5014a8b85403d880da5ac793ae3b9",
      "value": " 72/300 [00:13&lt;00:15, 15.15epoch/s, loss=0.00761, accuracy=0, val_loss=0.00683, val_accuracy=0.00126]"
     }
    },
    "51515bb5ae3d4d3ab7367ba66811ad90": {
     "model_module": "@jupyter-widgets/base",
     "model_module_version": "1.2.0",
     "model_name": "LayoutModel",
     "state": {
      "_model_module": "@jupyter-widgets/base",
      "_model_module_version": "1.2.0",
      "_model_name": "LayoutModel",
      "_view_count": null,
      "_view_module": "@jupyter-widgets/base",
      "_view_module_version": "1.2.0",
      "_view_name": "LayoutView",
      "align_content": null,
      "align_items": null,
      "align_self": null,
      "border": null,
      "bottom": null,
      "display": null,
      "flex": null,
      "flex_flow": null,
      "grid_area": null,
      "grid_auto_columns": null,
      "grid_auto_flow": null,
      "grid_auto_rows": null,
      "grid_column": null,
      "grid_gap": null,
      "grid_row": null,
      "grid_template_areas": null,
      "grid_template_columns": null,
      "grid_template_rows": null,
      "height": null,
      "justify_content": null,
      "justify_items": null,
      "left": null,
      "margin": null,
      "max_height": null,
      "max_width": null,
      "min_height": null,
      "min_width": null,
      "object_fit": null,
      "object_position": null,
      "order": null,
      "overflow": null,
      "overflow_x": null,
      "overflow_y": null,
      "padding": null,
      "right": null,
      "top": null,
      "visibility": null,
      "width": null
     }
    },
    "5d13cf992c674d2a9ce84cf96e4fadd0": {
     "model_module": "@jupyter-widgets/base",
     "model_module_version": "1.2.0",
     "model_name": "LayoutModel",
     "state": {
      "_model_module": "@jupyter-widgets/base",
      "_model_module_version": "1.2.0",
      "_model_name": "LayoutModel",
      "_view_count": null,
      "_view_module": "@jupyter-widgets/base",
      "_view_module_version": "1.2.0",
      "_view_name": "LayoutView",
      "align_content": null,
      "align_items": null,
      "align_self": null,
      "border": null,
      "bottom": null,
      "display": null,
      "flex": null,
      "flex_flow": null,
      "grid_area": null,
      "grid_auto_columns": null,
      "grid_auto_flow": null,
      "grid_auto_rows": null,
      "grid_column": null,
      "grid_gap": null,
      "grid_row": null,
      "grid_template_areas": null,
      "grid_template_columns": null,
      "grid_template_rows": null,
      "height": null,
      "justify_content": null,
      "justify_items": null,
      "left": null,
      "margin": null,
      "max_height": null,
      "max_width": null,
      "min_height": null,
      "min_width": null,
      "object_fit": null,
      "object_position": null,
      "order": null,
      "overflow": null,
      "overflow_x": null,
      "overflow_y": null,
      "padding": null,
      "right": null,
      "top": null,
      "visibility": null,
      "width": null
     }
    },
    "6464b5d584d04092b8aa75770dca4a69": {
     "model_module": "@jupyter-widgets/controls",
     "model_module_version": "1.5.0",
     "model_name": "HTMLModel",
     "state": {
      "_dom_classes": [],
      "_model_module": "@jupyter-widgets/controls",
      "_model_module_version": "1.5.0",
      "_model_name": "HTMLModel",
      "_view_count": null,
      "_view_module": "@jupyter-widgets/controls",
      "_view_module_version": "1.5.0",
      "_view_name": "HTMLView",
      "description": "",
      "description_tooltip": null,
      "layout": "IPY_MODEL_0079f54dbec8416fb4dbd8462744bbcd",
      "placeholder": "​",
      "style": "IPY_MODEL_3eebf148892a4d45a31570dcb7c43169",
      "value": " 84%"
     }
    },
    "771c43b00e7749e89db8dad1057e7e71": {
     "model_module": "@jupyter-widgets/base",
     "model_module_version": "1.2.0",
     "model_name": "LayoutModel",
     "state": {
      "_model_module": "@jupyter-widgets/base",
      "_model_module_version": "1.2.0",
      "_model_name": "LayoutModel",
      "_view_count": null,
      "_view_module": "@jupyter-widgets/base",
      "_view_module_version": "1.2.0",
      "_view_name": "LayoutView",
      "align_content": null,
      "align_items": null,
      "align_self": null,
      "border": null,
      "bottom": null,
      "display": null,
      "flex": null,
      "flex_flow": null,
      "grid_area": null,
      "grid_auto_columns": null,
      "grid_auto_flow": null,
      "grid_auto_rows": null,
      "grid_column": null,
      "grid_gap": null,
      "grid_row": null,
      "grid_template_areas": null,
      "grid_template_columns": null,
      "grid_template_rows": null,
      "height": null,
      "justify_content": null,
      "justify_items": null,
      "left": null,
      "margin": null,
      "max_height": null,
      "max_width": null,
      "min_height": null,
      "min_width": null,
      "object_fit": null,
      "object_position": null,
      "order": null,
      "overflow": null,
      "overflow_x": null,
      "overflow_y": null,
      "padding": null,
      "right": null,
      "top": null,
      "visibility": null,
      "width": null
     }
    },
    "7879041a51a149a695e700f04a4903be": {
     "model_module": "@jupyter-widgets/base",
     "model_module_version": "1.2.0",
     "model_name": "LayoutModel",
     "state": {
      "_model_module": "@jupyter-widgets/base",
      "_model_module_version": "1.2.0",
      "_model_name": "LayoutModel",
      "_view_count": null,
      "_view_module": "@jupyter-widgets/base",
      "_view_module_version": "1.2.0",
      "_view_name": "LayoutView",
      "align_content": null,
      "align_items": null,
      "align_self": null,
      "border": null,
      "bottom": null,
      "display": null,
      "flex": null,
      "flex_flow": null,
      "grid_area": null,
      "grid_auto_columns": null,
      "grid_auto_flow": null,
      "grid_auto_rows": null,
      "grid_column": null,
      "grid_gap": null,
      "grid_row": null,
      "grid_template_areas": null,
      "grid_template_columns": null,
      "grid_template_rows": null,
      "height": null,
      "justify_content": null,
      "justify_items": null,
      "left": null,
      "margin": null,
      "max_height": null,
      "max_width": null,
      "min_height": null,
      "min_width": null,
      "object_fit": null,
      "object_position": null,
      "order": null,
      "overflow": null,
      "overflow_x": null,
      "overflow_y": null,
      "padding": null,
      "right": null,
      "top": null,
      "visibility": null,
      "width": null
     }
    },
    "7966bbed15934749bada2c357412f20e": {
     "model_module": "@jupyter-widgets/base",
     "model_module_version": "1.2.0",
     "model_name": "LayoutModel",
     "state": {
      "_model_module": "@jupyter-widgets/base",
      "_model_module_version": "1.2.0",
      "_model_name": "LayoutModel",
      "_view_count": null,
      "_view_module": "@jupyter-widgets/base",
      "_view_module_version": "1.2.0",
      "_view_name": "LayoutView",
      "align_content": null,
      "align_items": null,
      "align_self": null,
      "border": null,
      "bottom": null,
      "display": null,
      "flex": null,
      "flex_flow": null,
      "grid_area": null,
      "grid_auto_columns": null,
      "grid_auto_flow": null,
      "grid_auto_rows": null,
      "grid_column": null,
      "grid_gap": null,
      "grid_row": null,
      "grid_template_areas": null,
      "grid_template_columns": null,
      "grid_template_rows": null,
      "height": null,
      "justify_content": null,
      "justify_items": null,
      "left": null,
      "margin": null,
      "max_height": null,
      "max_width": null,
      "min_height": null,
      "min_width": null,
      "object_fit": null,
      "object_position": null,
      "order": null,
      "overflow": null,
      "overflow_x": null,
      "overflow_y": null,
      "padding": null,
      "right": null,
      "top": null,
      "visibility": null,
      "width": null
     }
    },
    "8e4bff9609834306bc5a977ed6823dbe": {
     "model_module": "@jupyter-widgets/controls",
     "model_module_version": "1.5.0",
     "model_name": "HBoxModel",
     "state": {
      "_dom_classes": [],
      "_model_module": "@jupyter-widgets/controls",
      "_model_module_version": "1.5.0",
      "_model_name": "HBoxModel",
      "_view_count": null,
      "_view_module": "@jupyter-widgets/controls",
      "_view_module_version": "1.5.0",
      "_view_name": "HBoxView",
      "box_style": "",
      "children": [
       "IPY_MODEL_6464b5d584d04092b8aa75770dca4a69",
       "IPY_MODEL_a2ca6de4bb924413b89a07b875aaeadf",
       "IPY_MODEL_9b343b9562e1427999a43f26d1c83b89"
      ],
      "layout": "IPY_MODEL_a11d4cea8d5847198125c9d64b7c58bc"
     }
    },
    "960a97c6dd1f443daca3ff74ebb68d7f": {
     "model_module": "@jupyter-widgets/controls",
     "model_module_version": "1.5.0",
     "model_name": "DescriptionStyleModel",
     "state": {
      "_model_module": "@jupyter-widgets/controls",
      "_model_module_version": "1.5.0",
      "_model_name": "DescriptionStyleModel",
      "_view_count": null,
      "_view_module": "@jupyter-widgets/base",
      "_view_module_version": "1.2.0",
      "_view_name": "StyleView",
      "description_width": ""
     }
    },
    "9b343b9562e1427999a43f26d1c83b89": {
     "model_module": "@jupyter-widgets/controls",
     "model_module_version": "1.5.0",
     "model_name": "HTMLModel",
     "state": {
      "_dom_classes": [],
      "_model_module": "@jupyter-widgets/controls",
      "_model_module_version": "1.5.0",
      "_model_name": "HTMLModel",
      "_view_count": null,
      "_view_module": "@jupyter-widgets/controls",
      "_view_module_version": "1.5.0",
      "_view_name": "HTMLView",
      "description": "",
      "description_tooltip": null,
      "layout": "IPY_MODEL_18e4b85b45454b8ea0dd10e7471fae13",
      "placeholder": "​",
      "style": "IPY_MODEL_bba8a67b19fd4264a5062d02b11b6387",
      "value": " 21.0/25.0 [00:00&lt;00:00, 205batch/s, loss=0.00644, accuracy=0]"
     }
    },
    "9f204fc7cc03417599da1d37dbac9863": {
     "model_module": "@jupyter-widgets/controls",
     "model_module_version": "1.5.0",
     "model_name": "HTMLModel",
     "state": {
      "_dom_classes": [],
      "_model_module": "@jupyter-widgets/controls",
      "_model_module_version": "1.5.0",
      "_model_name": "HTMLModel",
      "_view_count": null,
      "_view_module": "@jupyter-widgets/controls",
      "_view_module_version": "1.5.0",
      "_view_name": "HTMLView",
      "description": "",
      "description_tooltip": null,
      "layout": "IPY_MODEL_13cfcad93ad942eba926f58b884ddad5",
      "placeholder": "​",
      "style": "IPY_MODEL_960a97c6dd1f443daca3ff74ebb68d7f",
      "value": " 28%"
     }
    },
    "9f2b32ba8da342c0a1d77709a49ddd5a": {
     "model_module": "@jupyter-widgets/base",
     "model_module_version": "1.2.0",
     "model_name": "LayoutModel",
     "state": {
      "_model_module": "@jupyter-widgets/base",
      "_model_module_version": "1.2.0",
      "_model_name": "LayoutModel",
      "_view_count": null,
      "_view_module": "@jupyter-widgets/base",
      "_view_module_version": "1.2.0",
      "_view_name": "LayoutView",
      "align_content": null,
      "align_items": null,
      "align_self": null,
      "border": null,
      "bottom": null,
      "display": null,
      "flex": null,
      "flex_flow": null,
      "grid_area": null,
      "grid_auto_columns": null,
      "grid_auto_flow": null,
      "grid_auto_rows": null,
      "grid_column": null,
      "grid_gap": null,
      "grid_row": null,
      "grid_template_areas": null,
      "grid_template_columns": null,
      "grid_template_rows": null,
      "height": null,
      "justify_content": null,
      "justify_items": null,
      "left": null,
      "margin": null,
      "max_height": null,
      "max_width": null,
      "min_height": null,
      "min_width": null,
      "object_fit": null,
      "object_position": null,
      "order": null,
      "overflow": null,
      "overflow_x": null,
      "overflow_y": null,
      "padding": null,
      "right": null,
      "top": null,
      "visibility": null,
      "width": null
     }
    },
    "a11d4cea8d5847198125c9d64b7c58bc": {
     "model_module": "@jupyter-widgets/base",
     "model_module_version": "1.2.0",
     "model_name": "LayoutModel",
     "state": {
      "_model_module": "@jupyter-widgets/base",
      "_model_module_version": "1.2.0",
      "_model_name": "LayoutModel",
      "_view_count": null,
      "_view_module": "@jupyter-widgets/base",
      "_view_module_version": "1.2.0",
      "_view_name": "LayoutView",
      "align_content": null,
      "align_items": null,
      "align_self": null,
      "border": null,
      "bottom": null,
      "display": null,
      "flex": null,
      "flex_flow": null,
      "grid_area": null,
      "grid_auto_columns": null,
      "grid_auto_flow": null,
      "grid_auto_rows": null,
      "grid_column": null,
      "grid_gap": null,
      "grid_row": null,
      "grid_template_areas": null,
      "grid_template_columns": null,
      "grid_template_rows": null,
      "height": null,
      "justify_content": null,
      "justify_items": null,
      "left": null,
      "margin": null,
      "max_height": null,
      "max_width": null,
      "min_height": null,
      "min_width": null,
      "object_fit": null,
      "object_position": null,
      "order": null,
      "overflow": null,
      "overflow_x": null,
      "overflow_y": null,
      "padding": null,
      "right": null,
      "top": null,
      "visibility": null,
      "width": null
     }
    },
    "a2ca6de4bb924413b89a07b875aaeadf": {
     "model_module": "@jupyter-widgets/controls",
     "model_module_version": "1.5.0",
     "model_name": "FloatProgressModel",
     "state": {
      "_dom_classes": [],
      "_model_module": "@jupyter-widgets/controls",
      "_model_module_version": "1.5.0",
      "_model_name": "FloatProgressModel",
      "_view_count": null,
      "_view_module": "@jupyter-widgets/controls",
      "_view_module_version": "1.5.0",
      "_view_name": "ProgressView",
      "bar_style": "",
      "description": "",
      "description_tooltip": null,
      "layout": "IPY_MODEL_e06ad2d754154706bdb15dda93fd7ffb",
      "max": 25,
      "min": 0,
      "orientation": "horizontal",
      "style": "IPY_MODEL_d41ac58a5a2d49ba8792eb48aef28de2",
      "value": 25
     }
    },
    "a5db5ab5ee094451a499d4f671924975": {
     "model_module": "@jupyter-widgets/controls",
     "model_module_version": "1.5.0",
     "model_name": "HTMLModel",
     "state": {
      "_dom_classes": [],
      "_model_module": "@jupyter-widgets/controls",
      "_model_module_version": "1.5.0",
      "_model_name": "HTMLModel",
      "_view_count": null,
      "_view_module": "@jupyter-widgets/controls",
      "_view_module_version": "1.5.0",
      "_view_name": "HTMLView",
      "description": "",
      "description_tooltip": null,
      "layout": "IPY_MODEL_5d13cf992c674d2a9ce84cf96e4fadd0",
      "placeholder": "​",
      "style": "IPY_MODEL_aa29548aabeb47cd8f05edf70f99fbde",
      "value": " 84/300 [00:24&lt;00:53,  4.02epoch/s, loss=0.0064, accuracy=0, val_loss=0.00602, val_accuracy=0.00126]"
     }
    },
    "aa29548aabeb47cd8f05edf70f99fbde": {
     "model_module": "@jupyter-widgets/controls",
     "model_module_version": "1.5.0",
     "model_name": "DescriptionStyleModel",
     "state": {
      "_model_module": "@jupyter-widgets/controls",
      "_model_module_version": "1.5.0",
      "_model_name": "DescriptionStyleModel",
      "_view_count": null,
      "_view_module": "@jupyter-widgets/base",
      "_view_module_version": "1.2.0",
      "_view_name": "StyleView",
      "description_width": ""
     }
    },
    "afd5014a8b85403d880da5ac793ae3b9": {
     "model_module": "@jupyter-widgets/controls",
     "model_module_version": "1.5.0",
     "model_name": "DescriptionStyleModel",
     "state": {
      "_model_module": "@jupyter-widgets/controls",
      "_model_module_version": "1.5.0",
      "_model_name": "DescriptionStyleModel",
      "_view_count": null,
      "_view_module": "@jupyter-widgets/base",
      "_view_module_version": "1.2.0",
      "_view_name": "StyleView",
      "description_width": ""
     }
    },
    "b677f2d17e9b415e9a6cf1e1977974d0": {
     "model_module": "@jupyter-widgets/controls",
     "model_module_version": "1.5.0",
     "model_name": "DescriptionStyleModel",
     "state": {
      "_model_module": "@jupyter-widgets/controls",
      "_model_module_version": "1.5.0",
      "_model_name": "DescriptionStyleModel",
      "_view_count": null,
      "_view_module": "@jupyter-widgets/base",
      "_view_module_version": "1.2.0",
      "_view_name": "StyleView",
      "description_width": ""
     }
    },
    "b7001c186f084708a597f670bef0fbdf": {
     "model_module": "@jupyter-widgets/controls",
     "model_module_version": "1.5.0",
     "model_name": "DescriptionStyleModel",
     "state": {
      "_model_module": "@jupyter-widgets/controls",
      "_model_module_version": "1.5.0",
      "_model_name": "DescriptionStyleModel",
      "_view_count": null,
      "_view_module": "@jupyter-widgets/base",
      "_view_module_version": "1.2.0",
      "_view_name": "StyleView",
      "description_width": ""
     }
    },
    "bba8a67b19fd4264a5062d02b11b6387": {
     "model_module": "@jupyter-widgets/controls",
     "model_module_version": "1.5.0",
     "model_name": "DescriptionStyleModel",
     "state": {
      "_model_module": "@jupyter-widgets/controls",
      "_model_module_version": "1.5.0",
      "_model_name": "DescriptionStyleModel",
      "_view_count": null,
      "_view_module": "@jupyter-widgets/base",
      "_view_module_version": "1.2.0",
      "_view_name": "StyleView",
      "description_width": ""
     }
    },
    "c2802b2c075c4a8d8d647694877a1f94": {
     "model_module": "@jupyter-widgets/controls",
     "model_module_version": "1.5.0",
     "model_name": "FloatProgressModel",
     "state": {
      "_dom_classes": [],
      "_model_module": "@jupyter-widgets/controls",
      "_model_module_version": "1.5.0",
      "_model_name": "FloatProgressModel",
      "_view_count": null,
      "_view_module": "@jupyter-widgets/controls",
      "_view_module_version": "1.5.0",
      "_view_name": "ProgressView",
      "bar_style": "danger",
      "description": "",
      "description_tooltip": null,
      "layout": "IPY_MODEL_51515bb5ae3d4d3ab7367ba66811ad90",
      "max": 300,
      "min": 0,
      "orientation": "horizontal",
      "style": "IPY_MODEL_0aed178cf740406d88a7870e1f19d587",
      "value": 72
     }
    },
    "d41ac58a5a2d49ba8792eb48aef28de2": {
     "model_module": "@jupyter-widgets/controls",
     "model_module_version": "1.5.0",
     "model_name": "ProgressStyleModel",
     "state": {
      "_model_module": "@jupyter-widgets/controls",
      "_model_module_version": "1.5.0",
      "_model_name": "ProgressStyleModel",
      "_view_count": null,
      "_view_module": "@jupyter-widgets/base",
      "_view_module_version": "1.2.0",
      "_view_name": "StyleView",
      "bar_color": null,
      "description_width": ""
     }
    },
    "d5f815a9f5b74f31b3fba3c7674074fe": {
     "model_module": "@jupyter-widgets/controls",
     "model_module_version": "1.5.0",
     "model_name": "ProgressStyleModel",
     "state": {
      "_model_module": "@jupyter-widgets/controls",
      "_model_module_version": "1.5.0",
      "_model_name": "ProgressStyleModel",
      "_view_count": null,
      "_view_module": "@jupyter-widgets/base",
      "_view_module_version": "1.2.0",
      "_view_name": "StyleView",
      "bar_color": null,
      "description_width": ""
     }
    },
    "d9da776ae83840cc90c630e971540c05": {
     "model_module": "@jupyter-widgets/base",
     "model_module_version": "1.2.0",
     "model_name": "LayoutModel",
     "state": {
      "_model_module": "@jupyter-widgets/base",
      "_model_module_version": "1.2.0",
      "_model_name": "LayoutModel",
      "_view_count": null,
      "_view_module": "@jupyter-widgets/base",
      "_view_module_version": "1.2.0",
      "_view_name": "LayoutView",
      "align_content": null,
      "align_items": null,
      "align_self": null,
      "border": null,
      "bottom": null,
      "display": null,
      "flex": null,
      "flex_flow": null,
      "grid_area": null,
      "grid_auto_columns": null,
      "grid_auto_flow": null,
      "grid_auto_rows": null,
      "grid_column": null,
      "grid_gap": null,
      "grid_row": null,
      "grid_template_areas": null,
      "grid_template_columns": null,
      "grid_template_rows": null,
      "height": null,
      "justify_content": null,
      "justify_items": null,
      "left": null,
      "margin": null,
      "max_height": null,
      "max_width": null,
      "min_height": null,
      "min_width": null,
      "object_fit": null,
      "object_position": null,
      "order": null,
      "overflow": null,
      "overflow_x": null,
      "overflow_y": null,
      "padding": null,
      "right": null,
      "top": null,
      "visibility": null,
      "width": null
     }
    },
    "dd5bf1e6a70a4b9c848464a8a8bfb495": {
     "model_module": "@jupyter-widgets/base",
     "model_module_version": "1.2.0",
     "model_name": "LayoutModel",
     "state": {
      "_model_module": "@jupyter-widgets/base",
      "_model_module_version": "1.2.0",
      "_model_name": "LayoutModel",
      "_view_count": null,
      "_view_module": "@jupyter-widgets/base",
      "_view_module_version": "1.2.0",
      "_view_name": "LayoutView",
      "align_content": null,
      "align_items": null,
      "align_self": null,
      "border": null,
      "bottom": null,
      "display": null,
      "flex": null,
      "flex_flow": null,
      "grid_area": null,
      "grid_auto_columns": null,
      "grid_auto_flow": null,
      "grid_auto_rows": null,
      "grid_column": null,
      "grid_gap": null,
      "grid_row": null,
      "grid_template_areas": null,
      "grid_template_columns": null,
      "grid_template_rows": null,
      "height": null,
      "justify_content": null,
      "justify_items": null,
      "left": null,
      "margin": null,
      "max_height": null,
      "max_width": null,
      "min_height": null,
      "min_width": null,
      "object_fit": null,
      "object_position": null,
      "order": null,
      "overflow": null,
      "overflow_x": null,
      "overflow_y": null,
      "padding": null,
      "right": null,
      "top": null,
      "visibility": null,
      "width": null
     }
    },
    "de7500abd5754ed09a58899512c48d15": {
     "model_module": "@jupyter-widgets/base",
     "model_module_version": "1.2.0",
     "model_name": "LayoutModel",
     "state": {
      "_model_module": "@jupyter-widgets/base",
      "_model_module_version": "1.2.0",
      "_model_name": "LayoutModel",
      "_view_count": null,
      "_view_module": "@jupyter-widgets/base",
      "_view_module_version": "1.2.0",
      "_view_name": "LayoutView",
      "align_content": null,
      "align_items": null,
      "align_self": null,
      "border": null,
      "bottom": null,
      "display": null,
      "flex": null,
      "flex_flow": null,
      "grid_area": null,
      "grid_auto_columns": null,
      "grid_auto_flow": null,
      "grid_auto_rows": null,
      "grid_column": null,
      "grid_gap": null,
      "grid_row": null,
      "grid_template_areas": null,
      "grid_template_columns": null,
      "grid_template_rows": null,
      "height": null,
      "justify_content": null,
      "justify_items": null,
      "left": null,
      "margin": null,
      "max_height": null,
      "max_width": null,
      "min_height": null,
      "min_width": null,
      "object_fit": null,
      "object_position": null,
      "order": null,
      "overflow": null,
      "overflow_x": null,
      "overflow_y": null,
      "padding": null,
      "right": null,
      "top": null,
      "visibility": null,
      "width": null
     }
    },
    "df37999967874cf3a1090ef0fbeeffa7": {
     "model_module": "@jupyter-widgets/controls",
     "model_module_version": "1.5.0",
     "model_name": "HTMLModel",
     "state": {
      "_dom_classes": [],
      "_model_module": "@jupyter-widgets/controls",
      "_model_module_version": "1.5.0",
      "_model_name": "HTMLModel",
      "_view_count": null,
      "_view_module": "@jupyter-widgets/controls",
      "_view_module_version": "1.5.0",
      "_view_name": "HTMLView",
      "description": "",
      "description_tooltip": null,
      "layout": "IPY_MODEL_dd5bf1e6a70a4b9c848464a8a8bfb495",
      "placeholder": "​",
      "style": "IPY_MODEL_b677f2d17e9b415e9a6cf1e1977974d0",
      "value": "  0%"
     }
    },
    "e06ad2d754154706bdb15dda93fd7ffb": {
     "model_module": "@jupyter-widgets/base",
     "model_module_version": "1.2.0",
     "model_name": "LayoutModel",
     "state": {
      "_model_module": "@jupyter-widgets/base",
      "_model_module_version": "1.2.0",
      "_model_name": "LayoutModel",
      "_view_count": null,
      "_view_module": "@jupyter-widgets/base",
      "_view_module_version": "1.2.0",
      "_view_name": "LayoutView",
      "align_content": null,
      "align_items": null,
      "align_self": null,
      "border": null,
      "bottom": null,
      "display": null,
      "flex": null,
      "flex_flow": null,
      "grid_area": null,
      "grid_auto_columns": null,
      "grid_auto_flow": null,
      "grid_auto_rows": null,
      "grid_column": null,
      "grid_gap": null,
      "grid_row": null,
      "grid_template_areas": null,
      "grid_template_columns": null,
      "grid_template_rows": null,
      "height": null,
      "justify_content": null,
      "justify_items": null,
      "left": null,
      "margin": null,
      "max_height": null,
      "max_width": null,
      "min_height": null,
      "min_width": null,
      "object_fit": null,
      "object_position": null,
      "order": null,
      "overflow": null,
      "overflow_x": null,
      "overflow_y": null,
      "padding": null,
      "right": null,
      "top": null,
      "visibility": null,
      "width": null
     }
    },
    "e2486073d4b94f61a220ab4440c2e5cf": {
     "model_module": "@jupyter-widgets/controls",
     "model_module_version": "1.5.0",
     "model_name": "ProgressStyleModel",
     "state": {
      "_model_module": "@jupyter-widgets/controls",
      "_model_module_version": "1.5.0",
      "_model_name": "ProgressStyleModel",
      "_view_count": null,
      "_view_module": "@jupyter-widgets/base",
      "_view_module_version": "1.2.0",
      "_view_name": "StyleView",
      "bar_color": null,
      "description_width": ""
     }
    },
    "ea23e2b1a99249aa8ff66b203422eec2": {
     "model_module": "@jupyter-widgets/controls",
     "model_module_version": "1.5.0",
     "model_name": "HBoxModel",
     "state": {
      "_dom_classes": [],
      "_model_module": "@jupyter-widgets/controls",
      "_model_module_version": "1.5.0",
      "_model_name": "HBoxModel",
      "_view_count": null,
      "_view_module": "@jupyter-widgets/controls",
      "_view_module_version": "1.5.0",
      "_view_name": "HBoxView",
      "box_style": "",
      "children": [
       "IPY_MODEL_9f204fc7cc03417599da1d37dbac9863",
       "IPY_MODEL_0b149b8a72ee46069aec48a39f28ab84",
       "IPY_MODEL_a5db5ab5ee094451a499d4f671924975"
      ],
      "layout": "IPY_MODEL_9f2b32ba8da342c0a1d77709a49ddd5a"
     }
    },
    "eb8e16aaac034b129737152af2c94470": {
     "model_module": "@jupyter-widgets/base",
     "model_module_version": "1.2.0",
     "model_name": "LayoutModel",
     "state": {
      "_model_module": "@jupyter-widgets/base",
      "_model_module_version": "1.2.0",
      "_model_name": "LayoutModel",
      "_view_count": null,
      "_view_module": "@jupyter-widgets/base",
      "_view_module_version": "1.2.0",
      "_view_name": "LayoutView",
      "align_content": null,
      "align_items": null,
      "align_self": null,
      "border": null,
      "bottom": null,
      "display": null,
      "flex": null,
      "flex_flow": null,
      "grid_area": null,
      "grid_auto_columns": null,
      "grid_auto_flow": null,
      "grid_auto_rows": null,
      "grid_column": null,
      "grid_gap": null,
      "grid_row": null,
      "grid_template_areas": null,
      "grid_template_columns": null,
      "grid_template_rows": null,
      "height": null,
      "justify_content": null,
      "justify_items": null,
      "left": null,
      "margin": null,
      "max_height": null,
      "max_width": null,
      "min_height": null,
      "min_width": null,
      "object_fit": null,
      "object_position": null,
      "order": null,
      "overflow": null,
      "overflow_x": null,
      "overflow_y": null,
      "padding": null,
      "right": null,
      "top": null,
      "visibility": null,
      "width": null
     }
    },
    "ee072366c247477b8417d9417c1d4ec6": {
     "model_module": "@jupyter-widgets/base",
     "model_module_version": "1.2.0",
     "model_name": "LayoutModel",
     "state": {
      "_model_module": "@jupyter-widgets/base",
      "_model_module_version": "1.2.0",
      "_model_name": "LayoutModel",
      "_view_count": null,
      "_view_module": "@jupyter-widgets/base",
      "_view_module_version": "1.2.0",
      "_view_name": "LayoutView",
      "align_content": null,
      "align_items": null,
      "align_self": null,
      "border": null,
      "bottom": null,
      "display": null,
      "flex": null,
      "flex_flow": null,
      "grid_area": null,
      "grid_auto_columns": null,
      "grid_auto_flow": null,
      "grid_auto_rows": null,
      "grid_column": null,
      "grid_gap": null,
      "grid_row": null,
      "grid_template_areas": null,
      "grid_template_columns": null,
      "grid_template_rows": null,
      "height": null,
      "justify_content": null,
      "justify_items": null,
      "left": null,
      "margin": null,
      "max_height": null,
      "max_width": null,
      "min_height": null,
      "min_width": null,
      "object_fit": null,
      "object_position": null,
      "order": null,
      "overflow": null,
      "overflow_x": null,
      "overflow_y": null,
      "padding": null,
      "right": null,
      "top": null,
      "visibility": null,
      "width": null
     }
    },
    "f07db168aab248b8ab2f002954be3bf0": {
     "model_module": "@jupyter-widgets/controls",
     "model_module_version": "1.5.0",
     "model_name": "DescriptionStyleModel",
     "state": {
      "_model_module": "@jupyter-widgets/controls",
      "_model_module_version": "1.5.0",
      "_model_name": "DescriptionStyleModel",
      "_view_count": null,
      "_view_module": "@jupyter-widgets/base",
      "_view_module_version": "1.2.0",
      "_view_name": "StyleView",
      "description_width": ""
     }
    },
    "fc109a4e89fb45909effa80320022e10": {
     "model_module": "@jupyter-widgets/controls",
     "model_module_version": "1.5.0",
     "model_name": "HTMLModel",
     "state": {
      "_dom_classes": [],
      "_model_module": "@jupyter-widgets/controls",
      "_model_module_version": "1.5.0",
      "_model_name": "HTMLModel",
      "_view_count": null,
      "_view_module": "@jupyter-widgets/controls",
      "_view_module_version": "1.5.0",
      "_view_name": "HTMLView",
      "description": "",
      "description_tooltip": null,
      "layout": "IPY_MODEL_eb8e16aaac034b129737152af2c94470",
      "placeholder": "​",
      "style": "IPY_MODEL_f07db168aab248b8ab2f002954be3bf0",
      "value": " 0.00/4.00 [00:00&lt;?, ?batch/s, loss=0.00751, accuracy=0]"
     }
    }
   }
  }
 },
 "nbformat": 4,
 "nbformat_minor": 1
}
