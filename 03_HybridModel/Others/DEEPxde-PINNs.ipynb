{
 "cells": [
  {
   "cell_type": "markdown",
   "metadata": {},
   "source": [
    "## Deep Transfer Learning using PINNs \n",
    "### Sam Arce     Nov 2021"
   ]
  },
  {
   "cell_type": "markdown",
   "metadata": {},
   "source": [
    "## 1. Import Libraries\n",
    "Using DeepXDE for PINN modeling, checking requirements: <br>\n",
    "Tensorflow 2.x: Tensorflow >= 2.2.0 and TensorFlow Probability"
   ]
  },
  {
   "cell_type": "code",
   "execution_count": 1,
   "metadata": {},
   "outputs": [
    {
     "name": "stderr",
     "output_type": "stream",
     "text": [
      "Deepxde backend not selected or invalid. Assuming tensorflow.compat.v1 for now.\n",
      "Using backend: tensorflow.compat.v1\n",
      "\n"
     ]
    },
    {
     "name": "stdout",
     "output_type": "stream",
     "text": [
      "Setting the default backend to \"tensorflow.compat.v1\". You can change it in the ~/.deepxde/config.json file or export the DDEBACKEND environment variable. Valid options are: tensorflow.compat.v1, tensorflow, pytorch, jax (all lowercase)\n",
      "WARNING:tensorflow:From /Users/junhopark/tensorflow-test/env/lib/python3.8/site-packages/tensorflow/python/compat/v2_compat.py:107: disable_resource_variables (from tensorflow.python.ops.variable_scope) is deprecated and will be removed in a future version.\n",
      "Instructions for updating:\n",
      "non-resource variables are not supported in the long term\n",
      "WARNING:tensorflow:From /Users/junhopark/tensorflow-test/env/lib/python3.8/site-packages/deepxde/nn/initializers.py:118: The name tf.keras.initializers.he_normal is deprecated. Please use tf.compat.v1.keras.initializers.he_normal instead.\n",
      "\n"
     ]
    }
   ],
   "source": [
    "import deepxde as dde\n",
    "import numpy as np"
   ]
  },
  {
   "cell_type": "code",
   "execution_count": 8,
   "metadata": {},
   "outputs": [
    {
     "data": {
      "text/html": [
       "<div>\n",
       "<style scoped>\n",
       "    .dataframe tbody tr th:only-of-type {\n",
       "        vertical-align: middle;\n",
       "    }\n",
       "\n",
       "    .dataframe tbody tr th {\n",
       "        vertical-align: top;\n",
       "    }\n",
       "\n",
       "    .dataframe thead th {\n",
       "        text-align: right;\n",
       "    }\n",
       "</style>\n",
       "<table border=\"1\" class=\"dataframe\">\n",
       "  <thead>\n",
       "    <tr style=\"text-align: right;\">\n",
       "      <th></th>\n",
       "      <th>#</th>\n",
       "      <th>x</th>\n",
       "    </tr>\n",
       "  </thead>\n",
       "  <tbody>\n",
       "    <tr>\n",
       "      <th>0</th>\n",
       "      <td>0.0</td>\n",
       "      <td>NaN</td>\n",
       "    </tr>\n",
       "    <tr>\n",
       "      <th>1</th>\n",
       "      <td>0.0</td>\n",
       "      <td>NaN</td>\n",
       "    </tr>\n",
       "    <tr>\n",
       "      <th>2</th>\n",
       "      <td>0.0</td>\n",
       "      <td>NaN</td>\n",
       "    </tr>\n",
       "    <tr>\n",
       "      <th>3</th>\n",
       "      <td>0.0</td>\n",
       "      <td>NaN</td>\n",
       "    </tr>\n",
       "    <tr>\n",
       "      <th>4</th>\n",
       "      <td>0.0</td>\n",
       "      <td>NaN</td>\n",
       "    </tr>\n",
       "  </tbody>\n",
       "</table>\n",
       "</div>"
      ],
      "text/plain": [
       "     #   x\n",
       "0  0.0 NaN\n",
       "1  0.0 NaN\n",
       "2  0.0 NaN\n",
       "3  0.0 NaN\n",
       "4  0.0 NaN"
      ]
     },
     "execution_count": 8,
     "metadata": {},
     "output_type": "execute_result"
    }
   ],
   "source": [
    "import pandas as pd\n",
    "data = pd.read_csv('train.dat', delim_whitespace=True)\n",
    "data.head()"
   ]
  },
  {
   "cell_type": "code",
   "execution_count": 4,
   "metadata": {},
   "outputs": [
    {
     "ename": "KeyError",
     "evalue": "'y'",
     "output_type": "error",
     "traceback": [
      "\u001b[0;31m---------------------------------------------------------------------------\u001b[0m",
      "\u001b[0;31mKeyError\u001b[0m                                  Traceback (most recent call last)",
      "File \u001b[0;32m~/tensorflow-test/env/lib/python3.8/site-packages/pandas/core/indexes/base.py:3621\u001b[0m, in \u001b[0;36mIndex.get_loc\u001b[0;34m(self, key, method, tolerance)\u001b[0m\n\u001b[1;32m   <a href='file:///Users/junhopark/tensorflow-test/env/lib/python3.8/site-packages/pandas/core/indexes/base.py?line=3619'>3620</a>\u001b[0m \u001b[39mtry\u001b[39;00m:\n\u001b[0;32m-> <a href='file:///Users/junhopark/tensorflow-test/env/lib/python3.8/site-packages/pandas/core/indexes/base.py?line=3620'>3621</a>\u001b[0m     \u001b[39mreturn\u001b[39;00m \u001b[39mself\u001b[39;49m\u001b[39m.\u001b[39;49m_engine\u001b[39m.\u001b[39;49mget_loc(casted_key)\n\u001b[1;32m   <a href='file:///Users/junhopark/tensorflow-test/env/lib/python3.8/site-packages/pandas/core/indexes/base.py?line=3621'>3622</a>\u001b[0m \u001b[39mexcept\u001b[39;00m \u001b[39mKeyError\u001b[39;00m \u001b[39mas\u001b[39;00m err:\n",
      "File \u001b[0;32m~/tensorflow-test/env/lib/python3.8/site-packages/pandas/_libs/index.pyx:136\u001b[0m, in \u001b[0;36mpandas._libs.index.IndexEngine.get_loc\u001b[0;34m()\u001b[0m\n",
      "File \u001b[0;32m~/tensorflow-test/env/lib/python3.8/site-packages/pandas/_libs/index.pyx:163\u001b[0m, in \u001b[0;36mpandas._libs.index.IndexEngine.get_loc\u001b[0;34m()\u001b[0m\n",
      "File \u001b[0;32mpandas/_libs/hashtable_class_helper.pxi:5198\u001b[0m, in \u001b[0;36mpandas._libs.hashtable.PyObjectHashTable.get_item\u001b[0;34m()\u001b[0m\n",
      "File \u001b[0;32mpandas/_libs/hashtable_class_helper.pxi:5206\u001b[0m, in \u001b[0;36mpandas._libs.hashtable.PyObjectHashTable.get_item\u001b[0;34m()\u001b[0m\n",
      "\u001b[0;31mKeyError\u001b[0m: 'y'",
      "\nThe above exception was the direct cause of the following exception:\n",
      "\u001b[0;31mKeyError\u001b[0m                                  Traceback (most recent call last)",
      "\u001b[1;32m/Users/junhopark/My Drive/Transformer_MPC/03_HybridModel/DEEPxde-PINNs.ipynb Cell 5'\u001b[0m in \u001b[0;36m<cell line: 3>\u001b[0;34m()\u001b[0m\n\u001b[1;32m      <a href='vscode-notebook-cell:/Users/junhopark/My%20Drive/Transformer_MPC/03_HybridModel/DEEPxde-PINNs.ipynb#ch0000004?line=0'>1</a>\u001b[0m t \u001b[39m=\u001b[39m data[\u001b[39m'\u001b[39m\u001b[39m#\u001b[39m\u001b[39m'\u001b[39m]\n\u001b[1;32m      <a href='vscode-notebook-cell:/Users/junhopark/My%20Drive/Transformer_MPC/03_HybridModel/DEEPxde-PINNs.ipynb#ch0000004?line=1'>2</a>\u001b[0m y1 \u001b[39m=\u001b[39m data[\u001b[39m'\u001b[39m\u001b[39mx\u001b[39m\u001b[39m'\u001b[39m]\n\u001b[0;32m----> <a href='vscode-notebook-cell:/Users/junhopark/My%20Drive/Transformer_MPC/03_HybridModel/DEEPxde-PINNs.ipynb#ch0000004?line=2'>3</a>\u001b[0m y2 \u001b[39m=\u001b[39m data[\u001b[39m'\u001b[39;49m\u001b[39my\u001b[39;49m\u001b[39m'\u001b[39;49m]\n",
      "File \u001b[0;32m~/tensorflow-test/env/lib/python3.8/site-packages/pandas/core/frame.py:3505\u001b[0m, in \u001b[0;36mDataFrame.__getitem__\u001b[0;34m(self, key)\u001b[0m\n\u001b[1;32m   <a href='file:///Users/junhopark/tensorflow-test/env/lib/python3.8/site-packages/pandas/core/frame.py?line=3502'>3503</a>\u001b[0m \u001b[39mif\u001b[39;00m \u001b[39mself\u001b[39m\u001b[39m.\u001b[39mcolumns\u001b[39m.\u001b[39mnlevels \u001b[39m>\u001b[39m \u001b[39m1\u001b[39m:\n\u001b[1;32m   <a href='file:///Users/junhopark/tensorflow-test/env/lib/python3.8/site-packages/pandas/core/frame.py?line=3503'>3504</a>\u001b[0m     \u001b[39mreturn\u001b[39;00m \u001b[39mself\u001b[39m\u001b[39m.\u001b[39m_getitem_multilevel(key)\n\u001b[0;32m-> <a href='file:///Users/junhopark/tensorflow-test/env/lib/python3.8/site-packages/pandas/core/frame.py?line=3504'>3505</a>\u001b[0m indexer \u001b[39m=\u001b[39m \u001b[39mself\u001b[39;49m\u001b[39m.\u001b[39;49mcolumns\u001b[39m.\u001b[39;49mget_loc(key)\n\u001b[1;32m   <a href='file:///Users/junhopark/tensorflow-test/env/lib/python3.8/site-packages/pandas/core/frame.py?line=3505'>3506</a>\u001b[0m \u001b[39mif\u001b[39;00m is_integer(indexer):\n\u001b[1;32m   <a href='file:///Users/junhopark/tensorflow-test/env/lib/python3.8/site-packages/pandas/core/frame.py?line=3506'>3507</a>\u001b[0m     indexer \u001b[39m=\u001b[39m [indexer]\n",
      "File \u001b[0;32m~/tensorflow-test/env/lib/python3.8/site-packages/pandas/core/indexes/base.py:3623\u001b[0m, in \u001b[0;36mIndex.get_loc\u001b[0;34m(self, key, method, tolerance)\u001b[0m\n\u001b[1;32m   <a href='file:///Users/junhopark/tensorflow-test/env/lib/python3.8/site-packages/pandas/core/indexes/base.py?line=3620'>3621</a>\u001b[0m     \u001b[39mreturn\u001b[39;00m \u001b[39mself\u001b[39m\u001b[39m.\u001b[39m_engine\u001b[39m.\u001b[39mget_loc(casted_key)\n\u001b[1;32m   <a href='file:///Users/junhopark/tensorflow-test/env/lib/python3.8/site-packages/pandas/core/indexes/base.py?line=3621'>3622</a>\u001b[0m \u001b[39mexcept\u001b[39;00m \u001b[39mKeyError\u001b[39;00m \u001b[39mas\u001b[39;00m err:\n\u001b[0;32m-> <a href='file:///Users/junhopark/tensorflow-test/env/lib/python3.8/site-packages/pandas/core/indexes/base.py?line=3622'>3623</a>\u001b[0m     \u001b[39mraise\u001b[39;00m \u001b[39mKeyError\u001b[39;00m(key) \u001b[39mfrom\u001b[39;00m \u001b[39merr\u001b[39;00m\n\u001b[1;32m   <a href='file:///Users/junhopark/tensorflow-test/env/lib/python3.8/site-packages/pandas/core/indexes/base.py?line=3623'>3624</a>\u001b[0m \u001b[39mexcept\u001b[39;00m \u001b[39mTypeError\u001b[39;00m:\n\u001b[1;32m   <a href='file:///Users/junhopark/tensorflow-test/env/lib/python3.8/site-packages/pandas/core/indexes/base.py?line=3624'>3625</a>\u001b[0m     \u001b[39m# If we have a listlike key, _check_indexing_error will raise\u001b[39;00m\n\u001b[1;32m   <a href='file:///Users/junhopark/tensorflow-test/env/lib/python3.8/site-packages/pandas/core/indexes/base.py?line=3625'>3626</a>\u001b[0m     \u001b[39m#  InvalidIndexError. Otherwise we fall through and re-raise\u001b[39;00m\n\u001b[1;32m   <a href='file:///Users/junhopark/tensorflow-test/env/lib/python3.8/site-packages/pandas/core/indexes/base.py?line=3626'>3627</a>\u001b[0m     \u001b[39m#  the TypeError.\u001b[39;00m\n\u001b[1;32m   <a href='file:///Users/junhopark/tensorflow-test/env/lib/python3.8/site-packages/pandas/core/indexes/base.py?line=3627'>3628</a>\u001b[0m     \u001b[39mself\u001b[39m\u001b[39m.\u001b[39m_check_indexing_error(key)\n",
      "\u001b[0;31mKeyError\u001b[0m: 'y'"
     ]
    }
   ],
   "source": [
    "t = data['#']\n",
    "y1 = data['x']\n",
    "y2 = data['y']"
   ]
  },
  {
   "cell_type": "code",
   "execution_count": 66,
   "metadata": {},
   "outputs": [],
   "source": [
    "t = np.array(t).reshape(39,-1)"
   ]
  },
  {
   "cell_type": "code",
   "execution_count": 69,
   "metadata": {},
   "outputs": [],
   "source": [
    "y1 = np.array(y1).reshape(39,-1)"
   ]
  },
  {
   "cell_type": "code",
   "execution_count": 70,
   "metadata": {},
   "outputs": [],
   "source": [
    "y2 = np.array(y2).reshape(39,-1)"
   ]
  },
  {
   "cell_type": "code",
   "execution_count": 72,
   "metadata": {},
   "outputs": [],
   "source": [
    "ob_y1 = dde.PointSetBC(t, y1, component=0)\n",
    "ob_y2 = dde.PointSetBC(t, y2, component=1)"
   ]
  },
  {
   "cell_type": "code",
   "execution_count": 86,
   "metadata": {},
   "outputs": [
    {
     "data": {
      "text/plain": [
       "<deepxde.icbcs.boundary_conditions.PointSetBC at 0x24047673fa0>"
      ]
     },
     "execution_count": 86,
     "metadata": {},
     "output_type": "execute_result"
    }
   ],
   "source": [
    "ob_y2"
   ]
  },
  {
   "cell_type": "code",
   "execution_count": 92,
   "metadata": {},
   "outputs": [
    {
     "name": "stdout",
     "output_type": "stream",
     "text": [
      "Compiling model...\n",
      "Building feed-forward neural network...\n",
      "'build' took 0.073309 s\n",
      "\n",
      "'compile' took 0.665346 s\n",
      "\n",
      "Initializing variables...\n",
      "Training model...\n",
      "\n",
      "Step      Train loss                                                      Test loss                                                       Test metric   \n",
      "0         [4.61e-02, 3.27e-01, 0.00e+00, 1.00e+00, 5.63e-01, 6.66e-01]    [4.61e-02, 3.27e-01, 0.00e+00, 1.00e+00, 5.63e-01, 6.66e-01]    [1.00e+00]    \n",
      "1000      [1.53e-02, 5.18e-03, 3.22e-07, 4.19e-06, 4.82e-03, 3.74e-03]    [1.53e-02, 5.18e-03, 3.22e-07, 4.19e-06, 4.82e-03, 3.74e-03]    [5.10e-01]    \n",
      "2000      [2.80e-03, 3.09e-03, 1.75e-07, 3.13e-07, 1.86e-04, 2.78e-04]    [2.80e-03, 3.09e-03, 1.75e-07, 3.13e-07, 1.86e-04, 2.78e-04]    [5.10e-01]    \n",
      "3000      [1.65e-03, 1.08e-03, 6.78e-09, 1.37e-08, 2.10e-05, 5.55e-05]    [1.65e-03, 1.08e-03, 6.78e-09, 1.37e-08, 2.10e-05, 5.55e-05]    [5.24e-01]    \n",
      "4000      [1.16e-03, 5.11e-04, 1.56e-07, 3.44e-07, 1.27e-05, 2.09e-05]    [1.16e-03, 5.11e-04, 1.56e-07, 3.44e-07, 1.27e-05, 2.09e-05]    [5.24e-01]    \n",
      "5000      [6.93e-04, 2.71e-04, 2.14e-06, 3.03e-06, 8.66e-05, 7.82e-05]    [6.93e-04, 2.71e-04, 2.14e-06, 3.03e-06, 8.66e-05, 7.82e-05]    [5.24e-01]    \n",
      "6000      [1.60e-04, 1.34e-04, 1.04e-07, 8.94e-08, 2.80e-06, 2.32e-06]    [1.60e-04, 1.34e-04, 1.04e-07, 8.94e-08, 2.80e-06, 2.32e-06]    [5.24e-01]    \n",
      "7000      [5.66e-05, 9.00e-05, 4.19e-08, 7.80e-08, 1.59e-06, 8.93e-07]    [5.66e-05, 9.00e-05, 4.19e-08, 7.80e-08, 1.59e-06, 8.93e-07]    [5.24e-01]    \n",
      "8000      [2.15e-05, 3.90e-05, 2.50e-08, 5.90e-08, 9.04e-07, 4.94e-07]    [2.15e-05, 3.90e-05, 2.50e-08, 5.90e-08, 9.04e-07, 4.94e-07]    [5.24e-01]    \n",
      "9000      [9.82e-06, 1.47e-05, 1.08e-07, 1.70e-09, 9.36e-06, 3.36e-06]    [9.82e-06, 1.47e-05, 1.08e-07, 1.70e-09, 9.36e-06, 3.36e-06]    [5.24e-01]    \n",
      "10000     [3.25e-04, 1.11e-04, 1.71e-05, 1.30e-05, 1.39e-04, 2.66e-04]    [3.25e-04, 1.11e-04, 1.71e-05, 1.30e-05, 1.39e-04, 2.66e-04]    [5.24e-01]    \n",
      "11000     [1.15e-05, 4.22e-06, 3.40e-07, 2.62e-07, 4.65e-06, 6.02e-06]    [1.15e-05, 4.22e-06, 3.40e-07, 2.62e-07, 4.65e-06, 6.02e-06]    [5.24e-01]    \n",
      "12000     [5.71e-06, 6.08e-06, 1.79e-07, 1.89e-09, 5.69e-06, 3.31e-06]    [5.71e-06, 6.08e-06, 1.79e-07, 1.89e-09, 5.69e-06, 3.31e-06]    [5.24e-01]    \n",
      "13000     [1.24e-05, 1.67e-05, 6.36e-07, 1.77e-08, 1.65e-05, 1.23e-05]    [1.24e-05, 1.67e-05, 6.36e-07, 1.77e-08, 1.65e-05, 1.23e-05]    [5.24e-01]    \n",
      "14000     [5.09e-06, 1.74e-06, 1.19e-07, 1.10e-07, 1.91e-06, 1.59e-06]    [5.09e-06, 1.74e-06, 1.19e-07, 1.10e-07, 1.91e-06, 1.59e-06]    [5.24e-01]    \n",
      "15000     [2.52e-06, 9.36e-07, 2.33e-08, 5.02e-10, 5.49e-07, 4.88e-07]    [2.52e-06, 9.36e-07, 2.33e-08, 5.02e-10, 5.49e-07, 4.88e-07]    [5.24e-01]    \n",
      "16000     [2.66e-06, 1.20e-06, 2.01e-08, 8.74e-10, 7.05e-07, 3.43e-07]    [2.66e-06, 1.20e-06, 2.01e-08, 8.74e-10, 7.05e-07, 3.43e-07]    [5.24e-01]    \n",
      "17000     [2.60e-05, 3.40e-05, 5.87e-07, 2.13e-07, 6.44e-05, 5.77e-05]    [2.60e-05, 3.40e-05, 5.87e-07, 2.13e-07, 6.44e-05, 5.77e-05]    [5.24e-01]    \n",
      "18000     [1.51e-06, 6.71e-07, 7.35e-09, 3.24e-09, 1.55e-07, 5.87e-08]    [1.51e-06, 6.71e-07, 7.35e-09, 3.24e-09, 1.55e-07, 5.87e-08]    [5.24e-01]    \n",
      "19000     [1.34e-06, 7.89e-07, 4.86e-10, 3.37e-09, 2.41e-07, 6.06e-08]    [1.34e-06, 7.89e-07, 4.86e-10, 3.37e-09, 2.41e-07, 6.06e-08]    [5.24e-01]    \n",
      "20000     [1.64e-06, 3.56e-06, 6.35e-09, 1.70e-07, 3.25e-06, 2.83e-07]    [1.64e-06, 3.56e-06, 6.35e-09, 1.70e-07, 3.25e-06, 2.83e-07]    [5.24e-01]    \n",
      "\n",
      "Best model at step 18000:\n",
      "  train loss: 2.41e-06\n",
      "  test loss: 2.41e-06\n",
      "  test metric: [5.24e-01]\n",
      "\n",
      "'train' took 19.296981 s\n",
      "\n",
      "Saving loss history to C:\\Users\\samuel.arce\\Desktop\\ml_projects\\trans\\loss.dat ...\n",
      "Saving training data to C:\\Users\\samuel.arce\\Desktop\\ml_projects\\trans\\train.dat ...\n",
      "Saving test data to C:\\Users\\samuel.arce\\Desktop\\ml_projects\\trans\\test.dat ...\n"
     ]
    },
    {
     "data": {
      "image/png": "[encoded data removed]",
      "text/plain": [
       "<Figure size 432x288 with 1 Axes>"
      ]
     },
     "metadata": {
      "needs_background": "light"
     },
     "output_type": "display_data"
    },
    {
     "data": {
      "image/png": "[encoded data removed]",
      "text/plain": [
       "<Figure size 432x288 with 1 Axes>"
      ]
     },
     "metadata": {
      "needs_background": "light"
     },
     "output_type": "display_data"
    }
   ],
   "source": [
    "\"\"\"Backend supported: tensorflow.compat.v1, tensorflow, pytorch\"\"\"\n",
    "import deepxde as dde\n",
    "import numpy as np\n",
    "\n",
    "\n",
    "def ode_system(x, y):\n",
    "    \"\"\"ODE system.\n",
    "    dy1/dx = y2\n",
    "    dy2/dx = -y1\n",
    "    \"\"\"\n",
    "    y1, y2 = y[:, 0:1], y[:, 1:]\n",
    "    dy1_x = dde.grad.jacobian(y, x, i=0)\n",
    "    dy2_x = dde.grad.jacobian(y, x, i=1)\n",
    "    return [dy1_x - y2, dy2_x + y1]\n",
    "\n",
    "\n",
    "def boundary(_, on_initial):\n",
    "    return on_initial\n",
    "\n",
    "\n",
    "# def func(x):\n",
    "#     \"\"\"\n",
    "#     y1 = sin(x)\n",
    "#     y2 = cos(x)\n",
    "#     \"\"\"\n",
    "#     return np.hstack((np.sin(x), np.cos(x)))\n",
    "\n",
    "\n",
    "geom = dde.geometry.TimeDomain(0, 15)\n",
    "ic1 = dde.IC(geom, np.sin, boundary, component=0)\n",
    "ic2 = dde.IC(geom, np.cos, boundary, component=1)\n",
    "data = dde.data.PDE(geom, ode_system, [ic1, ic2, ob_y1, ob_y2], 20, 2, anchors = t)\n",
    "\n",
    "layer_size = [1] + [50] * 3 + [2]\n",
    "activation = \"tanh\"\n",
    "initializer = \"Glorot uniform\"\n",
    "net = dde.maps.FNN(layer_size, activation, initializer)\n",
    "\n",
    "model = dde.Model(data, net)\n",
    "model.compile(\"adam\", lr=0.001, metrics=[\"accuracy\"])\n",
    "losshistory, train_state = model.train(epochs=20000)\n",
    "\n",
    "dde.saveplot(losshistory, train_state, issave=True, isplot=True)"
   ]
  },
  {
   "cell_type": "code",
   "execution_count": null,
   "metadata": {},
   "outputs": [],
   "source": []
  }
 ],
 "metadata": {
  "kernelspec": {
   "display_name": "Python 3",
   "language": "python",
   "name": "python3"
  },
  "language_info": {
   "codemirror_mode": {
    "name": "ipython",
    "version": 3
   },
   "file_extension": ".py",
   "mimetype": "text/x-python",
   "name": "python",
   "nbconvert_exporter": "python",
   "pygments_lexer": "ipython3",
   "version": "3.8.3"
  }
 },
 "nbformat": 4,
 "nbformat_minor": 5
}
