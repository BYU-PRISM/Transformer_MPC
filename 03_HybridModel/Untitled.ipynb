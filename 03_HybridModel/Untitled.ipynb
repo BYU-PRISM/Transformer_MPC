{
 "cells": [
  {
   "cell_type": "code",
   "execution_count": null,
   "id": "745f1c8f",
   "metadata": {},
   "outputs": [],
   "source": [
    "def residual_function(self, u, y_nn):\n",
    "    \"\"\"Residual of the ODE\"\"\"\n",
    "    y = (y_nn - self.s2.min_) * 1/self.s2.scale_ + self.s2.data_min_ \n",
    "    y = y+273.15\n",
    "\n",
    "    y_t = (y[1:]-y[:-1]) / self.dt\n",
    "    yn = y[0:-1]\n",
    "    un = u[0:-1]\n",
    "\n",
    "    Ta = 23.0+273.15     # K\n",
    "    mass = 4.0/1000.0    # kg\n",
    "    Cp = 0.5*1000.0      # J/kg-K    \n",
    "    A = 10.0/100.0**2    # Area not between heaters in m^2\n",
    "    As = 2.0/100.0**2    # Area between heaters in m^2\n",
    "    eps = 0.9            # Emissivity\n",
    "    sigma = 5.67e-8      # Stefan-Boltzmann\n",
    "#         U     = self.model.U\n",
    "#         alpha1= self.model.alpha1\n",
    "#         alpha2= self.model.alpha2\n",
    "    U     = 5.9202083375\n",
    "    alpha1= 0.01034300659\n",
    "    alpha2= 0.0062387654267\n",
    "\n",
    "\n",
    "    # Heat transfer between two heaters\n",
    "    Q_C12 = U*As*(yn[:,:,1]-yn[:,:,0]) # Convective\n",
    "    Q_R12 = eps*sigma*As*(yn[:,:,1]**4-yn[:,:,0]**4) # Radiative \n",
    "\n",
    "    res1 = y_t[:,:,0] - (1.0/(mass*Cp))*(U*A*(Ta-yn[:,:,0]) \\\n",
    "                + eps * sigma * A * (Ta**4 - yn[:,:,0]**4) \\\n",
    "                + Q_C12 + Q_R12 \\\n",
    "                + alpha1*un[:,:,0])\n",
    "\n",
    "    res2 = y_t[:,:,1] - (1.0/(mass*Cp))*(U*A*(Ta-yn[:,:,1]) \\\n",
    "                + eps * sigma * A * (Ta**4 - yn[:,:,1]**4) \\\n",
    "                - Q_C12 - Q_R12 \\\n",
    "                + alpha2*un[:,:,1])\n",
    "\n",
    "#         res1 = self.tau11 * y_t[:,:,0] + yn[:,:,0] - self.K11 * un[:,:,0]\n",
    "#         res2 = self.tau22 * y_t[:,:,1] + yn[:,:,1] - self.K22 * un[:,:,1]\n",
    "\n",
    "    return 1e2*res1, 1e2*res2"
   ]
  },
  {
   "cell_type": "code",
   "execution_count": null,
   "id": "150e1db8",
   "metadata": {},
   "outputs": [],
   "source": []
  }
 ],
 "metadata": {
  "kernelspec": {
   "display_name": "Python 3 (ipykernel)",
   "language": "python",
   "name": "python3"
  },
  "language_info": {
   "codemirror_mode": {
    "name": "ipython",
    "version": 3
   },
   "file_extension": ".py",
   "mimetype": "text/x-python",
   "name": "python",
   "nbconvert_exporter": "python",
   "pygments_lexer": "ipython3",
   "version": "3.8.13"
  }
 },
 "nbformat": 4,
 "nbformat_minor": 5
}
