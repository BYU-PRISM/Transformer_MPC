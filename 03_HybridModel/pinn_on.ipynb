{
 "cells": [
  {
   "cell_type": "code",
   "execution_count": 1,
   "id": "1478b277",
   "metadata": {},
   "outputs": [],
   "source": [
    "from PINN.pinn_solver import PINNSolver\n",
    "import tensorflow as tf\n",
    "\n",
    "import numpy as np\n",
    "import matplotlib.pyplot as plt\n",
    "\n",
    "from pickle import dump, load\n",
    "from sklearn.preprocessing import MinMaxScaler\n",
    "import time\n",
    "import pandas as pd\n",
    "\n",
    "\n",
    "# For LSTM model\n",
    "import tensorflow as tf\n",
    "from keras.models import Sequential\n",
    "from keras.layers import Dense\n",
    "from keras.layers import LSTM\n",
    "from keras.layers import Dropout\n",
    "from keras.callbacks import EarlyStopping\n",
    "from keras.models import load_model\n",
    "from tqdm.keras import TqdmCallback\n",
    "\n",
    "\n",
    "DTYPE = 'float32'\n",
    "tf.random.set_seed(12345)\n",
    "np.random.seed(12345)\n",
    "\n",
    "\n",
    "class SPINN(PINNSolver):\n",
    "    def __init__(self, x_r, u_r, s1, s2, *args, **kwargs):\n",
    "        super().__init__(*args, **kwargs)\n",
    "\n",
    "        # Store Model Variables\n",
    "        self.K = 1.0\n",
    "        self.tau = 2.0\n",
    "        # Store Model Constants\n",
    "\n",
    "        # Store collocation points\n",
    "        self.x_r = x_r\n",
    "        self.u = u_r\n",
    "        self.s1 = s1\n",
    "        self.s2 = s2\n",
    "        self.dt = 1\n",
    "        \n",
    "    @tf.function\n",
    "    def get_residual_loss(self):\n",
    "    #     with tf.GradientTape(persistent=True) as tape:\n",
    "    #         # Watch variables representing t and x during this GradientTape\n",
    "    #         # tape.watch(self.t)\n",
    "\n",
    "    #         # Compute current values y(t,x)\n",
    "        y = self.model(self.x_r)\n",
    "            \n",
    "    #         # y_t = tape.gradient(y, self.t)\n",
    "    #     # y_tt = tape.gradient(y_t, self.t)\n",
    "\n",
    "    #     del tape\n",
    "\n",
    "        return self.residual_function(self.u, y)\n",
    "\n",
    "    def residual_function(self, u, y_nn):\n",
    "        \"\"\"Residual of the ODE\"\"\"\n",
    "        # y = self.s2.inverse_transform(y_nn)\n",
    "        y = (y_nn+1)/2 * (self.s2.data_max_ - self.s2.data_min_)+self.s2.data_min_\n",
    "\n",
    "        # res = y_tt + self.mu*y_t + self.k*y\n",
    "        # y = self.model(self.Xs[:])\n",
    "        y_t = (y[1:]-y[:-1]) / self.dt\n",
    "        yn = y[0:-1]\n",
    "        un = u[0:-1]\n",
    "        res = self.tau * y_t + yn - self.K * un\n",
    "        # res[0] -= qh\n",
    "        # return y_t/3000.0*100.0 - self.model.alpha * y_xx/(0.1-0.001)**2*100 + self.model.beta * (y*100+20 - self.Ts)\n",
    "        return 1*res\n",
    "\n",
    "    def callback(self, *args):\n",
    "        if self.iter % 10 == 0:\n",
    "            print('It {:05d}: loss = {:10.8e}'.format(self.iter, self.current_loss)\n",
    "                  )\n",
    "        self.hist.append(self.current_loss)\n",
    "        self.iter += 1\n"
   ]
  },
  {
   "cell_type": "code",
   "execution_count": 2,
   "id": "29732940",
   "metadata": {},
   "outputs": [
    {
     "name": "stdout",
     "output_type": "stream",
     "text": [
      "Training: 80 , Validation: 1520\n"
     ]
    },
    {
     "name": "stderr",
     "output_type": "stream",
     "text": [
      "/var/folders/cp/p82kw9zd4psdb4vl1wp3x09m0000gn/T/ipykernel_38839/3387882830.py:37: DeprecationWarning: `np.int` is a deprecated alias for the builtin `int`. To silence this warning, use `int` by itself. Doing this will not modify any behavior and is safe. When replacing `np.int`, you may wish to use e.g. `np.int64` or `np.int32` to specify the precision. If you wish to review your current use, check the release note link for additional information.\n",
      "Deprecated in NumPy 1.20; for more details and guidance: https://numpy.org/devdocs/release/1.20.0-notes.html#deprecations\n",
      "  cut_index = np.int(nstep*val_ratio) # index number to separate the training and validation set\n"
     ]
    }
   ],
   "source": [
    "# Load Data\n",
    "data1 = pd.read_pickle('open_loop_data_SISO-test.pkl')\n",
    "# data = data[0:100]\n",
    "\n",
    "window = 5\n",
    "\n",
    "# Scale features\n",
    "s1 = MinMaxScaler(feature_range=(-1,1))\n",
    "s1.data_max_ = np.array([2,2])\n",
    "s1.data_min_ = np.array([0,0])\n",
    "s1.min_ = np.array([-1,-1])\n",
    "s1.max_ = np.array([1,1])\n",
    "s1.data_range_ = np.array([2,2])\n",
    "s1.scale_ = np.array([1,1])\n",
    "Xs = s1.transform(data1[['u','y']].to_numpy())\n",
    "\n",
    "\n",
    "s2 = MinMaxScaler(feature_range=(-1,1))\n",
    "s2.data_max_ = np.array([2])\n",
    "s2.data_min_ = np.array([0])\n",
    "s2.data_range_ = np.array([2])\n",
    "s2.min_ = np.array([-1])\n",
    "s2.max_ = np.array([1])\n",
    "s2.scale_ = np.array([1])\n",
    "Ys = s2.transform(data1[['y']].to_numpy())\n",
    "\n",
    "# Save model parameters\n",
    "model_params = dict()\n",
    "model_params['Xscale'] = s1\n",
    "model_params['yscale'] = s2\n",
    "model_params['window'] = window\n",
    "\n",
    "dump(model_params, open('model_param.pkl', 'wb'))\n",
    "\n",
    "nstep = Xs.shape[0]\n",
    "val_ratio = 0.05\n",
    "cut_index = np.int(nstep*val_ratio) # index number to separate the training and validation set\n",
    "print(\"Training:\",cut_index, \", Validation:\", nstep-cut_index)\n",
    "Xs_train = Xs[0:cut_index]\n",
    "Ys_train = Ys[0:cut_index]\n",
    "Xs_val = Xs[cut_index:]\n",
    "Ys_val = Ys[cut_index:]\n",
    "\n",
    "X_train = []\n",
    "Y_train = []\n",
    "for i in range(window,len(Xs_train)):\n",
    "    X_train.append(Xs_train[i-window:i,:])\n",
    "    Y_train.append(Ys_train[i])\n",
    "\n",
    "X_val = []\n",
    "Y_val = []\n",
    "for i in range(window,len(Xs_val)):\n",
    "    X_val.append(Xs_val[i-window:i,:])\n",
    "    Y_val.append(Ys_val[i])\n",
    "\n",
    "# Reshape data to format accepted by LSTM\n",
    "X_train, Y_train = np.array(X_train), np.array(Y_train)\n",
    "X_val, Y_val = np.array(X_val), np.array(Y_val)\n"
   ]
  },
  {
   "cell_type": "code",
   "execution_count": 3,
   "id": "c112f35b",
   "metadata": {},
   "outputs": [
    {
     "name": "stderr",
     "output_type": "stream",
     "text": [
      "2022-05-24 11:12:55.745322: I tensorflow/core/common_runtime/pluggable_device/pluggable_device_factory.cc:305] Could not identify NUMA node of platform GPU ID 0, defaulting to 0. Your kernel may not have been built with NUMA support.\n",
      "2022-05-24 11:12:55.745436: I tensorflow/core/common_runtime/pluggable_device/pluggable_device_factory.cc:271] Created TensorFlow device (/job:localhost/replica:0/task:0/device:GPU:0 with 0 MB memory) -> physical PluggableDevice (device: 0, name: METAL, pci bus id: <undefined>)\n"
     ]
    },
    {
     "name": "stdout",
     "output_type": "stream",
     "text": [
      "Metal device set to: Apple M1 Pro\n"
     ]
    }
   ],
   "source": [
    "# # Initialize LSTM model\n",
    "model_lstm = Sequential()\n",
    "\n",
    "model_lstm.add(LSTM(units=100, return_sequences=True, \\\n",
    "          input_shape=(X_train.shape[1],X_train.shape[2])))\n",
    "model_lstm.add(Dropout(0.2))\n",
    "model_lstm.add(LSTM(units=100, return_sequences=True))\n",
    "model_lstm.add(Dropout(0.2))\n",
    "model_lstm.add(LSTM(units=100))\n",
    "model_lstm.add(Dropout(0.2))\n",
    "model_lstm.add(Dense(units=Y_train.shape[1])) #units = number of outputs\n",
    "# model_lstm.compile(optimizer = 'adam', loss = 'mean_squared_error',\\\n",
    "            #   metrics = ['accuracy'])\n",
    "# Allow for early exit\n",
    "es_lstm = EarlyStopping(monitor='loss',mode='min',verbose=1,patience=10)\n",
    "\n",
    "# # Fit (and time) LSTM model\n",
    "# t0 = time.time()\n",
    "# result_lstm = model_lstm.fit(X_train, Y_train, epochs = 300, batch_size = 250,\\\n",
    "#                              callbacks=[es_lstm, TqdmCallback(verbose=1)],\\\n",
    "#                              verbose=0, validation_data=(X_val, Y_val))\n",
    "# t1 = time.time()\n",
    "# print('Runtime: %.2f s' %(t1-t0))\n",
    "\n",
    "\n",
    "# layers = [1, 32, 32, 32, 1]\n",
    "\n",
    "# # Input Layer\n",
    "# model.add(tf.keras.layers.InputLayer(input_shape=(layers[0])))\n",
    "\n",
    "# # Hidden Layers\n",
    "# for n_i in range(1, len(layers) - 1):\n",
    "#     model.add(tf.keras.layers.Dense(units=layers[n_i],\n",
    "#                                     activation='tanh',\n",
    "#                                     kernel_initializer='glorot_normal')\n",
    "#               )\n",
    "\n",
    "# model.add(tf.keras.layers.Dense(units=layers[-1], kernel_initializer='glorot_normal')\n",
    "#           )\n",
    "\n",
    "\n",
    "# x_physics = x[::5][:, None]\n",
    "# y_physics = y[::5][:, None]\n",
    "# x_physics = tf.convert_to_tensor(x_physics.numpy(), dtype=DTYPE)\n",
    "# y_physics = tf.convert_to_tensor(y_physics.numpy(), dtype=DTYPE)\n",
    "\n",
    "# x_physics = data[\"u\"]\n",
    "# y_physics = data[\"y\"]\n",
    "# x_physics = tf.convert_to_tensor(x_physics.numpy(), dtype=DTYPE)\n",
    "# y_physics = tf.convert_to_tensor(y_physics.numpy(), dtype=DTYPE)\n",
    "\n",
    "u_r = data1[\"u\"].to_numpy()[window:Xs_train.shape[0],None]\n",
    "u_r = tf.convert_to_tensor(u_r, DTYPE)\n",
    "\n",
    "\n",
    "solver = SPINN(model=model_lstm, x_r=X_train,u_r=u_r, s1=s1, s2=s2, is_pinn=True)\n",
    "\n",
    "# # Choose step sizes aka learning rate\n",
    "# lr = tf.keras.optimizers.schedules.PiecewiseConstantDecay([1000, 5000], [1e-3, 1e-4, 1e-5])\n",
    "\n",
    "# Solve with Adam optimizer\n",
    "optim = tf.keras.optimizers.Adam()\n",
    "\n",
    "X_train = tf.convert_to_tensor(X_train, DTYPE)\n",
    "Y_train = tf.convert_to_tensor(Y_train, DTYPE)\n",
    "\n"
   ]
  },
  {
   "cell_type": "code",
   "execution_count": 4,
   "id": "afbbd2b2",
   "metadata": {},
   "outputs": [
    {
     "name": "stderr",
     "output_type": "stream",
     "text": [
      "2022-05-24 11:13:02.386405: W tensorflow/core/platform/profile_utils/cpu_utils.cc:128] Failed to get CPU frequency: 0 Hz\n",
      "2022-05-24 11:13:02.400462: I tensorflow/core/grappler/optimizers/custom_graph_optimizer_registry.cc:113] Plugin optimizer for device_type GPU is enabled.\n",
      "2022-05-24 11:13:02.939168: I tensorflow/core/grappler/optimizers/custom_graph_optimizer_registry.cc:113] Plugin optimizer for device_type GPU is enabled.\n",
      "2022-05-24 11:13:02.998530: I tensorflow/core/grappler/optimizers/custom_graph_optimizer_registry.cc:113] Plugin optimizer for device_type GPU is enabled.\n",
      "2022-05-24 11:13:03.048948: I tensorflow/core/grappler/optimizers/custom_graph_optimizer_registry.cc:113] Plugin optimizer for device_type GPU is enabled.\n",
      "2022-05-24 11:13:03.145311: I tensorflow/core/grappler/optimizers/custom_graph_optimizer_registry.cc:113] Plugin optimizer for device_type GPU is enabled.\n",
      "2022-05-24 11:13:03.289811: I tensorflow/core/grappler/optimizers/custom_graph_optimizer_registry.cc:113] Plugin optimizer for device_type GPU is enabled.\n",
      "2022-05-24 11:13:03.415169: I tensorflow/core/grappler/optimizers/custom_graph_optimizer_registry.cc:113] Plugin optimizer for device_type GPU is enabled.\n"
     ]
    },
    {
     "name": "stdout",
     "output_type": "stream",
     "text": [
      "It 00000: loss = 3.88896227e-01\n",
      "It 00010: loss = 8.60538408e-02\n",
      "It 00020: loss = 4.71424460e-02\n",
      "It 00030: loss = 3.35490592e-02\n",
      "It 00040: loss = 2.82256100e-02\n",
      "It 00050: loss = 2.51769926e-02\n",
      "It 00060: loss = 2.29989477e-02\n",
      "It 00070: loss = 2.14366149e-02\n",
      "It 00080: loss = 2.01670900e-02\n",
      "It 00090: loss = 1.86444242e-02\n",
      "It 00100: loss = 1.69589445e-02\n",
      "It 00110: loss = 1.51826078e-02\n",
      "It 00120: loss = 1.34222563e-02\n",
      "It 00130: loss = 1.15052750e-02\n",
      "It 00140: loss = 9.27509181e-03\n",
      "It 00150: loss = 6.85712881e-03\n",
      "It 00160: loss = 4.70619416e-03\n",
      "It 00170: loss = 3.19567486e-03\n",
      "It 00180: loss = 2.18396098e-03\n",
      "It 00190: loss = 1.68259884e-03\n",
      "It 00200: loss = 1.49491034e-03\n",
      "It 00210: loss = 1.26818568e-03\n",
      "It 00220: loss = 9.82202240e-04\n",
      "It 00230: loss = 7.28033716e-04\n",
      "It 00240: loss = 5.15089254e-04\n",
      "It 00250: loss = 3.53685202e-04\n",
      "It 00260: loss = 4.93309577e-04\n",
      "It 00270: loss = 3.24696972e-04\n",
      "It 00280: loss = 1.60821539e-04\n",
      "It 00290: loss = 1.24573940e-04\n"
     ]
    },
    {
     "name": "stderr",
     "output_type": "stream",
     "text": [
      "2022-05-24 11:13:41.207071: I tensorflow/core/grappler/optimizers/custom_graph_optimizer_registry.cc:113] Plugin optimizer for device_type GPU is enabled.\n",
      "2022-05-24 11:13:41.602532: I tensorflow/core/grappler/optimizers/custom_graph_optimizer_registry.cc:113] Plugin optimizer for device_type GPU is enabled.\n",
      "2022-05-24 11:13:41.651850: I tensorflow/core/grappler/optimizers/custom_graph_optimizer_registry.cc:113] Plugin optimizer for device_type GPU is enabled.\n",
      "2022-05-24 11:13:41.701466: I tensorflow/core/grappler/optimizers/custom_graph_optimizer_registry.cc:113] Plugin optimizer for device_type GPU is enabled.\n",
      "2022-05-24 11:13:41.811205: I tensorflow/core/grappler/optimizers/custom_graph_optimizer_registry.cc:113] Plugin optimizer for device_type GPU is enabled.\n",
      "2022-05-24 11:13:42.279536: I tensorflow/core/grappler/optimizers/custom_graph_optimizer_registry.cc:113] Plugin optimizer for device_type GPU is enabled.\n",
      "2022-05-24 11:13:42.380960: I tensorflow/core/grappler/optimizers/custom_graph_optimizer_registry.cc:113] Plugin optimizer for device_type GPU is enabled.\n",
      "2022-05-24 11:13:42.483640: I tensorflow/core/grappler/optimizers/custom_graph_optimizer_registry.cc:113] Plugin optimizer for device_type GPU is enabled.\n"
     ]
    },
    {
     "name": "stdout",
     "output_type": "stream",
     "text": [
      "It 00300: loss = 1.07908549e-04\n"
     ]
    },
    {
     "data": {
      "text/plain": [
       "      fun: 9.36168507905677e-05\n",
       " hess_inv: <202101x202101 LbfgsInvHessProduct with dtype=float64>\n",
       "      jac: array([ 6.49909498e-06,  8.58991143e-07,  2.33125348e-07, ...,\n",
       "        6.14741293e-05, -4.42256569e-05, -1.85896037e-03])\n",
       "  message: 'STOP: TOTAL NO. of ITERATIONS REACHED LIMIT'\n",
       "     nfev: 8\n",
       "      nit: 5\n",
       "     njev: 8\n",
       "   status: 1\n",
       "  success: False\n",
       "        x: array([ 0.07444053, -0.12385426,  0.0201271 , ...,  0.24355001,\n",
       "        0.06722986, -0.00869915])"
      ]
     },
     "execution_count": 4,
     "metadata": {},
     "output_type": "execute_result"
    }
   ],
   "source": [
    "# PINN Off\n",
    "\n",
    "# solver.solve_with_tf_optimizer(optim, X_train, Y_train, n_step=300)M\n",
    "solver.is_pinn = True\n",
    "solver.solve_with_tf_optimizer(optim, X_train, Y_train, n_step=300)\n",
    "\n",
    "solver.solve_with_scipy_optimizer(X_train, Y_train, method='L-BFGS-B')\n",
    "#solver.solve_with_scipy_optimizer(x_physics, y_physics, method='SLSQP')"
   ]
  },
  {
   "cell_type": "code",
   "execution_count": 5,
   "id": "71bf13d9",
   "metadata": {},
   "outputs": [
    {
     "data": {
      "text/plain": [
       "<tf.Tensor: shape=(), dtype=float32, numpy=9.361685e-05>"
      ]
     },
     "execution_count": 5,
     "metadata": {},
     "output_type": "execute_result"
    }
   ],
   "source": [
    "solver.loss2"
   ]
  },
  {
   "cell_type": "code",
   "execution_count": 6,
   "id": "33cbfb4a",
   "metadata": {},
   "outputs": [
    {
     "data": {
      "text/plain": [
       "[0.38889623,\n",
       " 0.34265,\n",
       " 0.29634863,\n",
       " 0.24752991,\n",
       " 0.1953539,\n",
       " 0.14084099,\n",
       " 0.08778058,\n",
       " 0.044678695,\n",
       " 0.027492022,\n",
       " 0.05314748,\n",
       " 0.08605384,\n",
       " 0.08442009,\n",
       " 0.062312,\n",
       " 0.040713485,\n",
       " 0.029278051,\n",
       " 0.027959002,\n",
       " 0.032630447,\n",
       " 0.039047718,\n",
       " 0.04435078,\n",
       " 0.047151215,\n",
       " 0.047142446,\n",
       " 0.04469879,\n",
       " 0.040595643,\n",
       " 0.035827268,\n",
       " 0.031456333,\n",
       " 0.028434364,\n",
       " 0.02736443,\n",
       " 0.028249042,\n",
       " 0.030372975,\n",
       " 0.032520346,\n",
       " 0.03354906,\n",
       " 0.032986816,\n",
       " 0.031198287,\n",
       " 0.029038062,\n",
       " 0.027321493,\n",
       " 0.02647546,\n",
       " 0.026484221,\n",
       " 0.02703508,\n",
       " 0.027717704,\n",
       " 0.028182114,\n",
       " 0.02822561,\n",
       " 0.027816521,\n",
       " 0.027072597,\n",
       " 0.026208472,\n",
       " 0.02546242,\n",
       " 0.02501504,\n",
       " 0.02492122,\n",
       " 0.025085622,\n",
       " 0.025305515,\n",
       " 0.025371943,\n",
       " 0.025176993,\n",
       " 0.024760582,\n",
       " 0.02426966,\n",
       " 0.023864444,\n",
       " 0.02363536,\n",
       " 0.023573196,\n",
       " 0.023594033,\n",
       " 0.023592757,\n",
       " 0.023494314,\n",
       " 0.023282448,\n",
       " 0.022998948,\n",
       " 0.02271745,\n",
       " 0.022504205,\n",
       " 0.022383627,\n",
       " 0.022326946,\n",
       " 0.022271981,\n",
       " 0.022163626,\n",
       " 0.021988112,\n",
       " 0.021777349,\n",
       " 0.021582177,\n",
       " 0.021436615,\n",
       " 0.021338344,\n",
       " 0.021255603,\n",
       " 0.021151707,\n",
       " 0.02100916,\n",
       " 0.020838544,\n",
       " 0.0206681,\n",
       " 0.020522175,\n",
       " 0.020403657,\n",
       " 0.020293385,\n",
       " 0.02016709,\n",
       " 0.02001565,\n",
       " 0.019851154,\n",
       " 0.019694166,\n",
       " 0.019554991,\n",
       " 0.01942576,\n",
       " 0.019289205,\n",
       " 0.019134792,\n",
       " 0.018967304,\n",
       " 0.01880084,\n",
       " 0.018644424,\n",
       " 0.01849359,\n",
       " 0.018336384,\n",
       " 0.018167118,\n",
       " 0.017992275,\n",
       " 0.017822191,\n",
       " 0.017658716,\n",
       " 0.017493729,\n",
       " 0.017319573,\n",
       " 0.01713844,\n",
       " 0.016958944,\n",
       " 0.016784742,\n",
       " 0.016610548,\n",
       " 0.016430898,\n",
       " 0.016248688,\n",
       " 0.016070446,\n",
       " 0.015896011,\n",
       " 0.01571911,\n",
       " 0.015537974,\n",
       " 0.015358115,\n",
       " 0.015182608,\n",
       " 0.015007308,\n",
       " 0.01482954,\n",
       " 0.0146532655,\n",
       " 0.014480369,\n",
       " 0.014306288,\n",
       " 0.014129318,\n",
       " 0.013953464,\n",
       " 0.0137787815,\n",
       " 0.013601338,\n",
       " 0.013422256,\n",
       " 0.013243639,\n",
       " 0.013062118,\n",
       " 0.012876642,\n",
       " 0.012690066,\n",
       " 0.012500886,\n",
       " 0.012307549,\n",
       " 0.0121123195,\n",
       " 0.011913905,\n",
       " 0.011710828,\n",
       " 0.011505275,\n",
       " 0.0112964995,\n",
       " 0.011083876,\n",
       " 0.010868953,\n",
       " 0.010650211,\n",
       " 0.010427832,\n",
       " 0.010203056,\n",
       " 0.009974946,\n",
       " 0.009744496,\n",
       " 0.009511362,\n",
       " 0.009275092,\n",
       " 0.00903707,\n",
       " 0.008796968,\n",
       " 0.008555643,\n",
       " 0.008312928,\n",
       " 0.008068983,\n",
       " 0.007825046,\n",
       " 0.0075812936,\n",
       " 0.007338631,\n",
       " 0.007096828,\n",
       " 0.006857129,\n",
       " 0.0066201435,\n",
       " 0.006386696,\n",
       " 0.0061568986,\n",
       " 0.005931656,\n",
       " 0.0057116756,\n",
       " 0.0054975958,\n",
       " 0.0052894466,\n",
       " 0.005087989,\n",
       " 0.004893487,\n",
       " 0.004706194,\n",
       " 0.004525943,\n",
       " 0.0043529845,\n",
       " 0.0041871495,\n",
       " 0.0040279985,\n",
       " 0.0038754172,\n",
       " 0.003728919,\n",
       " 0.0035880595,\n",
       " 0.003452504,\n",
       " 0.0033218,\n",
       " 0.0031956749,\n",
       " 0.0030739587,\n",
       " 0.0029564663,\n",
       " 0.0028432468,\n",
       " 0.002734408,\n",
       " 0.0026300747,\n",
       " 0.002530502,\n",
       " 0.0024358893,\n",
       " 0.0023464814,\n",
       " 0.0022624873,\n",
       " 0.002183961,\n",
       " 0.0021110475,\n",
       " 0.0020437208,\n",
       " 0.0019818763,\n",
       " 0.0019254044,\n",
       " 0.0018740321,\n",
       " 0.0018275274,\n",
       " 0.0017855424,\n",
       " 0.0017476826,\n",
       " 0.0017135337,\n",
       " 0.0016825988,\n",
       " 0.0016544091,\n",
       " 0.001628412,\n",
       " 0.0016040925,\n",
       " 0.0015809127,\n",
       " 0.0015584022,\n",
       " 0.0015362044,\n",
       " 0.0015143707,\n",
       " 0.0014944341,\n",
       " 0.0014817719,\n",
       " 0.0014949103,\n",
       " 0.0015472501,\n",
       " 0.0016021422,\n",
       " 0.0014894019,\n",
       " 0.0013468285,\n",
       " 0.0013697774,\n",
       " 0.001415323,\n",
       " 0.0013235324,\n",
       " 0.0012424579,\n",
       " 0.0012826093,\n",
       " 0.0012681857,\n",
       " 0.0011720159,\n",
       " 0.0011634437,\n",
       " 0.0011813872,\n",
       " 0.0011139748,\n",
       " 0.0010686141,\n",
       " 0.0010827031,\n",
       " 0.0010533669,\n",
       " 0.0009964387,\n",
       " 0.0009854338,\n",
       " 0.0009822022,\n",
       " 0.000941013,\n",
       " 0.0009029536,\n",
       " 0.0008963864,\n",
       " 0.0008834734,\n",
       " 0.00084544497,\n",
       " 0.00081334857,\n",
       " 0.0008013289,\n",
       " 0.00078871375,\n",
       " 0.0007611949,\n",
       " 0.0007280337,\n",
       " 0.00070398237,\n",
       " 0.0006894573,\n",
       " 0.00067562365,\n",
       " 0.0006565127,\n",
       " 0.00063172105,\n",
       " 0.00060511375,\n",
       " 0.0005795297,\n",
       " 0.0005561814,\n",
       " 0.00053488044,\n",
       " 0.00051508925,\n",
       " 0.0004967165,\n",
       " 0.0004807983,\n",
       " 0.0004709783,\n",
       " 0.00047901663,\n",
       " 0.00054367934,\n",
       " 0.00075642666,\n",
       " 0.00125408,\n",
       " 0.0014709694,\n",
       " 0.00091818825,\n",
       " 0.0003536852,\n",
       " 0.00086426677,\n",
       " 0.001023628,\n",
       " 0.00036778266,\n",
       " 0.00061186455,\n",
       " 0.0008662605,\n",
       " 0.00034349898,\n",
       " 0.00052890996,\n",
       " 0.0007068415,\n",
       " 0.00029736845,\n",
       " 0.0004933096,\n",
       " 0.00057323405,\n",
       " 0.000261437,\n",
       " 0.00046170384,\n",
       " 0.00046549155,\n",
       " 0.00023848255,\n",
       " 0.0004216767,\n",
       " 0.00038343907,\n",
       " 0.00022159074,\n",
       " 0.00037490533,\n",
       " 0.00032469697,\n",
       " 0.00020537569,\n",
       " 0.00032676343,\n",
       " 0.00028426503,\n",
       " 0.00018859484,\n",
       " 0.00028077044,\n",
       " 0.00025629724,\n",
       " 0.00017286398,\n",
       " 0.00023787517,\n",
       " 0.00023525828,\n",
       " 0.00016082154,\n",
       " 0.00019817876,\n",
       " 0.00021586542,\n",
       " 0.0001545335,\n",
       " 0.00016314515,\n",
       " 0.00019321892,\n",
       " 0.00015359891,\n",
       " 0.00013692304,\n",
       " 0.00016485418,\n",
       " 0.00015324954,\n",
       " 0.00012457394,\n",
       " 0.0001345977,\n",
       " 0.00014513516,\n",
       " 0.00012534339,\n",
       " 0.00011362399,\n",
       " 0.0001252755,\n",
       " 0.00012622976,\n",
       " 0.000109997934,\n",
       " 0.00010500859,\n",
       " 0.00011306819,\n",
       " 0.00010790854867082089,\n",
       " 0.00010015235602622852,\n",
       " 9.951363608706743e-05,\n",
       " 9.638209303375334e-05,\n",
       " 9.36168507905677e-05]"
      ]
     },
     "execution_count": 6,
     "metadata": {},
     "output_type": "execute_result"
    }
   ],
   "source": [
    "solver.hist"
   ]
  },
  {
   "cell_type": "code",
   "execution_count": 7,
   "id": "1c423885",
   "metadata": {},
   "outputs": [
    {
     "name": "stdout",
     "output_type": "stream",
     "text": [
      "WARNING:tensorflow:Compiled the loaded model, but the compiled metrics have yet to be built. `model.compile_metrics` will be empty until you train or evaluate the model.\n"
     ]
    }
   ],
   "source": [
    "#%% Save LSTM model file\n",
    "solver.model.save('PINN_FOPDT_onestep_LSTM_pinn_off.h5')"
   ]
  },
  {
   "cell_type": "code",
   "execution_count": 8,
   "id": "9f98dc68",
   "metadata": {},
   "outputs": [
    {
     "data": {
      "image/png": "[encoded data removed]",
      "text/plain": [
       "<Figure size 864x360 with 2 Axes>"
      ]
     },
     "metadata": {
      "needs_background": "light"
     },
     "output_type": "display_data"
    }
   ],
   "source": [
    "# Training results\n",
    "yp_train = solver.model(X_train)\n",
    "y_pinn_train = s2.inverse_transform(yp_train)\n",
    "\n",
    "yp_val = solver.model(X_val)\n",
    "y_pinn_val = s2.inverse_transform(yp_val)\n",
    "\n",
    "\n",
    "plt.figure(figsize=(12,5))\n",
    "plt.subplot(2,2,1)\n",
    "plt.gca().set_title('Training')\n",
    "plt.plot(y_pinn_train)\n",
    "plt.plot(data1[\"y\"].to_numpy()[window:y_pinn_train.shape[0]], '-.')\n",
    "\n",
    "\n",
    "plt.subplot(2,2,2)\n",
    "plt.gca().set_title('Validation')\n",
    "plt.plot(y_pinn_val)\n",
    "plt.plot(data1[\"y\"].to_numpy()[y_pinn_train.shape[0]+window+window:], '-.')\n",
    "\n",
    "\n",
    "plt.show()"
   ]
  },
  {
   "cell_type": "markdown",
   "id": "23da81eb",
   "metadata": {},
   "source": [
    "## Using predicted values to predict next step"
   ]
  },
  {
   "cell_type": "code",
   "execution_count": 9,
   "id": "6eea9f34",
   "metadata": {},
   "outputs": [],
   "source": [
    "# Load the other Dataset with larger range\n",
    "data2 = pd.read_pickle('open_loop_data_SISO.pkl')\n",
    "\n",
    "# Select a Data Range to show\n",
    "# data2 = data2[500:800]\n",
    "\n",
    "# Scale\n",
    "Xs = s1.transform(data2[['u','y']].to_numpy())\n",
    "Ys = s2.transform(data2[['y']].to_numpy())\n",
    "\n",
    "# Make snapshots\n",
    "X_val = []\n",
    "Y_val = []\n",
    "for i in range(window,len(Xs)):\n",
    "    X_val.append(Xs[i-window:i,:])\n",
    "    Y_val.append(Ys[i])\n",
    "    \n",
    "# Reshape data to format accepted by LSTM\n",
    "X_train, Y_train = np.array(X_train), np.array(Y_train)\n",
    "X_val, Y_val = np.array(X_val), np.array(Y_val)"
   ]
  },
  {
   "cell_type": "code",
   "execution_count": 10,
   "id": "f519f8bf",
   "metadata": {},
   "outputs": [
    {
     "name": "stderr",
     "output_type": "stream",
     "text": [
      "2022-05-24 11:13:44.563215: I tensorflow/core/grappler/optimizers/custom_graph_optimizer_registry.cc:113] Plugin optimizer for device_type GPU is enabled.\n",
      "2022-05-24 11:13:44.652520: I tensorflow/core/grappler/optimizers/custom_graph_optimizer_registry.cc:113] Plugin optimizer for device_type GPU is enabled.\n",
      "2022-05-24 11:13:44.692403: I tensorflow/core/grappler/optimizers/custom_graph_optimizer_registry.cc:113] Plugin optimizer for device_type GPU is enabled.\n",
      "2022-05-24 11:13:44.719473: I tensorflow/core/grappler/optimizers/custom_graph_optimizer_registry.cc:113] Plugin optimizer for device_type GPU is enabled.\n"
     ]
    }
   ],
   "source": [
    "Xsq = Xs.copy()   # Xs : scaled data before appending the array with window size\n",
    "Ysq = Ys.copy()\n",
    "for i in range(window,len(Xsq)):\n",
    "    Xin = Xsq[i-window:i].reshape((1, window, np.shape(Xsq)[1]))\n",
    "    Xsq[i][(Xs.shape[1] - Ys.shape[1]):] = model_lstm.predict(Xin) \n",
    "    # (Xs.shape[1]-Ys.shape[1]) indicates the index of the \n",
    "    # first 'system' output variable in the 'LSTM' input array\n",
    "    Ysq[i] = Xsq[i][(Xs.shape[1] - Ys.shape[1]):]\n",
    "\n",
    "Ytu = s2.inverse_transform(Ysq)\n",
    "# Break Ytu into train and validation set for plotting\n",
    "Ytu_val_lstm = Ytu\n",
    "\n",
    "Ym_val = s2.inverse_transform(Y_val)"
   ]
  },
  {
   "cell_type": "code",
   "execution_count": 11,
   "id": "976af1fb",
   "metadata": {},
   "outputs": [
    {
     "data": {
      "image/png": "[encoded data removed]",
      "text/plain": [
       "<Figure size 864x288 with 1 Axes>"
      ]
     },
     "metadata": {
      "needs_background": "light"
     },
     "output_type": "display_data"
    }
   ],
   "source": [
    "plt.figure(0, figsize=(12,4))\n",
    "plt.subplot(2,1,1)\n",
    "plt.plot(Ytu_val_lstm[window:],'r-',label='LSTM')\n",
    "plt.plot(Ym_val,'b--',label='Measured')\n",
    "plt.title('LSTM-Onestep model Validation',fontsize=15)\n",
    "plt.ylabel(\"T1\", fontsize=13)\n",
    "plt.legend(loc=1,fontsize=13)\n",
    "plt.show()"
   ]
  },
  {
   "cell_type": "code",
   "execution_count": 56,
   "id": "48341421",
   "metadata": {},
   "outputs": [
    {
     "data": {
      "text/plain": [
       "(1600, 1)"
      ]
     },
     "execution_count": 56,
     "metadata": {},
     "output_type": "execute_result"
    }
   ],
   "source": [
    "Ytu_val_lstm.shape"
   ]
  },
  {
   "cell_type": "code",
   "execution_count": 58,
   "id": "05999a24",
   "metadata": {},
   "outputs": [
    {
     "data": {
      "text/plain": [
       "(1600, 1)"
      ]
     },
     "execution_count": 58,
     "metadata": {},
     "output_type": "execute_result"
    }
   ],
   "source": [
    "data2[[\"u\"]].to_numpy().shape"
   ]
  },
  {
   "cell_type": "code",
   "execution_count": 83,
   "id": "0050e19d",
   "metadata": {},
   "outputs": [
    {
     "data": {
      "text/plain": [
       "(1600, 1)"
      ]
     },
     "execution_count": 83,
     "metadata": {},
     "output_type": "execute_result"
    }
   ],
   "source": [
    "data2[['y']].to_numpy().shape"
   ]
  },
  {
   "cell_type": "code",
   "execution_count": 55,
   "id": "decc745b",
   "metadata": {},
   "outputs": [
    {
     "data": {
      "text/plain": [
       "[<matplotlib.lines.Line2D at 0x16ea6f9a0>]"
      ]
     },
     "execution_count": 55,
     "metadata": {},
     "output_type": "execute_result"
    },
    {
     "data": {
      "image/png": "[encoded data removed]",
      "text/plain": [
       "<Figure size 432x288 with 1 Axes>"
      ]
     },
     "metadata": {
      "needs_background": "light"
     },
     "output_type": "display_data"
    }
   ],
   "source": [
    "plt.plot(Ytu_val_lstm[0:60])\n",
    "plt.plot(data2[[\"u\"]].to_numpy()[0:60])"
   ]
  },
  {
   "cell_type": "code",
   "execution_count": 67,
   "id": "a35df821",
   "metadata": {},
   "outputs": [
    {
     "data": {
      "text/plain": [
       "array([[[0.        ],\n",
       "        [0.        ],\n",
       "        [0.        ],\n",
       "        ...,\n",
       "        [0.84676591],\n",
       "        [0.84676591],\n",
       "        [0.84676591]],\n",
       "\n",
       "       [[0.        ],\n",
       "        [0.        ],\n",
       "        [0.        ],\n",
       "        ...,\n",
       "        [0.81473786],\n",
       "        [0.81442419],\n",
       "        [0.81428123]]])"
      ]
     },
     "execution_count": 67,
     "metadata": {},
     "output_type": "execute_result"
    }
   ],
   "source": [
    "np.array((data2[['u']].to_numpy(),Ytu_val_lstm))"
   ]
  },
  {
   "cell_type": "code",
   "execution_count": 78,
   "id": "4cd7462b",
   "metadata": {},
   "outputs": [],
   "source": [
    " Y_nn1 = Ytu_val_lstm.flatten().T"
   ]
  },
  {
   "cell_type": "code",
   "execution_count": 79,
   "id": "ab983620",
   "metadata": {},
   "outputs": [],
   "source": [
    "u_ext = data2[['u']].to_numpy().flatten().T"
   ]
  },
  {
   "cell_type": "code",
   "execution_count": 81,
   "id": "e643c5a0",
   "metadata": {},
   "outputs": [
    {
     "data": {
      "text/plain": [
       "(1600, 2)"
      ]
     },
     "execution_count": 81,
     "metadata": {},
     "output_type": "execute_result"
    }
   ],
   "source": [
    "np.array([u_ext, Y_nn1]).T.shape"
   ]
  },
  {
   "cell_type": "code",
   "execution_count": 77,
   "id": "232f1453",
   "metadata": {},
   "outputs": [
    {
     "data": {
      "text/plain": [
       "(1600, 2)"
      ]
     },
     "execution_count": 77,
     "metadata": {},
     "output_type": "execute_result"
    }
   ],
   "source": [
    "Xs.shape"
   ]
  },
  {
   "cell_type": "code",
   "execution_count": 86,
   "id": "2c7d5d89",
   "metadata": {},
   "outputs": [],
   "source": [
    "Ynn = Ytu_val_lstm"
   ]
  },
  {
   "cell_type": "code",
   "execution_count": 87,
   "id": "54354e82",
   "metadata": {},
   "outputs": [],
   "source": [
    "# Scale\n",
    "Xs_f = s1.transform(np.array([u_ext, Y_nn1]).T)\n",
    "Ys_f = s2.transform(Ynn)\n",
    "\n",
    "# Make snapshots\n",
    "X_train_f = []\n",
    "Y_train_f = []\n",
    "for i in range(window,len(Xs)):\n",
    "    X_train_f.append(Xs[i-window:i,:])\n",
    "    Y_train_f.append(Ys[i])\n",
    "    \n",
    "# Reshape data to format accepted by LSTM\n",
    "X_train_f, Y_train_f = np.array(X_train_f), np.array(Y_train_f)\n",
    "# X_val, Y_val = np.array(X_val), np.array(Y_val)"
   ]
  },
  {
   "cell_type": "code",
   "execution_count": 88,
   "id": "68f483e7",
   "metadata": {},
   "outputs": [
    {
     "name": "stderr",
     "output_type": "stream",
     "text": [
      "2022-05-25 10:49:11.399665: I tensorflow/core/grappler/optimizers/custom_graph_optimizer_registry.cc:113] Plugin optimizer for device_type GPU is enabled.\n",
      "2022-05-25 10:49:11.991397: I tensorflow/core/grappler/optimizers/custom_graph_optimizer_registry.cc:113] Plugin optimizer for device_type GPU is enabled.\n",
      "2022-05-25 10:49:12.072145: I tensorflow/core/grappler/optimizers/custom_graph_optimizer_registry.cc:113] Plugin optimizer for device_type GPU is enabled.\n",
      "2022-05-25 10:49:12.131289: I tensorflow/core/grappler/optimizers/custom_graph_optimizer_registry.cc:113] Plugin optimizer for device_type GPU is enabled.\n",
      "2022-05-25 10:49:12.216904: I tensorflow/core/grappler/optimizers/custom_graph_optimizer_registry.cc:113] Plugin optimizer for device_type GPU is enabled.\n",
      "2022-05-25 10:49:12.359755: I tensorflow/core/grappler/optimizers/custom_graph_optimizer_registry.cc:113] Plugin optimizer for device_type GPU is enabled.\n",
      "2022-05-25 10:49:12.481753: I tensorflow/core/grappler/optimizers/custom_graph_optimizer_registry.cc:113] Plugin optimizer for device_type GPU is enabled.\n"
     ]
    },
    {
     "name": "stdout",
     "output_type": "stream",
     "text": [
      "It 00310: loss = 8.89397852e-05\n",
      "It 00320: loss = 7.49906540e-05\n",
      "It 00330: loss = 7.63441640e-05\n",
      "It 00340: loss = 6.49793728e-05\n",
      "It 00350: loss = 6.74697294e-05\n",
      "It 00360: loss = 2.40754191e-04\n",
      "It 00370: loss = 1.99721209e-04\n",
      "It 00380: loss = 6.41659353e-05\n",
      "It 00390: loss = 6.02677210e-05\n",
      "It 00400: loss = 5.56266641e-05\n",
      "It 00410: loss = 5.31546029e-05\n",
      "It 00420: loss = 4.98522750e-05\n",
      "It 00430: loss = 4.93261578e-05\n",
      "It 00440: loss = 1.24281505e-04\n",
      "It 00450: loss = 7.41029435e-05\n",
      "It 00460: loss = 4.58040304e-05\n",
      "It 00470: loss = 4.50394764e-05\n",
      "It 00480: loss = 4.28518215e-05\n",
      "It 00490: loss = 4.24532627e-05\n",
      "It 00500: loss = 4.23998063e-05\n",
      "It 00510: loss = 3.96242831e-05\n",
      "It 00520: loss = 3.87159853e-05\n",
      "It 00530: loss = 3.78731165e-05\n",
      "It 00540: loss = 3.72526665e-05\n",
      "It 00550: loss = 3.88808148e-05\n",
      "It 00560: loss = 3.38240177e-04\n",
      "It 00570: loss = 2.87649804e-04\n",
      "It 00580: loss = 5.37503256e-05\n",
      "It 00590: loss = 4.37852832e-05\n",
      "It 00600: loss = 4.61307282e-05\n"
     ]
    },
    {
     "data": {
      "text/plain": [
       "      fun: 3.3505337341921404e-05\n",
       " hess_inv: <202101x202101 LbfgsInvHessProduct with dtype=float64>\n",
       "      jac: array([ 1.32397349e-06,  5.15507281e-09,  1.46733129e-07, ...,\n",
       "        1.22157508e-06, -3.75451054e-06, -4.51129628e-04])\n",
       "  message: 'STOP: TOTAL NO. of ITERATIONS REACHED LIMIT'\n",
       "     nfev: 9\n",
       "      nit: 5\n",
       "     njev: 9\n",
       "   status: 1\n",
       "  success: False\n",
       "        x: array([ 0.0736108 , -0.1225794 ,  0.02078416, ...,  0.24360228,\n",
       "        0.06724565, -0.00787733])"
      ]
     },
     "execution_count": 88,
     "metadata": {},
     "output_type": "execute_result"
    }
   ],
   "source": [
    "# PINN Off\n",
    "\n",
    "# solver.solve_with_tf_optimizer(optim, X_train, Y_train, n_step=300)M\n",
    "solver.is_pinn = True\n",
    "solver.solve_with_tf_optimizer(optim, X_train_f, Y_train_f, n_step=300)\n",
    "\n",
    "solver.solve_with_scipy_optimizer(X_train, Y_train, method='L-BFGS-B')\n",
    "#solver.solve_with_scipy_optimizer(x_physics, y_physics, method='SLSQP')"
   ]
  },
  {
   "cell_type": "code",
   "execution_count": 89,
   "id": "b603cf3a",
   "metadata": {},
   "outputs": [],
   "source": [
    "yp_val = solver.model(X_val)\n",
    "y_pinn_val = s2.inverse_transform(yp_val)"
   ]
  },
  {
   "cell_type": "code",
   "execution_count": null,
   "id": "caf99306",
   "metadata": {},
   "outputs": [],
   "source": [
    "plt.figure(0, figsize=(12,4))\n",
    "plt.subplot(2,1,1)\n",
    "plt.plot(Ytu_val_lstm[window:],'r-',label='LSTM')\n",
    "plt.plot(Ym_val,'b--',label='Measured')\n",
    "plt.title('LSTM-Onestep model Validation',fontsize=15)\n",
    "plt.ylabel(\"T1\", fontsize=13)\n",
    "plt.legend(loc=1,fontsize=13)\n",
    "plt.show()"
   ]
  },
  {
   "cell_type": "code",
   "execution_count": 13,
   "id": "c9b4e977",
   "metadata": {},
   "outputs": [
    {
     "data": {
      "text/plain": [
       "array([-1.        , -1.        , -1.        , ..., -0.15323409,\n",
       "       -0.15323409, -0.15323409])"
      ]
     },
     "execution_count": 13,
     "metadata": {},
     "output_type": "execute_result"
    }
   ],
   "source": [
    "Xs[:,0]"
   ]
  },
  {
   "cell_type": "code",
   "execution_count": 14,
   "id": "4b64efdf",
   "metadata": {},
   "outputs": [
    {
     "data": {
      "text/plain": [
       "array([-1.        , -1.        , -1.        , ..., -0.1450861 ,\n",
       "       -0.1478021 , -0.14961276])"
      ]
     },
     "execution_count": 14,
     "metadata": {},
     "output_type": "execute_result"
    }
   ],
   "source": [
    "Ys.flatten()"
   ]
  },
  {
   "cell_type": "code",
   "execution_count": 38,
   "id": "098474ec",
   "metadata": {},
   "outputs": [
    {
     "data": {
      "text/plain": [
       "array([-1.        , -1.        , -1.        , ..., -0.18526214,\n",
       "       -0.18557581, -0.18571877])"
      ]
     },
     "execution_count": 38,
     "metadata": {},
     "output_type": "execute_result"
    }
   ],
   "source": [
    "Ysq.flatten()"
   ]
  },
  {
   "cell_type": "code",
   "execution_count": 39,
   "id": "b153339d",
   "metadata": {},
   "outputs": [],
   "source": [
    "a= solver.residual_function(data2['u'].to_numpy(), Ysq.flatten())"
   ]
  },
  {
   "cell_type": "code",
   "execution_count": 40,
   "id": "07c128af",
   "metadata": {},
   "outputs": [
    {
     "data": {
      "text/plain": [
       "-0.0014830827713012695"
      ]
     },
     "execution_count": 40,
     "metadata": {},
     "output_type": "execute_result"
    }
   ],
   "source": [
    "a[17]"
   ]
  },
  {
   "cell_type": "code",
   "execution_count": 32,
   "id": "95f017b4",
   "metadata": {},
   "outputs": [
    {
     "data": {
      "text/plain": [
       "<tf.Tensor: shape=(), dtype=float64, numpy=0.028582176356932252>"
      ]
     },
     "execution_count": 32,
     "metadata": {},
     "output_type": "execute_result"
    }
   ],
   "source": [
    "tf.reduce_mean(tf.square(a))"
   ]
  },
  {
   "cell_type": "code",
   "execution_count": 41,
   "id": "7089ea6a",
   "metadata": {},
   "outputs": [
    {
     "data": {
      "text/plain": [
       "<tf.Tensor: shape=(), dtype=float64, numpy=0.06544082261066833>"
      ]
     },
     "execution_count": 41,
     "metadata": {},
     "output_type": "execute_result"
    }
   ],
   "source": [
    "tf.reduce_mean(tf.square(a))"
   ]
  },
  {
   "cell_type": "code",
   "execution_count": 26,
   "id": "0591b59e",
   "metadata": {},
   "outputs": [],
   "source": [
    "ys = data2[\"y\"].to_numpy().flatten()"
   ]
  },
  {
   "cell_type": "code",
   "execution_count": 31,
   "id": "c34b3f90",
   "metadata": {},
   "outputs": [
    {
     "data": {
      "text/plain": [
       "1.1778993895000003"
      ]
     },
     "execution_count": 31,
     "metadata": {},
     "output_type": "execute_result"
    }
   ],
   "source": [
    "(ys[18]-ys[17])*2+ys[17]-1*data2['u'].to_numpy()[17]"
   ]
  },
  {
   "cell_type": "code",
   "execution_count": 18,
   "id": "dcb5cc84",
   "metadata": {},
   "outputs": [
    {
     "data": {
      "text/plain": [
       "(1600,)"
      ]
     },
     "execution_count": 18,
     "metadata": {},
     "output_type": "execute_result"
    }
   ],
   "source": [
    "Ys.flatten().shape"
   ]
  },
  {
   "cell_type": "code",
   "execution_count": 19,
   "id": "153b52be",
   "metadata": {},
   "outputs": [
    {
     "data": {
      "text/plain": [
       "array([0.        , 0.        , 0.        , ..., 0.84676591, 0.84676591,\n",
       "       0.84676591])"
      ]
     },
     "execution_count": 19,
     "metadata": {},
     "output_type": "execute_result"
    }
   ],
   "source": [
    "data2['u'].to_numpy()"
   ]
  },
  {
   "cell_type": "code",
   "execution_count": 20,
   "id": "c89e0144",
   "metadata": {},
   "outputs": [
    {
     "data": {
      "text/plain": [
       "array([0])"
      ]
     },
     "execution_count": 20,
     "metadata": {},
     "output_type": "execute_result"
    }
   ],
   "source": [
    "solver.s2.data_min_"
   ]
  }
 ],
 "metadata": {
  "kernelspec": {
   "display_name": "Python 3 (ipykernel)",
   "language": "python",
   "name": "python3"
  },
  "language_info": {
   "codemirror_mode": {
    "name": "ipython",
    "version": 3
   },
   "file_extension": ".py",
   "mimetype": "text/x-python",
   "name": "python",
   "nbconvert_exporter": "python",
   "pygments_lexer": "ipython3",
   "version": "3.8.13"
  }
 },
 "nbformat": 4,
 "nbformat_minor": 5
}
