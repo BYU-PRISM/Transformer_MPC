{
 "cells": [
  {
   "cell_type": "markdown",
   "metadata": {},
   "source": [
    "# Generating MIMO controller data\n",
    "This series of notebooks explores the idea of emulating complex controller behavior with an LSTM. This first notebook is used to generate data from the TCLab for use in training the LSTM. The LSTM can then be used in place of the controller (or any other controller it is trained on), or used to evaluate the controller performance for anomaly detection.\n",
    "\n",
    "Of particular significance for this series of notebooks is the fact that this controller is for a multiple input, multiple output (MIMO) system, and is therefore more complex. The model takes about 2 seconds to solve for each iteration, meaning the data is set to only come in 3 second intervals. This will be significant for showing an advantage of using an LSTM later on."
   ]
  },
  {
   "cell_type": "code",
   "execution_count": 1,
   "metadata": {
    "ExecuteTime": {
     "end_time": "2021-04-23T16:59:00.700779Z",
     "start_time": "2021-04-23T16:58:59.478293Z"
    }
   },
   "outputs": [],
   "source": [
    "import tclab\n",
    "import numpy as np\n",
    "import time\n",
    "import matplotlib.pyplot as plt\n",
    "from gekko import GEKKO\n",
    "import random\n",
    "import pandas as pd\n"
   ]
  },
  {
   "cell_type": "code",
   "execution_count": 2,
   "metadata": {
    "ExecuteTime": {
     "end_time": "2021-04-23T16:59:04.761201Z",
     "start_time": "2021-04-23T16:59:00.701256Z"
    }
   },
   "outputs": [
    {
     "name": "stdout",
     "output_type": "stream",
     "text": [
      "TCLab version 0.4.9\n",
      "--- Serial Ports ---\n"
     ]
    },
    {
     "ename": "RuntimeError",
     "evalue": "No Arduino device found.",
     "output_type": "error",
     "traceback": [
      "\u001b[1;31m---------------------------------------------------------------------------\u001b[0m",
      "\u001b[1;31mRuntimeError\u001b[0m                              Traceback (most recent call last)",
      "\u001b[1;32m<ipython-input-2-227b194ce532>\u001b[0m in \u001b[0;36m<module>\u001b[1;34m\u001b[0m\n\u001b[0;32m      1\u001b[0m \u001b[1;31m# Connect to Arduino\u001b[0m\u001b[1;33m\u001b[0m\u001b[1;33m\u001b[0m\u001b[1;33m\u001b[0m\u001b[0m\n\u001b[1;32m----> 2\u001b[1;33m \u001b[0ma\u001b[0m \u001b[1;33m=\u001b[0m \u001b[0mtclab\u001b[0m\u001b[1;33m.\u001b[0m\u001b[0mTCLab\u001b[0m\u001b[1;33m(\u001b[0m\u001b[1;33m)\u001b[0m\u001b[1;33m\u001b[0m\u001b[1;33m\u001b[0m\u001b[0m\n\u001b[0m\u001b[0;32m      3\u001b[0m \u001b[1;31m# Find current T1, T2\u001b[0m\u001b[1;33m\u001b[0m\u001b[1;33m\u001b[0m\u001b[1;33m\u001b[0m\u001b[0m\n\u001b[0;32m      4\u001b[0m \u001b[0mprint\u001b[0m\u001b[1;33m(\u001b[0m\u001b[1;34m'Temperature 1: {0:0.2f} °C'\u001b[0m\u001b[1;33m.\u001b[0m\u001b[0mformat\u001b[0m\u001b[1;33m(\u001b[0m\u001b[0ma\u001b[0m\u001b[1;33m.\u001b[0m\u001b[0mT1\u001b[0m\u001b[1;33m)\u001b[0m\u001b[1;33m)\u001b[0m\u001b[1;33m\u001b[0m\u001b[1;33m\u001b[0m\u001b[0m\n\u001b[0;32m      5\u001b[0m \u001b[0mprint\u001b[0m\u001b[1;33m(\u001b[0m\u001b[1;34m'Temperature 2: {0:0.2f} °C'\u001b[0m\u001b[1;33m.\u001b[0m\u001b[0mformat\u001b[0m\u001b[1;33m(\u001b[0m\u001b[0ma\u001b[0m\u001b[1;33m.\u001b[0m\u001b[0mT2\u001b[0m\u001b[1;33m)\u001b[0m\u001b[1;33m)\u001b[0m\u001b[1;33m\u001b[0m\u001b[1;33m\u001b[0m\u001b[0m\n",
      "\u001b[1;32mC:\\ProgramData\\Anaconda3\\lib\\site-packages\\tclab\\tclab.py\u001b[0m in \u001b[0;36m__init__\u001b[1;34m(self, port, debug)\u001b[0m\n\u001b[0;32m     59\u001b[0m         \u001b[0mself\u001b[0m\u001b[1;33m.\u001b[0m\u001b[0mport\u001b[0m\u001b[1;33m,\u001b[0m \u001b[0mself\u001b[0m\u001b[1;33m.\u001b[0m\u001b[0marduino\u001b[0m \u001b[1;33m=\u001b[0m \u001b[0mfind_arduino\u001b[0m\u001b[1;33m(\u001b[0m\u001b[0mport\u001b[0m\u001b[1;33m)\u001b[0m\u001b[1;33m\u001b[0m\u001b[1;33m\u001b[0m\u001b[0m\n\u001b[0;32m     60\u001b[0m         \u001b[1;32mif\u001b[0m \u001b[0mself\u001b[0m\u001b[1;33m.\u001b[0m\u001b[0mport\u001b[0m \u001b[1;32mis\u001b[0m \u001b[1;32mNone\u001b[0m\u001b[1;33m:\u001b[0m\u001b[1;33m\u001b[0m\u001b[1;33m\u001b[0m\u001b[0m\n\u001b[1;32m---> 61\u001b[1;33m             \u001b[1;32mraise\u001b[0m \u001b[0mRuntimeError\u001b[0m\u001b[1;33m(\u001b[0m\u001b[1;34m'No Arduino device found.'\u001b[0m\u001b[1;33m)\u001b[0m\u001b[1;33m\u001b[0m\u001b[1;33m\u001b[0m\u001b[0m\n\u001b[0m\u001b[0;32m     62\u001b[0m \u001b[1;33m\u001b[0m\u001b[0m\n\u001b[0;32m     63\u001b[0m         \u001b[1;32mtry\u001b[0m\u001b[1;33m:\u001b[0m\u001b[1;33m\u001b[0m\u001b[1;33m\u001b[0m\u001b[0m\n",
      "\u001b[1;31mRuntimeError\u001b[0m: No Arduino device found."
     ]
    }
   ],
   "source": [
    "# Connect to Arduino\n",
    "a = tclab.TCLab()\n",
    "# Find current T1, T2\n",
    "print('Temperature 1: {0:0.2f} °C'.format(a.T1))\n",
    "print('Temperature 2: {0:0.2f} °C'.format(a.T2))"
   ]
  },
  {
   "cell_type": "code",
   "execution_count": null,
   "metadata": {
    "ExecuteTime": {
     "end_time": "2021-04-23T16:59:04.911993Z",
     "start_time": "2021-04-23T16:59:04.763184Z"
    }
   },
   "outputs": [],
   "source": [
    "# Run time in minutes\n",
    "run_time = 240.0\n",
    "\n",
    "# Number of cycles with 3 second intervals\n",
    "loops = int(20.0*run_time)\n",
    "tm = np.zeros(loops)\n",
    "\n",
    "# Temperature (K)\n",
    "T1 = np.ones(loops) * a.T1 # temperature (degC)\n",
    "Tsp1 = np.ones(loops) * a.T1 # set point (degC)\n",
    "T2 = np.ones(loops) * a.T2 # temperature (degC)\n",
    "Tsp2 = np.ones(loops) * a.T2 # set point (degC)\n",
    "\n",
    "# Heater set point steps\n",
    "end = 15 # leave 1st 15 seconds of Q1s as 0\n",
    "while end <= loops:\n",
    "    start = end\n",
    "    end += random.randint(200,600) # keep new Q1s value for anywhere from 10 to 30 minutes\n",
    "    Tsp1[start:end] = random.randint(40,50)\n",
    "    \n",
    "# Heater set point steps\n",
    "end = 15 # leave 1st 15 seconds of Q1s as 0\n",
    "while end <= loops:\n",
    "    start = end\n",
    "    end += random.randint(200,600) # keep new Q1s value for anywhere from 10 to 30 minutes\n",
    "    Tsp2[start:end] = random.randint(40,50)\n",
    "\n",
    "# heater values\n",
    "Q1s = np.ones(loops) * 0.0\n",
    "Q2s = np.ones(loops) * 0.0\n",
    "\n",
    "plt.plot(Tsp1)\n",
    "plt.plot(Tsp2)"
   ]
  },
  {
   "cell_type": "code",
   "execution_count": null,
   "metadata": {
    "ExecuteTime": {
     "end_time": "2021-04-23T20:59:44.700108Z",
     "start_time": "2021-04-23T16:59:04.911993Z"
    }
   },
   "outputs": [],
   "source": [
    "#########################################################\n",
    "# Initialize Model\n",
    "#########################################################\n",
    "m = GEKKO(name='tclab-mpc',remote=False)\n",
    "\n",
    "# 60 second time horizon, steps of 3 sec\n",
    "m.time = np.linspace(0,60,21)\n",
    "\n",
    "# Parameters\n",
    "U = m.FV(value=2.55,name='u')\n",
    "tau = m.FV(value=19.55,name='tau')\n",
    "alpha1 = m.FV(value=0.0081)   # W / % heater\n",
    "alpha2 = m.FV(value=0.0058) # W / % heater\n",
    "\n",
    "# Manipulated variables\n",
    "Q1 = m.MV(value=0,name='Q1')\n",
    "Q1.STATUS = 1  # use to control temperature\n",
    "Q1.FSTATUS = 0 # no feedback measurement\n",
    "Q1.LOWER = 0.0\n",
    "Q1.UPPER = 100.0\n",
    "Q1.DMAX = 40.0\n",
    "Q1.COST = 0.0\n",
    "Q1.DCOST = 1.0\n",
    "\n",
    "Q2 = m.MV(value=0,name='Q2')\n",
    "Q2.STATUS = 1  # use to control temperature\n",
    "Q2.FSTATUS = 0 # no feedback measurement\n",
    "Q2.LOWER = 0.0\n",
    "Q2.UPPER = 100.0\n",
    "Q2.DMAX = 40.0 # 5-10\n",
    "Q2.COST = 0.0\n",
    "Q2.DCOST = 1.0 # increase\n",
    "\n",
    "# Controlled variable\n",
    "TC1 = m.CV(value=T1[0],name='TC1')\n",
    "TC1.STATUS = 1     # minimize error with setpoint range\n",
    "TC1.FSTATUS = 1    # receive measurement\n",
    "TC1.TR_INIT = 1    # reference trajectory\n",
    "TC1.TAU = 10       # time constant for response\n",
    "\n",
    "# Controlled variable\n",
    "TC2 = m.CV(value=T2[0],name='TC2')\n",
    "TC2.STATUS = 1     # minimize error with setpoint range\n",
    "TC2.FSTATUS = 1    # receive measurement\n",
    "TC2.TR_INIT = 1    # reference trajectory\n",
    "TC2.TAU = 10       # time constant for response\n",
    "\n",
    "# State variables\n",
    "TH1 = m.SV(value=T1[0])\n",
    "TH2 = m.SV(value=T2[0])\n",
    "\n",
    "Ta = m.Param(value=23.0+273.15)     # K\n",
    "mass = m.Param(value=4.0/1000.0)    # kg\n",
    "Cp = m.Param(value=0.5*1000.0)      # J/kg-K    \n",
    "A = m.Param(value=10.0/100.0**2)    # Area not between heaters in m^2\n",
    "As = m.Param(value=2.0/100.0**2)    # Area between heaters in m^2\n",
    "eps = m.Param(value=0.9)            # Emissivity\n",
    "sigma = m.Const(5.67e-8)            # Stefan-Boltzmann\n",
    "\n",
    "# Heater temperatures\n",
    "T1i = m.Intermediate(TH1+273.15)\n",
    "T2i = m.Intermediate(TH2+273.15)\n",
    "\n",
    "# Heat transfer between two heaters\n",
    "Q_C12 = m.Intermediate(U*As*(T2i-T1i)) # Convective\n",
    "Q_R12 = m.Intermediate(eps*sigma*As*(T2i**4-T1i**4)) # Radiative\n",
    "\n",
    "# Semi-fundamental correlations (energy balances)\n",
    "m.Equation(TH1.dt() == (1.0/(mass*Cp))*(U*A*(Ta-T1i) \\\n",
    "                    + eps * sigma * A * (Ta**4 - T1i**4) \\\n",
    "                    + Q_C12 + Q_R12 \\\n",
    "                    + alpha1*Q1))\n",
    "\n",
    "m.Equation(TH2.dt() == (1.0/(mass*Cp))*(U*A*(Ta-T2i) \\\n",
    "                    + eps * sigma * A * (Ta**4 - T2i**4) \\\n",
    "                    - Q_C12 - Q_R12 \\\n",
    "                    + alpha2*Q2))\n",
    "\n",
    "# Empirical correlations (lag equations to emulate conduction)\n",
    "m.Equation(tau * TC1.dt() == -TC1 + TH1)\n",
    "m.Equation(tau * TC2.dt() == -TC2 + TH2)\n",
    "\n",
    "# Global Options\n",
    "m.options.IMODE   = 6 # MPC\n",
    "m.options.CV_TYPE = 1 # Objective type\n",
    "m.options.NODES   = 3 # Collocation nodes\n",
    "m.options.SOLVER  = 3 # 1=APOPT, 3=IPOPT\n",
    "##################################################################\n",
    "\n",
    "# Create plot\n",
    "plt.figure()\n",
    "plt.ion()\n",
    "plt.show()\n",
    "\n",
    "# Main Loop\n",
    "start_time = time.time()\n",
    "prev_time = start_time\n",
    "try:\n",
    "    for i in range(1,loops):\n",
    "        # Sleep time\n",
    "        sleep_max = 3.0\n",
    "        sleep = sleep_max - (time.time() - prev_time)\n",
    "        if sleep>=0.01:\n",
    "            time.sleep(sleep)\n",
    "        else:\n",
    "            time.sleep(0.01)\n",
    "\n",
    "        # Record time and change in time\n",
    "        t = time.time()\n",
    "        dt = t - prev_time\n",
    "        prev_time = t\n",
    "        tm[i] = t - start_time\n",
    "\n",
    "        # Read temperatures in Kelvin \n",
    "        T1[i] = a.T1\n",
    "        T2[i] = a.T2\n",
    "\n",
    "        ###############################\n",
    "        ### MPC CONTROLLER          ###\n",
    "        ###############################\n",
    "        TC1.MEAS = T1[i]\n",
    "        TC2.MEAS = T2[i]\n",
    "        # input setpoint with deadband +/- DT\n",
    "        DT = 0.1\n",
    "        TC1.SPHI = Tsp1[i] + DT\n",
    "        TC1.SPLO = Tsp1[i] - DT\n",
    "        TC2.SPHI = Tsp2[i] + DT\n",
    "        TC2.SPLO = Tsp2[i] - DT\n",
    "        # solve MPC\n",
    "        try:\n",
    "            m.solve(disp=False)   \n",
    "        except:\n",
    "            print('No Solution (t = %i)',tm[i])\n",
    "        # test for successful solution\n",
    "        if (m.options.APPSTATUS==1):\n",
    "            # retrieve the first Q value\n",
    "            Q1s[i] = Q1.NEWVAL\n",
    "            Q2s[i] = Q2.NEWVAL\n",
    "        else:\n",
    "            # not successful, set heater to zero\n",
    "            Q1s[i] = 0        \n",
    "            Q2s[i] = 0        \n",
    "\n",
    "        # Write output (0-100)\n",
    "        a.Q1(Q1s[i])\n",
    "        a.Q2(Q2s[i])\n",
    "\n",
    "        # Plot\n",
    "        plt.clf()\n",
    "        ax=plt.subplot(3,1,1)\n",
    "        ax.grid()\n",
    "        plt.plot(tm[0:i],T1[0:i],'ro',MarkerSize=3,label=r'$T_1$')\n",
    "        plt.plot(tm[0:i],Tsp1[0:i],'k-',LineWidth=2,label=r'$T_1 SP$')\n",
    "        plt.ylabel('Temperature (degC)')\n",
    "        plt.legend(loc='best')\n",
    "        ax=plt.subplot(3,1,2)\n",
    "        ax.grid()\n",
    "        plt.plot(tm[0:i],T2[0:i],'ro',MarkerSize=3,label=r'$T_2$')\n",
    "        plt.plot(tm[0:i],Tsp2[0:i],'g-',LineWidth=2,label=r'$T_2 SP$')\n",
    "        plt.ylabel('Temperature (degC)')\n",
    "        plt.legend(loc='best')\n",
    "        ax=plt.subplot(3,1,3)\n",
    "        ax.grid()\n",
    "        plt.plot(tm[0:i],Q1s[0:i],'r-',LineWidth=3,label=r'$Q_1$')\n",
    "        plt.plot(tm[0:i],Q2s[0:i],'b:',LineWidth=3,label=r'$Q_2$')\n",
    "        plt.ylabel('Heaters')\n",
    "        plt.xlabel('Time (sec)')\n",
    "        plt.legend(loc='best')\n",
    "        plt.draw()\n",
    "        plt.pause(0.05)\n",
    "\n",
    "    # Turn off heaters\n",
    "    a.Q1(0)\n",
    "    a.Q2(0)\n",
    "    print('Shutting down') \n",
    "\n",
    "# Allow user to end loop with Ctrl-C           \n",
    "except KeyboardInterrupt:\n",
    "    # Disconnect from Arduino\n",
    "    a.Q1(0)\n",
    "    a.Q2(0)\n",
    "    print('Shutting down')\n",
    "    a.close()\n",
    "\n",
    "# Make sure serial connection still closes when there's an error\n",
    "except:           \n",
    "    # Disconnect from Arduino\n",
    "    a.Q1(0)\n",
    "    a.Q2(0)\n",
    "    print('Error: Shutting down')\n",
    "    a.close()\n",
    "    raise"
   ]
  },
  {
   "cell_type": "code",
   "execution_count": null,
   "metadata": {
    "ExecuteTime": {
     "end_time": "2021-04-23T20:59:45.037978Z",
     "start_time": "2021-04-23T20:59:44.700108Z"
    },
    "scrolled": false
   },
   "outputs": [],
   "source": [
    "data = pd.DataFrame()\n",
    "data['time'] = tm\n",
    "data['Q1'] = Q1s\n",
    "data['T1'] = T1\n",
    "data['Tsp1'] = Tsp1\n",
    "data['Q2'] = Q2s\n",
    "data['T2'] = T2\n",
    "data['Tsp2'] = Tsp2\n",
    "\n",
    "data[['Tsp1','T1','Tsp2','T2']].plot()\n",
    "filename = 'MIMO_'+str(int(run_time))+'min_data.csv'\n",
    "data.to_csv(filename,index=False)"
   ]
  },
  {
   "cell_type": "code",
   "execution_count": null,
   "metadata": {
    "ExecuteTime": {
     "end_time": "2021-04-23T20:59:45.074807Z",
     "start_time": "2021-04-23T20:59:45.037978Z"
    }
   },
   "outputs": [],
   "source": [
    "# Interpolate data \n",
    "\n",
    "data['time'] = data['time'].astype(int)\n",
    "data = data.set_index('time')\n",
    "new_index = range(max(data.index)+1)\n",
    "data = data.reindex(new_index,fill_value=np.nan)\n",
    "\n",
    "# for i, row in data.iterrows():\n",
    "#     print(i,row)"
   ]
  },
  {
   "cell_type": "code",
   "execution_count": null,
   "metadata": {
    "ExecuteTime": {
     "end_time": "2021-04-23T20:59:45.359115Z",
     "start_time": "2021-04-23T20:59:45.074807Z"
    },
    "scrolled": false
   },
   "outputs": [],
   "source": [
    "linear_interp_cols = ['Q1','T1','Q2','T2']\n",
    "pad_interp_cols = ['Tsp1','Tsp2']\n",
    "data[linear_interp_cols] = data[linear_interp_cols].interpolate(method='linear')\n",
    "data[pad_interp_cols] = data[pad_interp_cols].interpolate(method='pad')\n",
    "\n",
    "\n",
    "data[['Tsp1','T1','Tsp2','T2']].plot()\n",
    "filename = 'MIMO_'+str(int(run_time))+'min_data_interp.csv'\n",
    "data.to_csv(filename,index=False)"
   ]
  },
  {
   "cell_type": "code",
   "execution_count": null,
   "metadata": {
    "ExecuteTime": {
     "end_time": "2021-04-23T20:59:45.515425Z",
     "start_time": "2021-04-23T20:59:45.363778Z"
    },
    "scrolled": false
   },
   "outputs": [],
   "source": [
    "n = 100\n",
    "data[['Tsp1','T1','Tsp2','T2']][n:n+300].plot()"
   ]
  },
  {
   "cell_type": "code",
   "execution_count": null,
   "metadata": {
    "ExecuteTime": {
     "end_time": "2021-04-23T20:59:45.634359Z",
     "start_time": "2021-04-23T20:59:45.515425Z"
    }
   },
   "outputs": [],
   "source": [
    "data[['Q1','Q2']][n:n+300].plot()"
   ]
  },
  {
   "cell_type": "code",
   "execution_count": null,
   "metadata": {
    "ExecuteTime": {
     "end_time": "2021-04-23T20:59:45.649992Z",
     "start_time": "2021-04-23T20:59:45.634359Z"
    }
   },
   "outputs": [],
   "source": [
    "# Save gekko model\n",
    "import pickle\n",
    "\n",
    "gekko_dict = {'model':m,\n",
    "              'TC1':TC1,\n",
    "              'TC2':TC2,\n",
    "              'Q1':Q1,\n",
    "              'Q2':Q2\n",
    "             }\n",
    "# gekko_dict['model'] = m\n",
    "\n",
    "model_name = 'mpc_'+str(int(run_time))+'.pkl'\n",
    "pickle.dump(gekko_dict, open(model_name, 'wb'))"
   ]
  }
 ],
 "metadata": {
  "hide_input": false,
  "kernelspec": {
   "display_name": "Python 3",
   "language": "python",
   "name": "python3"
  },
  "language_info": {
   "codemirror_mode": {
    "name": "ipython",
    "version": 3
   },
   "file_extension": ".py",
   "mimetype": "text/x-python",
   "name": "python",
   "nbconvert_exporter": "python",
   "pygments_lexer": "ipython3",
   "version": "3.8.5"
  },
  "toc": {
   "base_numbering": 1,
   "nav_menu": {},
   "number_sections": true,
   "sideBar": true,
   "skip_h1_title": false,
   "title_cell": "Table of Contents",
   "title_sidebar": "Contents",
   "toc_cell": false,
   "toc_position": {},
   "toc_section_display": true,
   "toc_window_display": false
  },
  "varInspector": {
   "cols": {
    "lenName": 16,
    "lenType": 16,
    "lenVar": 40
   },
   "kernels_config": {
    "python": {
     "delete_cmd_postfix": "",
     "delete_cmd_prefix": "del ",
     "library": "var_list.py",
     "varRefreshCmd": "print(var_dic_list())"
    },
    "r": {
     "delete_cmd_postfix": ") ",
     "delete_cmd_prefix": "rm(",
     "library": "var_list.r",
     "varRefreshCmd": "cat(var_dic_list()) "
    }
   },
   "types_to_exclude": [
    "module",
    "function",
    "builtin_function_or_method",
    "instance",
    "_Feature"
   ],
   "window_display": false
  }
 },
 "nbformat": 4,
 "nbformat_minor": 2
}
